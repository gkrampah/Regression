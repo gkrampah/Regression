{
 "cells": [
  {
   "cell_type": "code",
   "execution_count": 1,
   "metadata": {},
   "outputs": [],
   "source": [
    "import numpy as np\n",
    "import matplotlib.pyplot as plt\n",
    "import pandas as pd\n"
   ]
  },
  {
   "cell_type": "code",
   "execution_count": 2,
   "metadata": {},
   "outputs": [],
   "source": [
    "np.random.seed(72018)\n",
    "\n",
    "\n",
    "def to_2d(array):\n",
    "    return array.reshape(array.shape[0], -1)\n",
    "    \n",
    "def plot_exponential_data():\n",
    "    data = np.exp(np.random.normal(size=1000))\n",
    "    plt.hist(data)\n",
    "    plt.show()\n",
    "    return data\n",
    "    \n",
    "def plot_square_normal_data():\n",
    "    data = np.square(np.random.normal(loc=5, size=1000))\n",
    "    plt.hist(data)\n",
    "    plt.show()\n",
    "    return data"
   ]
  },
  {
   "cell_type": "code",
   "execution_count": 3,
   "metadata": {},
   "outputs": [],
   "source": [
    "file_name='https://cf-courses-data.s3.us.cloud-object-storage.appdomain.cloud/IBMDeveloperSkillsNetwork-ST0151EN-SkillsNetwork/labs/boston_housing.csv'\n",
    "boston_data = pd.read_csv(file_name)"
   ]
  },
  {
   "cell_type": "code",
   "execution_count": 4,
   "metadata": {},
   "outputs": [
    {
     "data": {
      "text/html": [
       "<div>\n",
       "<style scoped>\n",
       "    .dataframe tbody tr th:only-of-type {\n",
       "        vertical-align: middle;\n",
       "    }\n",
       "\n",
       "    .dataframe tbody tr th {\n",
       "        vertical-align: top;\n",
       "    }\n",
       "\n",
       "    .dataframe thead th {\n",
       "        text-align: right;\n",
       "    }\n",
       "</style>\n",
       "<table border=\"1\" class=\"dataframe\">\n",
       "  <thead>\n",
       "    <tr style=\"text-align: right;\">\n",
       "      <th></th>\n",
       "      <th>Unnamed: 0</th>\n",
       "      <th>CRIM</th>\n",
       "      <th>ZN</th>\n",
       "      <th>INDUS</th>\n",
       "      <th>CHAS</th>\n",
       "      <th>NOX</th>\n",
       "      <th>RM</th>\n",
       "      <th>AGE</th>\n",
       "      <th>DIS</th>\n",
       "      <th>RAD</th>\n",
       "      <th>TAX</th>\n",
       "      <th>PTRATIO</th>\n",
       "      <th>LSTAT</th>\n",
       "      <th>MEDV</th>\n",
       "    </tr>\n",
       "  </thead>\n",
       "  <tbody>\n",
       "    <tr>\n",
       "      <th>0</th>\n",
       "      <td>0</td>\n",
       "      <td>0.00632</td>\n",
       "      <td>18.0</td>\n",
       "      <td>2.31</td>\n",
       "      <td>0.0</td>\n",
       "      <td>0.538</td>\n",
       "      <td>6.575</td>\n",
       "      <td>65.2</td>\n",
       "      <td>4.0900</td>\n",
       "      <td>1.0</td>\n",
       "      <td>296.0</td>\n",
       "      <td>15.3</td>\n",
       "      <td>4.98</td>\n",
       "      <td>24.0</td>\n",
       "    </tr>\n",
       "    <tr>\n",
       "      <th>1</th>\n",
       "      <td>1</td>\n",
       "      <td>0.02731</td>\n",
       "      <td>0.0</td>\n",
       "      <td>7.07</td>\n",
       "      <td>0.0</td>\n",
       "      <td>0.469</td>\n",
       "      <td>6.421</td>\n",
       "      <td>78.9</td>\n",
       "      <td>4.9671</td>\n",
       "      <td>2.0</td>\n",
       "      <td>242.0</td>\n",
       "      <td>17.8</td>\n",
       "      <td>9.14</td>\n",
       "      <td>21.6</td>\n",
       "    </tr>\n",
       "    <tr>\n",
       "      <th>2</th>\n",
       "      <td>2</td>\n",
       "      <td>0.02729</td>\n",
       "      <td>0.0</td>\n",
       "      <td>7.07</td>\n",
       "      <td>0.0</td>\n",
       "      <td>0.469</td>\n",
       "      <td>7.185</td>\n",
       "      <td>61.1</td>\n",
       "      <td>4.9671</td>\n",
       "      <td>2.0</td>\n",
       "      <td>242.0</td>\n",
       "      <td>17.8</td>\n",
       "      <td>4.03</td>\n",
       "      <td>34.7</td>\n",
       "    </tr>\n",
       "    <tr>\n",
       "      <th>3</th>\n",
       "      <td>3</td>\n",
       "      <td>0.03237</td>\n",
       "      <td>0.0</td>\n",
       "      <td>2.18</td>\n",
       "      <td>0.0</td>\n",
       "      <td>0.458</td>\n",
       "      <td>6.998</td>\n",
       "      <td>45.8</td>\n",
       "      <td>6.0622</td>\n",
       "      <td>3.0</td>\n",
       "      <td>222.0</td>\n",
       "      <td>18.7</td>\n",
       "      <td>2.94</td>\n",
       "      <td>33.4</td>\n",
       "    </tr>\n",
       "    <tr>\n",
       "      <th>4</th>\n",
       "      <td>4</td>\n",
       "      <td>0.06905</td>\n",
       "      <td>0.0</td>\n",
       "      <td>2.18</td>\n",
       "      <td>0.0</td>\n",
       "      <td>0.458</td>\n",
       "      <td>7.147</td>\n",
       "      <td>54.2</td>\n",
       "      <td>6.0622</td>\n",
       "      <td>3.0</td>\n",
       "      <td>222.0</td>\n",
       "      <td>18.7</td>\n",
       "      <td>5.33</td>\n",
       "      <td>36.2</td>\n",
       "    </tr>\n",
       "    <tr>\n",
       "      <th>5</th>\n",
       "      <td>5</td>\n",
       "      <td>0.02985</td>\n",
       "      <td>0.0</td>\n",
       "      <td>2.18</td>\n",
       "      <td>0.0</td>\n",
       "      <td>0.458</td>\n",
       "      <td>6.430</td>\n",
       "      <td>58.7</td>\n",
       "      <td>6.0622</td>\n",
       "      <td>3.0</td>\n",
       "      <td>222.0</td>\n",
       "      <td>18.7</td>\n",
       "      <td>5.21</td>\n",
       "      <td>28.7</td>\n",
       "    </tr>\n",
       "    <tr>\n",
       "      <th>6</th>\n",
       "      <td>6</td>\n",
       "      <td>0.08829</td>\n",
       "      <td>12.5</td>\n",
       "      <td>7.87</td>\n",
       "      <td>0.0</td>\n",
       "      <td>0.524</td>\n",
       "      <td>6.012</td>\n",
       "      <td>66.6</td>\n",
       "      <td>5.5605</td>\n",
       "      <td>5.0</td>\n",
       "      <td>311.0</td>\n",
       "      <td>15.2</td>\n",
       "      <td>12.43</td>\n",
       "      <td>22.9</td>\n",
       "    </tr>\n",
       "    <tr>\n",
       "      <th>7</th>\n",
       "      <td>7</td>\n",
       "      <td>0.14455</td>\n",
       "      <td>12.5</td>\n",
       "      <td>7.87</td>\n",
       "      <td>0.0</td>\n",
       "      <td>0.524</td>\n",
       "      <td>6.172</td>\n",
       "      <td>96.1</td>\n",
       "      <td>5.9505</td>\n",
       "      <td>5.0</td>\n",
       "      <td>311.0</td>\n",
       "      <td>15.2</td>\n",
       "      <td>19.15</td>\n",
       "      <td>27.1</td>\n",
       "    </tr>\n",
       "    <tr>\n",
       "      <th>8</th>\n",
       "      <td>8</td>\n",
       "      <td>0.21124</td>\n",
       "      <td>12.5</td>\n",
       "      <td>7.87</td>\n",
       "      <td>0.0</td>\n",
       "      <td>0.524</td>\n",
       "      <td>5.631</td>\n",
       "      <td>100.0</td>\n",
       "      <td>6.0821</td>\n",
       "      <td>5.0</td>\n",
       "      <td>311.0</td>\n",
       "      <td>15.2</td>\n",
       "      <td>29.93</td>\n",
       "      <td>16.5</td>\n",
       "    </tr>\n",
       "    <tr>\n",
       "      <th>9</th>\n",
       "      <td>9</td>\n",
       "      <td>0.17004</td>\n",
       "      <td>12.5</td>\n",
       "      <td>7.87</td>\n",
       "      <td>0.0</td>\n",
       "      <td>0.524</td>\n",
       "      <td>6.004</td>\n",
       "      <td>85.9</td>\n",
       "      <td>6.5921</td>\n",
       "      <td>5.0</td>\n",
       "      <td>311.0</td>\n",
       "      <td>15.2</td>\n",
       "      <td>17.10</td>\n",
       "      <td>18.9</td>\n",
       "    </tr>\n",
       "    <tr>\n",
       "      <th>10</th>\n",
       "      <td>10</td>\n",
       "      <td>0.22489</td>\n",
       "      <td>12.5</td>\n",
       "      <td>7.87</td>\n",
       "      <td>0.0</td>\n",
       "      <td>0.524</td>\n",
       "      <td>6.377</td>\n",
       "      <td>94.3</td>\n",
       "      <td>6.3467</td>\n",
       "      <td>5.0</td>\n",
       "      <td>311.0</td>\n",
       "      <td>15.2</td>\n",
       "      <td>20.45</td>\n",
       "      <td>15.0</td>\n",
       "    </tr>\n",
       "    <tr>\n",
       "      <th>11</th>\n",
       "      <td>11</td>\n",
       "      <td>0.11747</td>\n",
       "      <td>12.5</td>\n",
       "      <td>7.87</td>\n",
       "      <td>0.0</td>\n",
       "      <td>0.524</td>\n",
       "      <td>6.009</td>\n",
       "      <td>82.9</td>\n",
       "      <td>6.2267</td>\n",
       "      <td>5.0</td>\n",
       "      <td>311.0</td>\n",
       "      <td>15.2</td>\n",
       "      <td>13.27</td>\n",
       "      <td>18.9</td>\n",
       "    </tr>\n",
       "    <tr>\n",
       "      <th>12</th>\n",
       "      <td>12</td>\n",
       "      <td>0.09378</td>\n",
       "      <td>12.5</td>\n",
       "      <td>7.87</td>\n",
       "      <td>0.0</td>\n",
       "      <td>0.524</td>\n",
       "      <td>5.889</td>\n",
       "      <td>39.0</td>\n",
       "      <td>5.4509</td>\n",
       "      <td>5.0</td>\n",
       "      <td>311.0</td>\n",
       "      <td>15.2</td>\n",
       "      <td>15.71</td>\n",
       "      <td>21.7</td>\n",
       "    </tr>\n",
       "    <tr>\n",
       "      <th>13</th>\n",
       "      <td>13</td>\n",
       "      <td>0.62976</td>\n",
       "      <td>0.0</td>\n",
       "      <td>8.14</td>\n",
       "      <td>0.0</td>\n",
       "      <td>0.538</td>\n",
       "      <td>5.949</td>\n",
       "      <td>61.8</td>\n",
       "      <td>4.7075</td>\n",
       "      <td>4.0</td>\n",
       "      <td>307.0</td>\n",
       "      <td>21.0</td>\n",
       "      <td>8.26</td>\n",
       "      <td>20.4</td>\n",
       "    </tr>\n",
       "    <tr>\n",
       "      <th>14</th>\n",
       "      <td>14</td>\n",
       "      <td>0.63796</td>\n",
       "      <td>0.0</td>\n",
       "      <td>8.14</td>\n",
       "      <td>0.0</td>\n",
       "      <td>0.538</td>\n",
       "      <td>6.096</td>\n",
       "      <td>84.5</td>\n",
       "      <td>4.4619</td>\n",
       "      <td>4.0</td>\n",
       "      <td>307.0</td>\n",
       "      <td>21.0</td>\n",
       "      <td>10.26</td>\n",
       "      <td>18.2</td>\n",
       "    </tr>\n",
       "  </tbody>\n",
       "</table>\n",
       "</div>"
      ],
      "text/plain": [
       "    Unnamed: 0     CRIM    ZN  INDUS  CHAS    NOX     RM    AGE     DIS  RAD  \\\n",
       "0            0  0.00632  18.0   2.31   0.0  0.538  6.575   65.2  4.0900  1.0   \n",
       "1            1  0.02731   0.0   7.07   0.0  0.469  6.421   78.9  4.9671  2.0   \n",
       "2            2  0.02729   0.0   7.07   0.0  0.469  7.185   61.1  4.9671  2.0   \n",
       "3            3  0.03237   0.0   2.18   0.0  0.458  6.998   45.8  6.0622  3.0   \n",
       "4            4  0.06905   0.0   2.18   0.0  0.458  7.147   54.2  6.0622  3.0   \n",
       "5            5  0.02985   0.0   2.18   0.0  0.458  6.430   58.7  6.0622  3.0   \n",
       "6            6  0.08829  12.5   7.87   0.0  0.524  6.012   66.6  5.5605  5.0   \n",
       "7            7  0.14455  12.5   7.87   0.0  0.524  6.172   96.1  5.9505  5.0   \n",
       "8            8  0.21124  12.5   7.87   0.0  0.524  5.631  100.0  6.0821  5.0   \n",
       "9            9  0.17004  12.5   7.87   0.0  0.524  6.004   85.9  6.5921  5.0   \n",
       "10          10  0.22489  12.5   7.87   0.0  0.524  6.377   94.3  6.3467  5.0   \n",
       "11          11  0.11747  12.5   7.87   0.0  0.524  6.009   82.9  6.2267  5.0   \n",
       "12          12  0.09378  12.5   7.87   0.0  0.524  5.889   39.0  5.4509  5.0   \n",
       "13          13  0.62976   0.0   8.14   0.0  0.538  5.949   61.8  4.7075  4.0   \n",
       "14          14  0.63796   0.0   8.14   0.0  0.538  6.096   84.5  4.4619  4.0   \n",
       "\n",
       "      TAX  PTRATIO  LSTAT  MEDV  \n",
       "0   296.0     15.3   4.98  24.0  \n",
       "1   242.0     17.8   9.14  21.6  \n",
       "2   242.0     17.8   4.03  34.7  \n",
       "3   222.0     18.7   2.94  33.4  \n",
       "4   222.0     18.7   5.33  36.2  \n",
       "5   222.0     18.7   5.21  28.7  \n",
       "6   311.0     15.2  12.43  22.9  \n",
       "7   311.0     15.2  19.15  27.1  \n",
       "8   311.0     15.2  29.93  16.5  \n",
       "9   311.0     15.2  17.10  18.9  \n",
       "10  311.0     15.2  20.45  15.0  \n",
       "11  311.0     15.2  13.27  18.9  \n",
       "12  311.0     15.2  15.71  21.7  \n",
       "13  307.0     21.0   8.26  20.4  \n",
       "14  307.0     21.0  10.26  18.2  "
      ]
     },
     "execution_count": 4,
     "metadata": {},
     "output_type": "execute_result"
    }
   ],
   "source": [
    "boston_data.head(15)"
   ]
  },
  {
   "cell_type": "markdown",
   "metadata": {},
   "source": [
    "### Determining Normality\n",
    "\n",
    "Making our target variable normally distributed often will lead to better results\n",
    "\n",
    "If our target is not normally distributed, we can apply a transformation to it and then fit our regression to predict the transformed values.\n",
    "\n",
    "How can we tell if our target is normally distributed? There are two ways:\n",
    "\n",
    "* Using a Visual approach\n",
    "* Using a Statistical Test\n"
   ]
  },
  {
   "cell_type": "code",
   "execution_count": 5,
   "metadata": {},
   "outputs": [
    {
     "data": {
      "image/png": "[encoded data removed]",
      "text/plain": [
       "<Figure size 432x288 with 1 Axes>"
      ]
     },
     "metadata": {
      "needs_background": "light"
     },
     "output_type": "display_data"
    }
   ],
   "source": [
    "boston_data.MEDV.hist();"
   ]
  },
  {
   "cell_type": "markdown",
   "metadata": {},
   "source": [
    "### Apply transformations to make target variable more normally distributed for Regression\n",
    "\n",
    "Linear Regression assumes a normally distributed residuals which can be aided by transforming **y** variable which is the target variable. Let's try some common transformations to try and get **y** to be normally distributed: \n",
    "\n",
    "* Log Transformation\n",
    "* Square root Transformation\n",
    "* Box cox Transformation\n",
    "\n"
   ]
  },
  {
   "cell_type": "code",
   "execution_count": 6,
   "metadata": {},
   "outputs": [
    {
     "data": {
      "image/png": "[encoded data removed]",
      "text/plain": [
       "<Figure size 432x288 with 1 Axes>"
      ]
     },
     "metadata": {
      "needs_background": "light"
     },
     "output_type": "display_data"
    }
   ],
   "source": [
    "log_medv = np.log(boston_data.MEDV)\n",
    "log_medv.hist();"
   ]
  },
  {
   "cell_type": "code",
   "execution_count": 7,
   "metadata": {},
   "outputs": [
    {
     "data": {
      "image/png": "[encoded data removed]",
      "text/plain": [
       "<Figure size 432x288 with 1 Axes>"
      ]
     },
     "metadata": {
      "needs_background": "light"
     },
     "output_type": "display_data"
    },
    {
     "data": {
      "image/png": "[encoded data removed]",
      "text/plain": [
       "<Figure size 432x288 with 1 Axes>"
      ]
     },
     "metadata": {
      "needs_background": "light"
     },
     "output_type": "display_data"
    }
   ],
   "source": [
    "from scipy.stats import boxcox\n",
    "bc_result = boxcox(boston_data.MEDV)\n",
    "boxcox_medv = bc_result[0]\n",
    "lam = bc_result[1]\n",
    "boston_data['MEDV'].hist();\n",
    "plt.figure();\n",
    "plt.hist(boxcox_medv);"
   ]
  },
  {
   "cell_type": "code",
   "execution_count": 8,
   "metadata": {},
   "outputs": [],
   "source": [
    "from sklearn.linear_model import LinearRegression\n",
    "from sklearn.metrics import r2_score\n",
    "from sklearn.model_selection import train_test_split\n",
    "from sklearn.preprocessing import (StandardScaler, \n",
    "                                   PolynomialFeatures)"
   ]
  },
  {
   "cell_type": "code",
   "execution_count": 9,
   "metadata": {},
   "outputs": [],
   "source": [
    "lr = LinearRegression()\n",
    "\n",
    "y_col = \"MEDV\"\n",
    "\n",
    "X = boston_data.drop(y_col, axis=1) # drop the column with the dependent variable\n",
    "y = boston_data[y_col] # keep the column with the dependent variable only\n",
    "\n",
    "# create polynomial features\n",
    "pf = PolynomialFeatures(degree=2, include_bias=False)\n",
    "X_pf = pf.fit_transform(X)\n",
    "\n",
    "# split the data into training and testing sets\n",
    "X_train, X_test, y_train, y_test = train_test_split(X_pf, y, test_size=0.3, \n",
    "                                                    random_state=72018)"
   ]
  },
  {
   "cell_type": "code",
   "execution_count": 10,
   "metadata": {},
   "outputs": [],
   "source": [
    "# normalize the dataset using z-score normalization\n",
    "s = StandardScaler()\n",
    "X_train_s = s.fit_transform(X_train)"
   ]
  },
  {
   "cell_type": "code",
   "execution_count": 11,
   "metadata": {},
   "outputs": [],
   "source": [
    "bc_result = boxcox(y_train)\n",
    "y_train_bc = bc_result[0]\n",
    "lam = bc_result[1]\n",
    "\n",
    "lr.fit(X_train_s, y_train_bc)\n",
    "X_test_s = s.transform(X_test)\n",
    "y_pred_bc = lr.predict(X_test_s)"
   ]
  },
  {
   "cell_type": "markdown",
   "metadata": {},
   "source": [
    "#### Apply inverse transformations to be able to use these in a Regression context\n"
   ]
  },
  {
   "cell_type": "code",
   "execution_count": 12,
   "metadata": {},
   "outputs": [
    {
     "data": {
      "text/plain": [
       "0.8480525379812767"
      ]
     },
     "execution_count": 12,
     "metadata": {},
     "output_type": "execute_result"
    }
   ],
   "source": [
    "from scipy.special import inv_boxcox\n",
    "y_pred = inv_boxcox(y_pred_bc, lam)\n",
    "\n",
    "r2_score(y_pred,y_test)"
   ]
  },
  {
   "cell_type": "code",
   "execution_count": 13,
   "metadata": {},
   "outputs": [
    {
     "data": {
      "text/plain": [
       "0.8667029116056754"
      ]
     },
     "execution_count": 13,
     "metadata": {},
     "output_type": "execute_result"
    }
   ],
   "source": [
    "lr = LinearRegression()\n",
    "lr.fit(X_train_s, y_train)\n",
    "y_pred = lr.predict(X_test_s)\n",
    "r2_score(y_pred,y_test)"
   ]
  },
  {
   "cell_type": "markdown",
   "metadata": {},
   "source": [
    "## Regression: Train-test Split LAB \n"
   ]
  },
  {
   "cell_type": "code",
   "execution_count": 14,
   "metadata": {},
   "outputs": [
    {
     "data": {
      "text/plain": [
       "(1379, 80)"
      ]
     },
     "execution_count": 14,
     "metadata": {},
     "output_type": "execute_result"
    }
   ],
   "source": [
    "path = \"https://cf-courses-data.s3.us.cloud-object-storage.appdomain.cloud/IBM-ML240EN-SkillsNetwork/labs/data/Ames_Housing_Sales.csv\"\n",
    "\n",
    "data = pd.read_csv(path)\n",
    "data.shape"
   ]
  },
  {
   "cell_type": "code",
   "execution_count": 15,
   "metadata": {},
   "outputs": [
    {
     "data": {
      "text/plain": [
       "(Index(['1stFlrSF', '2ndFlrSF', '3SsnPorch', 'Alley', 'BedroomAbvGr',\n",
       "        'BldgType', 'BsmtCond', 'BsmtExposure', 'BsmtFinSF1', 'BsmtFinSF2',\n",
       "        'BsmtFinType1', 'BsmtFinType2', 'BsmtFullBath', 'BsmtHalfBath',\n",
       "        'BsmtQual', 'BsmtUnfSF', 'CentralAir', 'Condition1', 'Condition2',\n",
       "        'Electrical', 'EnclosedPorch', 'ExterCond', 'ExterQual', 'Exterior1st',\n",
       "        'Exterior2nd', 'Fence', 'FireplaceQu', 'Fireplaces', 'Foundation',\n",
       "        'FullBath', 'Functional', 'GarageArea', 'GarageCars', 'GarageCond',\n",
       "        'GarageFinish', 'GarageQual', 'GarageType', 'GarageYrBlt', 'GrLivArea',\n",
       "        'HalfBath', 'Heating', 'HeatingQC', 'HouseStyle', 'KitchenAbvGr',\n",
       "        'KitchenQual', 'LandContour', 'LandSlope', 'LotArea', 'LotConfig',\n",
       "        'LotFrontage', 'LotShape', 'LowQualFinSF', 'MSSubClass', 'MSZoning',\n",
       "        'MasVnrArea', 'MasVnrType', 'MiscFeature', 'MiscVal', 'MoSold',\n",
       "        'Neighborhood', 'OpenPorchSF', 'OverallCond', 'OverallQual',\n",
       "        'PavedDrive', 'PoolArea', 'PoolQC', 'RoofMatl', 'RoofStyle',\n",
       "        'SaleCondition', 'SaleType', 'ScreenPorch', 'Street', 'TotRmsAbvGrd',\n",
       "        'TotalBsmtSF', 'Utilities', 'WoodDeckSF', 'YearBuilt', 'YearRemodAdd',\n",
       "        'YrSold', 'SalePrice'],\n",
       "       dtype='object'),\n",
       " RangeIndex(start=0, stop=1379, step=1))"
      ]
     },
     "execution_count": 15,
     "metadata": {},
     "output_type": "execute_result"
    }
   ],
   "source": [
    "data.columns, data.index"
   ]
  },
  {
   "cell_type": "code",
   "execution_count": 16,
   "metadata": {},
   "outputs": [
    {
     "data": {
      "text/html": [
       "<div>\n",
       "<style scoped>\n",
       "    .dataframe tbody tr th:only-of-type {\n",
       "        vertical-align: middle;\n",
       "    }\n",
       "\n",
       "    .dataframe tbody tr th {\n",
       "        vertical-align: top;\n",
       "    }\n",
       "\n",
       "    .dataframe thead th {\n",
       "        text-align: right;\n",
       "    }\n",
       "</style>\n",
       "<table border=\"1\" class=\"dataframe\">\n",
       "  <thead>\n",
       "    <tr style=\"text-align: right;\">\n",
       "      <th></th>\n",
       "      <th>1stFlrSF</th>\n",
       "      <th>2ndFlrSF</th>\n",
       "      <th>3SsnPorch</th>\n",
       "      <th>Alley</th>\n",
       "      <th>BedroomAbvGr</th>\n",
       "      <th>BldgType</th>\n",
       "      <th>BsmtCond</th>\n",
       "      <th>BsmtExposure</th>\n",
       "      <th>BsmtFinSF1</th>\n",
       "      <th>BsmtFinSF2</th>\n",
       "      <th>...</th>\n",
       "      <th>ScreenPorch</th>\n",
       "      <th>Street</th>\n",
       "      <th>TotRmsAbvGrd</th>\n",
       "      <th>TotalBsmtSF</th>\n",
       "      <th>Utilities</th>\n",
       "      <th>WoodDeckSF</th>\n",
       "      <th>YearBuilt</th>\n",
       "      <th>YearRemodAdd</th>\n",
       "      <th>YrSold</th>\n",
       "      <th>SalePrice</th>\n",
       "    </tr>\n",
       "  </thead>\n",
       "  <tbody>\n",
       "    <tr>\n",
       "      <th>0</th>\n",
       "      <td>856.0</td>\n",
       "      <td>854.0</td>\n",
       "      <td>0.0</td>\n",
       "      <td>None</td>\n",
       "      <td>3</td>\n",
       "      <td>1Fam</td>\n",
       "      <td>TA</td>\n",
       "      <td>No</td>\n",
       "      <td>706.0</td>\n",
       "      <td>0.0</td>\n",
       "      <td>...</td>\n",
       "      <td>0.0</td>\n",
       "      <td>Pave</td>\n",
       "      <td>8</td>\n",
       "      <td>856.0</td>\n",
       "      <td>AllPub</td>\n",
       "      <td>0.0</td>\n",
       "      <td>2003</td>\n",
       "      <td>2003</td>\n",
       "      <td>2008</td>\n",
       "      <td>208500.0</td>\n",
       "    </tr>\n",
       "    <tr>\n",
       "      <th>1</th>\n",
       "      <td>1262.0</td>\n",
       "      <td>0.0</td>\n",
       "      <td>0.0</td>\n",
       "      <td>None</td>\n",
       "      <td>3</td>\n",
       "      <td>1Fam</td>\n",
       "      <td>TA</td>\n",
       "      <td>Gd</td>\n",
       "      <td>978.0</td>\n",
       "      <td>0.0</td>\n",
       "      <td>...</td>\n",
       "      <td>0.0</td>\n",
       "      <td>Pave</td>\n",
       "      <td>6</td>\n",
       "      <td>1262.0</td>\n",
       "      <td>AllPub</td>\n",
       "      <td>298.0</td>\n",
       "      <td>1976</td>\n",
       "      <td>1976</td>\n",
       "      <td>2007</td>\n",
       "      <td>181500.0</td>\n",
       "    </tr>\n",
       "    <tr>\n",
       "      <th>2</th>\n",
       "      <td>920.0</td>\n",
       "      <td>866.0</td>\n",
       "      <td>0.0</td>\n",
       "      <td>None</td>\n",
       "      <td>3</td>\n",
       "      <td>1Fam</td>\n",
       "      <td>TA</td>\n",
       "      <td>Mn</td>\n",
       "      <td>486.0</td>\n",
       "      <td>0.0</td>\n",
       "      <td>...</td>\n",
       "      <td>0.0</td>\n",
       "      <td>Pave</td>\n",
       "      <td>6</td>\n",
       "      <td>920.0</td>\n",
       "      <td>AllPub</td>\n",
       "      <td>0.0</td>\n",
       "      <td>2001</td>\n",
       "      <td>2002</td>\n",
       "      <td>2008</td>\n",
       "      <td>223500.0</td>\n",
       "    </tr>\n",
       "    <tr>\n",
       "      <th>3</th>\n",
       "      <td>961.0</td>\n",
       "      <td>756.0</td>\n",
       "      <td>0.0</td>\n",
       "      <td>None</td>\n",
       "      <td>3</td>\n",
       "      <td>1Fam</td>\n",
       "      <td>Gd</td>\n",
       "      <td>No</td>\n",
       "      <td>216.0</td>\n",
       "      <td>0.0</td>\n",
       "      <td>...</td>\n",
       "      <td>0.0</td>\n",
       "      <td>Pave</td>\n",
       "      <td>7</td>\n",
       "      <td>756.0</td>\n",
       "      <td>AllPub</td>\n",
       "      <td>0.0</td>\n",
       "      <td>1915</td>\n",
       "      <td>1970</td>\n",
       "      <td>2006</td>\n",
       "      <td>140000.0</td>\n",
       "    </tr>\n",
       "    <tr>\n",
       "      <th>4</th>\n",
       "      <td>1145.0</td>\n",
       "      <td>1053.0</td>\n",
       "      <td>0.0</td>\n",
       "      <td>None</td>\n",
       "      <td>4</td>\n",
       "      <td>1Fam</td>\n",
       "      <td>TA</td>\n",
       "      <td>Av</td>\n",
       "      <td>655.0</td>\n",
       "      <td>0.0</td>\n",
       "      <td>...</td>\n",
       "      <td>0.0</td>\n",
       "      <td>Pave</td>\n",
       "      <td>9</td>\n",
       "      <td>1145.0</td>\n",
       "      <td>AllPub</td>\n",
       "      <td>192.0</td>\n",
       "      <td>2000</td>\n",
       "      <td>2000</td>\n",
       "      <td>2008</td>\n",
       "      <td>250000.0</td>\n",
       "    </tr>\n",
       "  </tbody>\n",
       "</table>\n",
       "<p>5 rows × 80 columns</p>\n",
       "</div>"
      ],
      "text/plain": [
       "   1stFlrSF  2ndFlrSF  3SsnPorch Alley  BedroomAbvGr BldgType BsmtCond  \\\n",
       "0     856.0     854.0        0.0  None             3     1Fam       TA   \n",
       "1    1262.0       0.0        0.0  None             3     1Fam       TA   \n",
       "2     920.0     866.0        0.0  None             3     1Fam       TA   \n",
       "3     961.0     756.0        0.0  None             3     1Fam       Gd   \n",
       "4    1145.0    1053.0        0.0  None             4     1Fam       TA   \n",
       "\n",
       "  BsmtExposure  BsmtFinSF1  BsmtFinSF2  ... ScreenPorch Street  TotRmsAbvGrd  \\\n",
       "0           No       706.0         0.0  ...         0.0   Pave             8   \n",
       "1           Gd       978.0         0.0  ...         0.0   Pave             6   \n",
       "2           Mn       486.0         0.0  ...         0.0   Pave             6   \n",
       "3           No       216.0         0.0  ...         0.0   Pave             7   \n",
       "4           Av       655.0         0.0  ...         0.0   Pave             9   \n",
       "\n",
       "   TotalBsmtSF Utilities  WoodDeckSF YearBuilt YearRemodAdd YrSold SalePrice  \n",
       "0        856.0    AllPub         0.0      2003         2003   2008  208500.0  \n",
       "1       1262.0    AllPub       298.0      1976         1976   2007  181500.0  \n",
       "2        920.0    AllPub         0.0      2001         2002   2008  223500.0  \n",
       "3        756.0    AllPub         0.0      1915         1970   2006  140000.0  \n",
       "4       1145.0    AllPub       192.0      2000         2000   2008  250000.0  \n",
       "\n",
       "[5 rows x 80 columns]"
      ]
     },
     "execution_count": 16,
     "metadata": {},
     "output_type": "execute_result"
    }
   ],
   "source": [
    "data.head(5)#, data.tail(5)"
   ]
  },
  {
   "cell_type": "code",
   "execution_count": 17,
   "metadata": {},
   "outputs": [
    {
     "data": {
      "text/plain": [
       "1stFlrSF        float64\n",
       "2ndFlrSF        float64\n",
       "3SsnPorch       float64\n",
       "Alley            object\n",
       "BedroomAbvGr      int64\n",
       "                 ...   \n",
       "WoodDeckSF      float64\n",
       "YearBuilt         int64\n",
       "YearRemodAdd      int64\n",
       "YrSold            int64\n",
       "SalePrice       float64\n",
       "Length: 80, dtype: object"
      ]
     },
     "execution_count": 17,
     "metadata": {},
     "output_type": "execute_result"
    }
   ],
   "source": [
    "data.dtypes"
   ]
  },
  {
   "cell_type": "code",
   "execution_count": 18,
   "metadata": {},
   "outputs": [
    {
     "data": {
      "text/plain": [
       "object     43\n",
       "float64    21\n",
       "int64      16\n",
       "dtype: int64"
      ]
     },
     "execution_count": 18,
     "metadata": {},
     "output_type": "execute_result"
    }
   ],
   "source": [
    "data.dtypes.value_counts()"
   ]
  },
  {
   "cell_type": "code",
   "execution_count": 19,
   "metadata": {},
   "outputs": [],
   "source": [
    "# Select the object (string) columns\n",
    "mask = data.dtypes == np.object\n",
    "categorical_cols = data.columns[mask]"
   ]
  },
  {
   "cell_type": "code",
   "execution_count": 20,
   "metadata": {},
   "outputs": [
    {
     "data": {
      "text/plain": [
       "Neighborhood     25\n",
       "Exterior2nd      16\n",
       "Exterior1st      14\n",
       "SaleType          9\n",
       "Condition1        9\n",
       "HouseStyle        8\n",
       "RoofMatl          8\n",
       "Condition2        8\n",
       "Functional        7\n",
       "BsmtFinType2      7\n",
       "FireplaceQu       6\n",
       "Foundation        6\n",
       "RoofStyle         6\n",
       "SaleCondition     6\n",
       "BsmtFinType1      6\n",
       "Heating           6\n",
       "GarageType        6\n",
       "BsmtExposure      5\n",
       "Electrical        5\n",
       "Fence             5\n",
       "GarageCond        5\n",
       "GarageQual        5\n",
       "BsmtQual          5\n",
       "LotConfig         5\n",
       "MSZoning          5\n",
       "MiscFeature       5\n",
       "BldgType          5\n",
       "HeatingQC         5\n",
       "KitchenQual       4\n",
       "LandContour       4\n",
       "BsmtCond          4\n",
       "LotShape          4\n",
       "MasVnrType        4\n",
       "ExterQual         4\n",
       "ExterCond         4\n",
       "PoolQC            4\n",
       "Alley             3\n",
       "GarageFinish      3\n",
       "LandSlope         3\n",
       "PavedDrive        3\n",
       "CentralAir        2\n",
       "Street            2\n",
       "Utilities         2\n",
       "dtype: int64"
      ]
     },
     "execution_count": 20,
     "metadata": {},
     "output_type": "execute_result"
    }
   ],
   "source": [
    "# Determine how many extra columns would be created\n",
    "num_ohc_cols = (data[categorical_cols]\n",
    "                .apply(lambda x: x.nunique())\n",
    "                .sort_values(ascending=False))\n",
    "\n",
    "num_ohc_cols"
   ]
  },
  {
   "cell_type": "code",
   "execution_count": 21,
   "metadata": {},
   "outputs": [
    {
     "data": {
      "text/plain": [
       "215"
      ]
     },
     "execution_count": 21,
     "metadata": {},
     "output_type": "execute_result"
    }
   ],
   "source": [
    "\n",
    "# No need to encode if there is only one value\n",
    "small_num_ohc_cols = num_ohc_cols.loc[num_ohc_cols>1]\n",
    "\n",
    "# Number of one-hot columns is one less than the number of categories\n",
    "small_num_ohc_cols -= 1\n",
    "\n",
    "# This is 215 columns, assuming the original ones are dropped. \n",
    "# This is quite a few extra columns!\n",
    "small_num_ohc_cols.sum()"
   ]
  },
  {
   "cell_type": "code",
   "execution_count": 22,
   "metadata": {},
   "outputs": [],
   "source": [
    "from sklearn.preprocessing import OneHotEncoder, LabelEncoder\n",
    "\n",
    "# Copy of the data\n",
    "data_ohc = data.copy()\n",
    "\n",
    "# The encoders\n",
    "le = LabelEncoder()\n",
    "ohc = OneHotEncoder()\n",
    "\n",
    "for col in num_ohc_cols.index:\n",
    "    \n",
    "    # Integer encode the string categories\n",
    "    dat = le.fit_transform(data_ohc[col]).astype(np.int)\n",
    "    \n",
    "    # Remove the original column from the dataframe\n",
    "    data_ohc = data_ohc.drop(col, axis=1)\n",
    "\n",
    "    # One hot encode the data--this returns a sparse array\n",
    "    new_dat = ohc.fit_transform(dat.reshape(-1,1))\n",
    "\n",
    "    # Create unique column names\n",
    "    n_cols = new_dat.shape[1]\n",
    "    col_names = ['_'.join([col, str(x)]) for x in range(n_cols)]\n",
    "\n",
    "    # Create the new dataframe\n",
    "    new_df = pd.DataFrame(new_dat.toarray(), \n",
    "                          index=data_ohc.index, \n",
    "                          columns=col_names)\n",
    "\n",
    "    # Append the new data to the dataframe\n",
    "    data_ohc = pd.concat([data_ohc, new_df], axis=1)"
   ]
  },
  {
   "cell_type": "code",
   "execution_count": 23,
   "metadata": {},
   "outputs": [
    {
     "data": {
      "text/plain": [
       "215"
      ]
     },
     "execution_count": 23,
     "metadata": {},
     "output_type": "execute_result"
    }
   ],
   "source": [
    "# Column difference is as calculated above\n",
    "data_ohc.shape[1] - data.shape[1]"
   ]
  },
  {
   "cell_type": "code",
   "execution_count": 24,
   "metadata": {},
   "outputs": [
    {
     "name": "stdout",
     "output_type": "stream",
     "text": [
      "80\n",
      "37\n"
     ]
    }
   ],
   "source": [
    "print(data.shape[1])\n",
    "\n",
    "# Remove the string columns from the dataframe\n",
    "data = data.drop(num_ohc_cols.index, axis=1)\n",
    "\n",
    "print(data.shape[1])"
   ]
  },
  {
   "cell_type": "code",
   "execution_count": 25,
   "metadata": {},
   "outputs": [],
   "source": [
    "from sklearn.model_selection import train_test_split\n",
    "\n",
    "y_col = 'SalePrice'\n",
    "\n",
    "# Split the data that is not one-hot encoded\n",
    "feature_cols = [x for x in data.columns if x != y_col]\n",
    "X_data = data[feature_cols]\n",
    "y_data = data[y_col]\n",
    "\n",
    "X_train, X_test, y_train, y_test = train_test_split(X_data, y_data, \n",
    "                                                    test_size=0.3, random_state=42)\n",
    "# Split the data that is one-hot encoded\n",
    "feature_cols = [x for x in data_ohc.columns if x != y_col]\n",
    "X_data_ohc = data_ohc[feature_cols]\n",
    "y_data_ohc = data_ohc[y_col]\n",
    "\n",
    "X_train_ohc, X_test_ohc, y_train_ohc, y_test_ohc = train_test_split(X_data_ohc, y_data_ohc, \n",
    "                                                    test_size=0.3, random_state=42)"
   ]
  },
  {
   "cell_type": "code",
   "execution_count": 26,
   "metadata": {},
   "outputs": [
    {
     "data": {
      "text/plain": [
       "True"
      ]
     },
     "execution_count": 26,
     "metadata": {},
     "output_type": "execute_result"
    }
   ],
   "source": [
    "# Compare the indices to ensure they are identical\n",
    "(X_train_ohc.index == X_train.index).all()"
   ]
  },
  {
   "cell_type": "code",
   "execution_count": 27,
   "metadata": {},
   "outputs": [
    {
     "data": {
      "text/html": [
       "<div>\n",
       "<style scoped>\n",
       "    .dataframe tbody tr th:only-of-type {\n",
       "        vertical-align: middle;\n",
       "    }\n",
       "\n",
       "    .dataframe tbody tr th {\n",
       "        vertical-align: top;\n",
       "    }\n",
       "\n",
       "    .dataframe thead th {\n",
       "        text-align: right;\n",
       "    }\n",
       "</style>\n",
       "<table border=\"1\" class=\"dataframe\">\n",
       "  <thead>\n",
       "    <tr style=\"text-align: right;\">\n",
       "      <th></th>\n",
       "      <th>no enc</th>\n",
       "      <th>one-hot enc</th>\n",
       "    </tr>\n",
       "  </thead>\n",
       "  <tbody>\n",
       "    <tr>\n",
       "      <th>train</th>\n",
       "      <td>1.131507e+09</td>\n",
       "      <td>3.177257e+08</td>\n",
       "    </tr>\n",
       "    <tr>\n",
       "      <th>test</th>\n",
       "      <td>1.372182e+09</td>\n",
       "      <td>2.487311e+21</td>\n",
       "    </tr>\n",
       "  </tbody>\n",
       "</table>\n",
       "</div>"
      ],
      "text/plain": [
       "             no enc   one-hot enc\n",
       "train  1.131507e+09  3.177257e+08\n",
       "test   1.372182e+09  2.487311e+21"
      ]
     },
     "execution_count": 27,
     "metadata": {},
     "output_type": "execute_result"
    }
   ],
   "source": [
    "from sklearn.metrics import mean_squared_error\n",
    "\n",
    "LR = LinearRegression()\n",
    "\n",
    "# Storage for error values\n",
    "error_df = []\n",
    "\n",
    "# Data that have not been one-hot encoded\n",
    "LR = LR.fit(X_train, y_train)\n",
    "y_train_pred = LR.predict(X_train)\n",
    "y_test_pred = LR.predict(X_test)\n",
    "\n",
    "error_df.append(pd.Series({'train': mean_squared_error(y_train, y_train_pred),\n",
    "                           'test' : mean_squared_error(y_test,  y_test_pred)},\n",
    "                           name='no enc'))\n",
    "\n",
    "# Data that have been one-hot encoded\n",
    "LR = LR.fit(X_train_ohc, y_train_ohc)\n",
    "y_train_ohc_pred = LR.predict(X_train_ohc)\n",
    "y_test_ohc_pred = LR.predict(X_test_ohc)\n",
    "\n",
    "error_df.append(pd.Series({'train': mean_squared_error(y_train_ohc, y_train_ohc_pred),\n",
    "                           'test' : mean_squared_error(y_test_ohc,  y_test_ohc_pred)},\n",
    "                          name='one-hot enc'))\n",
    "\n",
    "# Assemble the results\n",
    "error_df = pd.concat(error_df, axis=1)\n",
    "error_df"
   ]
  },
  {
   "cell_type": "code",
   "execution_count": 28,
   "metadata": {},
   "outputs": [
    {
     "name": "stdout",
     "output_type": "stream",
     "text": [
      "not_encoded - standardscaling        1.372182e+09\n",
      "not_encoded - minmaxscaling          1.371708e+09\n",
      "not_encoded - maxabsscaling          1.371642e+09\n",
      "one_hot_encoded - standardscaling    8.065328e+09\n",
      "one_hot_encoded - minmaxscaling      8.065328e+09\n",
      "one_hot_encoded - maxabsscaling      8.065328e+09\n",
      "--------------------------------------------------------------------------------\n",
      "not_encoded - standardscaling 1372182358.9345026\n",
      "not_encoded - minmaxscaling 1371707893.0494356\n",
      "not_encoded - maxabsscaling 1371641684.6261\n",
      "one_hot_encoded - standardscaling 8065327607.247184\n",
      "one_hot_encoded - minmaxscaling 8065327607.431376\n",
      "one_hot_encoded - maxabsscaling 8065327607.240114\n"
     ]
    }
   ],
   "source": [
    "from sklearn.preprocessing import StandardScaler, MinMaxScaler, MaxAbsScaler\n",
    "\n",
    "\n",
    "scalers = {'standard': StandardScaler(),\n",
    "           'minmax': MinMaxScaler(),\n",
    "           'maxabs': MaxAbsScaler()}\n",
    "\n",
    "training_test_sets = {\n",
    "    'not_encoded': (X_train, y_train, X_test, y_test),\n",
    "    'one_hot_encoded': (X_train_ohc, y_train_ohc, X_test_ohc, y_test_ohc)}\n",
    "\n",
    "\n",
    "# Get the list of float columns, and the float data\n",
    "# so that we don't scale something we already scaled. \n",
    "# We're supposed to scale the original data each time\n",
    "mask = X_train.dtypes == np.float\n",
    "float_columns = X_train.columns[mask]\n",
    "\n",
    "# initialize model\n",
    "LR = LinearRegression()\n",
    "\n",
    "# iterate over all possible combinations and get the errors\n",
    "errors = {}\n",
    "for encoding_label, (_X_train, _y_train, _X_test, _y_test) in training_test_sets.items():\n",
    "    for scaler_label, scaler in scalers.items():\n",
    "        trainingset = _X_train.copy()  # copy because we dont want to scale this more than once.\n",
    "        testset = _X_test.copy()\n",
    "        trainingset[float_columns] = scaler.fit_transform(trainingset[float_columns])\n",
    "        testset[float_columns] = scaler.transform(testset[float_columns])\n",
    "        LR.fit(trainingset, _y_train)\n",
    "        predictions = LR.predict(testset)\n",
    "        key = encoding_label + ' - ' + scaler_label + 'scaling'\n",
    "        errors[key] = mean_squared_error(_y_test, predictions)\n",
    "\n",
    "errors = pd.Series(errors)\n",
    "print(errors.to_string())\n",
    "print('-' * 80)\n",
    "for key, error_val in errors.items():\n",
    "    print(key, error_val)"
   ]
  },
  {
   "cell_type": "code",
   "execution_count": 29,
   "metadata": {},
   "outputs": [
    {
     "data": {
      "image/png": "[encoded data removed]",
      "text/plain": [
       "<Figure size 432x288 with 1 Axes>"
      ]
     },
     "metadata": {
      "needs_background": "light"
     },
     "output_type": "display_data"
    }
   ],
   "source": [
    "ax = plt.axes()\n",
    "# we are going to use y_test, y_test_pred\n",
    "ax.scatter(y_test, y_test_pred, alpha=.5)\n",
    "\n",
    "ax.set(xlabel='Ground truth', \n",
    "       ylabel='Predictions',\n",
    "       title='Ames, Iowa House Price Predictions vs Truth, using Linear Regression');"
   ]
  },
  {
   "cell_type": "markdown",
   "metadata": {},
   "source": [
    "# Polynomial Regression\n"
   ]
  },
  {
   "cell_type": "code",
   "execution_count": 30,
   "metadata": {},
   "outputs": [],
   "source": [
    "from sklearn.feature_selection import SelectKBest, f_regression\n",
    "from sklearn.pipeline import Pipeline\n",
    "from sklearn.model_selection import GridSearchCV\n",
    "from sklearn.metrics import r2_score, mean_squared_error\n",
    "from sklearn.preprocessing import PolynomialFeatures\n",
    "import seaborn as sns \n",
    "from sklearn.datasets import load_digits, load_wine\n"
   ]
  },
  {
   "cell_type": "code",
   "execution_count": 31,
   "metadata": {},
   "outputs": [],
   "source": [
    "path = 'https://cf-courses-data.s3.us.cloud-object-storage.appdomain.cloud/IBM-ML240EN-SkillsNetwork/labs/encoded_car_data.csv'\n",
    "data = pd.read_csv(path)"
   ]
  },
  {
   "cell_type": "code",
   "execution_count": 32,
   "metadata": {},
   "outputs": [
    {
     "name": "stdout",
     "output_type": "stream",
     "text": [
      "<class 'pandas.core.frame.DataFrame'>\n",
      "RangeIndex: 205 entries, 0 to 204\n",
      "Data columns (total 36 columns):\n",
      " #   Column       Non-Null Count  Dtype  \n",
      "---  ------       --------------  -----  \n",
      " 0   diesel       205 non-null    float64\n",
      " 1   gas          205 non-null    float64\n",
      " 2   std          205 non-null    float64\n",
      " 3   turbo        205 non-null    float64\n",
      " 4   convertible  205 non-null    float64\n",
      " 5   hardtop      205 non-null    float64\n",
      " 6   hatchback    205 non-null    float64\n",
      " 7   sedan        205 non-null    float64\n",
      " 8   wagon        205 non-null    float64\n",
      " 9   4wd          205 non-null    float64\n",
      " 10  fwd          205 non-null    float64\n",
      " 11  rwd          205 non-null    float64\n",
      " 12  dohc         205 non-null    float64\n",
      " 13  dohcv        205 non-null    float64\n",
      " 14  l            205 non-null    float64\n",
      " 15  ohc          205 non-null    float64\n",
      " 16  ohcf         205 non-null    float64\n",
      " 17  ohcv         205 non-null    float64\n",
      " 18  rotor        205 non-null    float64\n",
      " 19  eight        205 non-null    float64\n",
      " 20  five         205 non-null    float64\n",
      " 21  four         205 non-null    float64\n",
      " 22  six          205 non-null    float64\n",
      " 23  three        205 non-null    float64\n",
      " 24  twelve       205 non-null    float64\n",
      " 25  two          205 non-null    float64\n",
      " 26  wheelbase    205 non-null    float64\n",
      " 27  curbweight   205 non-null    float64\n",
      " 28  enginesize   205 non-null    float64\n",
      " 29  boreratio    205 non-null    float64\n",
      " 30  horsepower   205 non-null    float64\n",
      " 31  carlength    205 non-null    float64\n",
      " 32  carwidth     205 non-null    float64\n",
      " 33  citympg      205 non-null    float64\n",
      " 34  highwaympg   205 non-null    float64\n",
      " 35  price        205 non-null    float64\n",
      "dtypes: float64(36)\n",
      "memory usage: 57.8 KB\n"
     ]
    }
   ],
   "source": [
    "data.info()"
   ]
  },
  {
   "cell_type": "code",
   "execution_count": 33,
   "metadata": {},
   "outputs": [
    {
     "data": {
      "text/html": [
       "<div>\n",
       "<style scoped>\n",
       "    .dataframe tbody tr th:only-of-type {\n",
       "        vertical-align: middle;\n",
       "    }\n",
       "\n",
       "    .dataframe tbody tr th {\n",
       "        vertical-align: top;\n",
       "    }\n",
       "\n",
       "    .dataframe thead th {\n",
       "        text-align: right;\n",
       "    }\n",
       "</style>\n",
       "<table border=\"1\" class=\"dataframe\">\n",
       "  <thead>\n",
       "    <tr style=\"text-align: right;\">\n",
       "      <th></th>\n",
       "      <th>diesel</th>\n",
       "      <th>gas</th>\n",
       "      <th>std</th>\n",
       "      <th>turbo</th>\n",
       "      <th>convertible</th>\n",
       "      <th>hardtop</th>\n",
       "      <th>hatchback</th>\n",
       "      <th>sedan</th>\n",
       "      <th>wagon</th>\n",
       "      <th>4wd</th>\n",
       "      <th>...</th>\n",
       "      <th>wheelbase</th>\n",
       "      <th>curbweight</th>\n",
       "      <th>enginesize</th>\n",
       "      <th>boreratio</th>\n",
       "      <th>horsepower</th>\n",
       "      <th>carlength</th>\n",
       "      <th>carwidth</th>\n",
       "      <th>citympg</th>\n",
       "      <th>highwaympg</th>\n",
       "      <th>price</th>\n",
       "    </tr>\n",
       "  </thead>\n",
       "  <tbody>\n",
       "    <tr>\n",
       "      <th>0</th>\n",
       "      <td>0.0</td>\n",
       "      <td>1.0</td>\n",
       "      <td>1.0</td>\n",
       "      <td>0.0</td>\n",
       "      <td>1.0</td>\n",
       "      <td>0.0</td>\n",
       "      <td>0.0</td>\n",
       "      <td>0.0</td>\n",
       "      <td>0.0</td>\n",
       "      <td>0.0</td>\n",
       "      <td>...</td>\n",
       "      <td>88.6</td>\n",
       "      <td>2548.0</td>\n",
       "      <td>130.0</td>\n",
       "      <td>3.47</td>\n",
       "      <td>111.0</td>\n",
       "      <td>168.8</td>\n",
       "      <td>64.1</td>\n",
       "      <td>21.0</td>\n",
       "      <td>27.0</td>\n",
       "      <td>13495.0</td>\n",
       "    </tr>\n",
       "    <tr>\n",
       "      <th>1</th>\n",
       "      <td>0.0</td>\n",
       "      <td>1.0</td>\n",
       "      <td>1.0</td>\n",
       "      <td>0.0</td>\n",
       "      <td>1.0</td>\n",
       "      <td>0.0</td>\n",
       "      <td>0.0</td>\n",
       "      <td>0.0</td>\n",
       "      <td>0.0</td>\n",
       "      <td>0.0</td>\n",
       "      <td>...</td>\n",
       "      <td>88.6</td>\n",
       "      <td>2548.0</td>\n",
       "      <td>130.0</td>\n",
       "      <td>3.47</td>\n",
       "      <td>111.0</td>\n",
       "      <td>168.8</td>\n",
       "      <td>64.1</td>\n",
       "      <td>21.0</td>\n",
       "      <td>27.0</td>\n",
       "      <td>16500.0</td>\n",
       "    </tr>\n",
       "    <tr>\n",
       "      <th>2</th>\n",
       "      <td>0.0</td>\n",
       "      <td>1.0</td>\n",
       "      <td>1.0</td>\n",
       "      <td>0.0</td>\n",
       "      <td>0.0</td>\n",
       "      <td>0.0</td>\n",
       "      <td>1.0</td>\n",
       "      <td>0.0</td>\n",
       "      <td>0.0</td>\n",
       "      <td>0.0</td>\n",
       "      <td>...</td>\n",
       "      <td>94.5</td>\n",
       "      <td>2823.0</td>\n",
       "      <td>152.0</td>\n",
       "      <td>2.68</td>\n",
       "      <td>154.0</td>\n",
       "      <td>171.2</td>\n",
       "      <td>65.5</td>\n",
       "      <td>19.0</td>\n",
       "      <td>26.0</td>\n",
       "      <td>16500.0</td>\n",
       "    </tr>\n",
       "    <tr>\n",
       "      <th>3</th>\n",
       "      <td>0.0</td>\n",
       "      <td>1.0</td>\n",
       "      <td>1.0</td>\n",
       "      <td>0.0</td>\n",
       "      <td>0.0</td>\n",
       "      <td>0.0</td>\n",
       "      <td>0.0</td>\n",
       "      <td>1.0</td>\n",
       "      <td>0.0</td>\n",
       "      <td>0.0</td>\n",
       "      <td>...</td>\n",
       "      <td>99.8</td>\n",
       "      <td>2337.0</td>\n",
       "      <td>109.0</td>\n",
       "      <td>3.19</td>\n",
       "      <td>102.0</td>\n",
       "      <td>176.6</td>\n",
       "      <td>66.2</td>\n",
       "      <td>24.0</td>\n",
       "      <td>30.0</td>\n",
       "      <td>13950.0</td>\n",
       "    </tr>\n",
       "    <tr>\n",
       "      <th>4</th>\n",
       "      <td>0.0</td>\n",
       "      <td>1.0</td>\n",
       "      <td>1.0</td>\n",
       "      <td>0.0</td>\n",
       "      <td>0.0</td>\n",
       "      <td>0.0</td>\n",
       "      <td>0.0</td>\n",
       "      <td>1.0</td>\n",
       "      <td>0.0</td>\n",
       "      <td>1.0</td>\n",
       "      <td>...</td>\n",
       "      <td>99.4</td>\n",
       "      <td>2824.0</td>\n",
       "      <td>136.0</td>\n",
       "      <td>3.19</td>\n",
       "      <td>115.0</td>\n",
       "      <td>176.6</td>\n",
       "      <td>66.4</td>\n",
       "      <td>18.0</td>\n",
       "      <td>22.0</td>\n",
       "      <td>17450.0</td>\n",
       "    </tr>\n",
       "  </tbody>\n",
       "</table>\n",
       "<p>5 rows × 36 columns</p>\n",
       "</div>"
      ],
      "text/plain": [
       "   diesel  gas  std  turbo  convertible  hardtop  hatchback  sedan  wagon  \\\n",
       "0     0.0  1.0  1.0    0.0          1.0      0.0        0.0    0.0    0.0   \n",
       "1     0.0  1.0  1.0    0.0          1.0      0.0        0.0    0.0    0.0   \n",
       "2     0.0  1.0  1.0    0.0          0.0      0.0        1.0    0.0    0.0   \n",
       "3     0.0  1.0  1.0    0.0          0.0      0.0        0.0    1.0    0.0   \n",
       "4     0.0  1.0  1.0    0.0          0.0      0.0        0.0    1.0    0.0   \n",
       "\n",
       "   4wd  ...  wheelbase  curbweight  enginesize  boreratio  horsepower  \\\n",
       "0  0.0  ...       88.6      2548.0       130.0       3.47       111.0   \n",
       "1  0.0  ...       88.6      2548.0       130.0       3.47       111.0   \n",
       "2  0.0  ...       94.5      2823.0       152.0       2.68       154.0   \n",
       "3  0.0  ...       99.8      2337.0       109.0       3.19       102.0   \n",
       "4  1.0  ...       99.4      2824.0       136.0       3.19       115.0   \n",
       "\n",
       "   carlength  carwidth  citympg  highwaympg    price  \n",
       "0      168.8      64.1     21.0        27.0  13495.0  \n",
       "1      168.8      64.1     21.0        27.0  16500.0  \n",
       "2      171.2      65.5     19.0        26.0  16500.0  \n",
       "3      176.6      66.2     24.0        30.0  13950.0  \n",
       "4      176.6      66.4     18.0        22.0  17450.0  \n",
       "\n",
       "[5 rows x 36 columns]"
      ]
     },
     "execution_count": 33,
     "metadata": {},
     "output_type": "execute_result"
    }
   ],
   "source": [
    "data.head()"
   ]
  },
  {
   "cell_type": "code",
   "execution_count": 34,
   "metadata": {},
   "outputs": [
    {
     "data": {
      "text/plain": [
       "<seaborn.axisgrid.FacetGrid at 0x7ff7b8e6ccf8>"
      ]
     },
     "execution_count": 34,
     "metadata": {},
     "output_type": "execute_result"
    },
    {
     "data": {
      "image/png": "[encoded data removed]",
      "text/plain": [
       "<Figure size 360x360 with 1 Axes>"
      ]
     },
     "metadata": {
      "needs_background": "light"
     },
     "output_type": "display_data"
    }
   ],
   "source": [
    "# Visualize some of the relationships between our features and the target variable, 'price'.\n",
    "\n",
    "sns.lmplot(x = 'curbweight', y = 'price', data = data, order=2)"
   ]
  },
  {
   "cell_type": "code",
   "execution_count": 35,
   "metadata": {},
   "outputs": [
    {
     "data": {
      "text/plain": [
       "<seaborn.axisgrid.FacetGrid at 0x7ff7cdf6b940>"
      ]
     },
     "execution_count": 35,
     "metadata": {},
     "output_type": "execute_result"
    },
    {
     "data": {
      "image/png": "[encoded data removed]",
      "text/plain": [
       "<Figure size 360x360 with 1 Axes>"
      ]
     },
     "metadata": {
      "needs_background": "light"
     },
     "output_type": "display_data"
    }
   ],
   "source": [
    "sns.lmplot(x = 'carlength', y = 'price', data = data, order=2)"
   ]
  },
  {
   "cell_type": "code",
   "execution_count": 36,
   "metadata": {},
   "outputs": [
    {
     "data": {
      "text/plain": [
       "<seaborn.axisgrid.FacetGrid at 0x7ff7b8dd0a58>"
      ]
     },
     "execution_count": 36,
     "metadata": {},
     "output_type": "execute_result"
    },
    {
     "data": {
      "image/png": "[encoded data removed]",
      "text/plain": [
       "<Figure size 360x360 with 1 Axes>"
      ]
     },
     "metadata": {
      "needs_background": "light"
     },
     "output_type": "display_data"
    }
   ],
   "source": [
    "sns.lmplot(x = 'horsepower', y = 'price', data = data, order=2)"
   ]
  },
  {
   "cell_type": "markdown",
   "metadata": {},
   "source": [
    "## Data Preparation\n",
    "\n",
    "Let's first split our data into `X` features and `y` target.\n"
   ]
  },
  {
   "cell_type": "code",
   "execution_count": 37,
   "metadata": {},
   "outputs": [
    {
     "name": "stdout",
     "output_type": "stream",
     "text": [
      "Number of test samples: 62\n",
      "Number of training samples: 143\n"
     ]
    }
   ],
   "source": [
    "X = data.drop('price', axis=1)\n",
    "y = data.price\n",
    "\n",
    "X_train, X_test, y_train, y_test = train_test_split(X,y, test_size=0.3, random_state=42)\n",
    "print(\"Number of test samples:\", X_test.shape[0])\n",
    "print(\"Number of training samples:\", X_train.shape[0])"
   ]
  },
  {
   "cell_type": "code",
   "execution_count": 38,
   "metadata": {},
   "outputs": [
    {
     "name": "stdout",
     "output_type": "stream",
     "text": [
      "R^2 on training  data  0.9262651646705269\n",
      "R^2 on testing data  0.8478792754250901\n"
     ]
    }
   ],
   "source": [
    "lm = LinearRegression()\n",
    "lm.fit(X_train, y_train)\n",
    "predicted = lm.predict(X_test)\n",
    "\n",
    "#Let's calculate the `r2_score()` on both, training and testing data sets.\n",
    "\n",
    "print(\"R^2 on training  data \",lm.score(X_train, y_train))\n",
    "print(\"R^2 on testing data \",lm.score(X_test,y_test))"
   ]
  },
  {
   "cell_type": "code",
   "execution_count": 39,
   "metadata": {},
   "outputs": [
    {
     "data": {
      "image/png": "[encoded data removed]",
      "text/plain": [
       "<Figure size 432x288 with 1 Axes>"
      ]
     },
     "metadata": {
      "needs_background": "light"
     },
     "output_type": "display_data"
    }
   ],
   "source": [
    "def  plot_dis(y,yhat):\n",
    "    \n",
    "    plt.figure()\n",
    "    ax1 = sns.distplot(y, hist=False, color=\"r\", label=\"Actual Value\")\n",
    "    sns.distplot(yhat, hist=False, color=\"b\", label=\"Fitted Values\" , ax=ax1)\n",
    "    plt.legend()\n",
    "\n",
    "    plt.title('Actual vs Fitted Values')\n",
    "    plt.xlabel('Price (in dollars)')\n",
    "    plt.ylabel('Proportion of Cars')\n",
    "\n",
    "    plt.show()\n",
    "    plt.close()\n",
    "\n",
    "plot_dis(y_test,predicted)"
   ]
  },
  {
   "cell_type": "markdown",
   "metadata": {},
   "source": [
    "Below, we will view the estimated coefficients for the linear regression problem.\n"
   ]
  },
  {
   "cell_type": "code",
   "execution_count": 40,
   "metadata": {},
   "outputs": [
    {
     "data": {
      "text/plain": [
       "{'diesel': 173288834788427.38,\n",
       " 'gas': 173288834786874.88,\n",
       " 'std': 322.60459989379984,\n",
       " 'turbo': -319.2555398352061,\n",
       " 'convertible': 1769.8961729655746,\n",
       " 'hardtop': 3131.5917169809586,\n",
       " 'hatchback': -1757.0531327286305,\n",
       " 'sedan': -677.1093412092303,\n",
       " 'wagon': -2481.4883546324613,\n",
       " '4wd': -637.3835282673355,\n",
       " 'fwd': -269.83332253756913,\n",
       " 'rwd': 898.1537997972503,\n",
       " 'dohc': 2469.0429622745087,\n",
       " 'dohcv': -13312.309414080195,\n",
       " 'l': 2159.752311114508,\n",
       " 'ohc': 4649.195161396634,\n",
       " 'ohcf': 6103.987371989788,\n",
       " 'ohcv': -2845.3152143538837,\n",
       " 'rotor': 782.9371603753108,\n",
       " 'eight': 9226.500403228913,\n",
       " 'five': -2734.5264487811496,\n",
       " 'four': -5342.341966817486,\n",
       " 'six': -2147.405812814984,\n",
       " 'three': -0.0001220703125,\n",
       " 'twelve': 214.85370153317544,\n",
       " 'two': 782.9293478753108,\n",
       " 'wheelbase': 101.8603997894142,\n",
       " 'curbweight': 4.848079732557239,\n",
       " 'enginesize': 23.570340265312197,\n",
       " 'boreratio': -1780.546880527828,\n",
       " 'horsepower': 68.47795756150647,\n",
       " 'carlength': -65.88646889323942,\n",
       " 'carwidth': 577.931370906322,\n",
       " 'citympg': -165.6381274043671,\n",
       " 'highwaympg': 147.88074182390147}"
      ]
     },
     "execution_count": 40,
     "metadata": {},
     "output_type": "execute_result"
    }
   ],
   "source": [
    "{col:coef for col,coef in zip(X.columns, lm.coef_)}"
   ]
  },
  {
   "cell_type": "code",
   "execution_count": 41,
   "metadata": {},
   "outputs": [
    {
     "data": {
      "image/png": "[encoded data removed]",
      "text/plain": [
       "<Figure size 432x288 with 1 Axes>"
      ]
     },
     "metadata": {
      "needs_background": "light"
     },
     "output_type": "display_data"
    }
   ],
   "source": [
    "plt.bar(X.columns[2:],abs(lm.coef_[2:]))\n",
    "plt.xticks(rotation=90)\n",
    "plt.ylabel(\"$coefficients$\")\n",
    "plt.show()"
   ]
  },
  {
   "cell_type": "markdown",
   "metadata": {},
   "source": [
    "### Individual Features\n",
    "Usually, we can interpret the lager coefficients as having more importance on the prediction, but this is not always the case, so let's look at the individual features.\n",
    "\n",
    "We can train the model and plot our $R^2$ for each of the features on the training and testing data sets, using the function <code>get_R2\\_features</code>.\n"
   ]
  },
  {
   "cell_type": "code",
   "execution_count": 42,
   "metadata": {},
   "outputs": [
    {
     "data": {
      "image/png": "[encoded data removed]",
      "text/plain": [
       "<Figure size 432x288 with 1 Axes>"
      ]
     },
     "metadata": {
      "needs_background": "light"
     },
     "output_type": "display_data"
    },
    {
     "name": "stdout",
     "output_type": "stream",
     "text": [
      "Training R^2 mean value 0.21817773426877915 Testing R^2 mean value 0.18241493035139267 \n",
      "Training R^2 max value 0.7686929078033782 Testing R^2 max value 0.7534902447506853 \n"
     ]
    }
   ],
   "source": [
    "def get_R2_features(model,test=True): \n",
    "    #X: global  \n",
    "    features=list(X)\n",
    "    features.remove(\"three\")\n",
    "    \n",
    "    R_2_train=[]\n",
    "    R_2_test=[]\n",
    "\n",
    "    for feature in features:\n",
    "        model.fit(X_train[[feature]],y_train)\n",
    "        \n",
    "        R_2_test.append(model.score(X_test[[feature]],y_test))\n",
    "        R_2_train.append(model.score(X_train[[feature]],y_train))\n",
    "        \n",
    "    plt.bar(features,R_2_train,label=\"Train\")\n",
    "    plt.bar(features,R_2_test,label=\"Test\")\n",
    "    plt.xticks(rotation=90)\n",
    "    plt.ylabel(\"$R^2$\")\n",
    "    plt.legend()\n",
    "    plt.show()\n",
    "    print(\"Training R^2 mean value {} Testing R^2 mean value {} \".format(str(np.mean(R_2_train)),str(np.mean(R_2_test))) )\n",
    "    print(\"Training R^2 max value {} Testing R^2 max value {} \".format(str(np.max(R_2_train)),str(np.max(R_2_test))) )\n",
    "\n",
    "\n",
    "get_R2_features(lm)"
   ]
  },
  {
   "cell_type": "code",
   "execution_count": 43,
   "metadata": {},
   "outputs": [
    {
     "name": "stdout",
     "output_type": "stream",
     "text": [
      "R^2 on training  data  0.9262722224294516\n",
      "R^2 on testing data  0.8419174509630339\n"
     ]
    },
    {
     "data": {
      "image/png": "[encoded data removed]",
      "text/plain": [
       "<Figure size 432x288 with 1 Axes>"
      ]
     },
     "metadata": {
      "needs_background": "light"
     },
     "output_type": "display_data"
    }
   ],
   "source": [
    "pipe = Pipeline([('ss',StandardScaler() ),('lr', LinearRegression())])\n",
    "pipe.fit(X_train,y_train)\n",
    "print(\"R^2 on training  data \", pipe.score(X_train, y_train))\n",
    "print(\"R^2 on testing data \", pipe.score(X_test,y_test))\n",
    "predicted = pipe.predict(X_test)\n",
    "plot_dis(y_test,predicted)\n",
    "\n"
   ]
  },
  {
   "cell_type": "code",
   "execution_count": 44,
   "metadata": {},
   "outputs": [
    {
     "data": {
      "image/png": "[encoded data removed]",
      "text/plain": [
       "<Figure size 432x288 with 1 Axes>"
      ]
     },
     "metadata": {
      "needs_background": "light"
     },
     "output_type": "display_data"
    },
    {
     "name": "stdout",
     "output_type": "stream",
     "text": [
      "Training R^2 mean value 0.21817773426877915 Testing R^2 mean value 0.18241493035139264 \n",
      "Training R^2 max value 0.7686929078033782 Testing R^2 max value 0.7534902447506853 \n"
     ]
    }
   ],
   "source": [
    "pipe = Pipeline([('ss',StandardScaler() ),('lr', LinearRegression())])\n",
    "get_R2_features(pipe)\n",
    "# We see the model has a negative $R^{2}$ on the test data set, this is sign of overfiting.\n"
   ]
  },
  {
   "cell_type": "markdown",
   "metadata": {},
   "source": [
    "## Polynomial Features\n",
    "### Multiple Features\n",
    "Polynomial transform is a simple way to increase the complexity of the model, but we must be mindful of overfilling.\n",
    "Below, we will perform a second degree (degree=2) polynomial transformation.\n"
   ]
  },
  {
   "cell_type": "code",
   "execution_count": 45,
   "metadata": {},
   "outputs": [],
   "source": [
    "poly_features = PolynomialFeatures(degree=2, include_bias=False)\n",
    "\n",
    "X_train_poly = poly_features.fit_transform(X_train)\n",
    "X_test_poly = poly_features.transform(X_test)"
   ]
  },
  {
   "cell_type": "code",
   "execution_count": 46,
   "metadata": {},
   "outputs": [
    {
     "name": "stdout",
     "output_type": "stream",
     "text": [
      "R^2 on training data: 0.9985318497975862\n",
      "R^2 on testing data: -36729.958502237954\n"
     ]
    }
   ],
   "source": [
    "lm = LinearRegression()\n",
    "lm.fit(X_train_poly, y_train)\n",
    "predicted = lm.predict(X_train_poly)\n",
    "\n",
    "print(\"R^2 on training data:\", lm.score(X_train_poly, y_train))\n",
    "print(\"R^2 on testing data:\", lm.score(X_test_poly,y_test))"
   ]
  },
  {
   "cell_type": "code",
   "execution_count": 47,
   "metadata": {},
   "outputs": [
    {
     "name": "stdout",
     "output_type": "stream",
     "text": [
      "R^2 on training  data: 0.9985318497975862\n",
      "R^2 on testing data: -36729.958502237954\n"
     ]
    }
   ],
   "source": [
    "Input=[ ('polynomial', PolynomialFeatures(include_bias=False,degree=2)), ('model', LinearRegression())]\n",
    "\n",
    "pipe=Pipeline(Input)\n",
    "pipe.fit(X_train, y_train)\n",
    "\n",
    "print(\"R^2 on training  data:\", pipe.score(X_train, y_train))\n",
    "print(\"R^2 on testing data:\", pipe.score(X_test,y_test))"
   ]
  },
  {
   "cell_type": "code",
   "execution_count": 48,
   "metadata": {},
   "outputs": [
    {
     "data": {
      "image/png": "[encoded data removed]",
      "text/plain": [
       "<Figure size 432x288 with 1 Axes>"
      ]
     },
     "metadata": {
      "needs_background": "light"
     },
     "output_type": "display_data"
    },
    {
     "name": "stdout",
     "output_type": "stream",
     "text": [
      "Training R^2 mean value 0.23080932570421026 Testing R^2 mean value 0.1948108022494353 \n",
      "Training R^2 max value 0.7706959974452947 Testing R^2 max value 0.7463370080614307 \n"
     ]
    }
   ],
   "source": [
    "get_R2_features(pipe)"
   ]
  },
  {
   "cell_type": "markdown",
   "metadata": {},
   "source": [
    "## GridSearch and  Pipeline\n"
   ]
  },
  {
   "cell_type": "code",
   "execution_count": 49,
   "metadata": {},
   "outputs": [
    {
     "data": {
      "text/plain": [
       "Pipeline(steps=[('polynomial',\n",
       "                 PolynomialFeatures(degree=3, include_bias=False)),\n",
       "                ('scaler', StandardScaler()), ('model', LinearRegression())])"
      ]
     },
     "execution_count": 49,
     "metadata": {},
     "output_type": "execute_result"
    }
   ],
   "source": [
    "Input=[ ('polynomial', PolynomialFeatures(include_bias=False,degree=2)), ('scaler', StandardScaler()),('model',LinearRegression() )]\n",
    "pipe=Pipeline(Input)\n",
    "\n",
    "param_grid = {\n",
    "    \"polynomial__degree\": [1, 2, 3],\n",
    " \n",
    "    \n",
    "}\n",
    "search = GridSearchCV(pipe, param_grid, n_jobs=1)\n",
    "pipe.fit(X_train, y_train)\n",
    "search.fit(X_train, y_train)\n",
    "\n",
    "best=search.best_estimator_\n",
    "best"
   ]
  },
  {
   "cell_type": "code",
   "execution_count": 50,
   "metadata": {},
   "outputs": [
    {
     "data": {
      "text/plain": [
       "-1.4766343603696876e+22"
      ]
     },
     "execution_count": 50,
     "metadata": {},
     "output_type": "execute_result"
    }
   ],
   "source": [
    "best.score(X_test,y_test)"
   ]
  },
  {
   "cell_type": "code",
   "execution_count": 51,
   "metadata": {},
   "outputs": [
    {
     "data": {
      "image/png": "[encoded data removed]",
      "text/plain": [
       "<Figure size 432x288 with 1 Axes>"
      ]
     },
     "metadata": {
      "needs_background": "light"
     },
     "output_type": "display_data"
    }
   ],
   "source": [
    "predicted=best.predict(X_test)\n",
    "plot_dis(y_test,predicted)"
   ]
  },
  {
   "cell_type": "code",
   "execution_count": 52,
   "metadata": {},
   "outputs": [
    {
     "name": "stdout",
     "output_type": "stream",
     "text": [
      "diesel\n"
     ]
    },
    {
     "name": "stdout",
     "output_type": "stream",
     "text": [
      "gas\n",
      "std\n",
      "turbo\n",
      "convertible\n",
      "hardtop\n",
      "hatchback\n",
      "sedan\n",
      "wagon\n",
      "4wd\n",
      "fwd\n",
      "rwd\n",
      "dohc\n",
      "dohcv\n",
      "l\n",
      "ohc\n",
      "ohcf\n",
      "ohcv\n",
      "rotor\n",
      "eight\n",
      "five\n",
      "four\n",
      "six\n",
      "three\n",
      "twelve\n",
      "two\n",
      "wheelbase\n",
      "curbweight\n",
      "enginesize\n",
      "boreratio\n",
      "horsepower\n",
      "carlength\n",
      "carwidth\n",
      "citympg\n",
      "highwaympg\n"
     ]
    },
    {
     "data": {
      "image/png": "[encoded data removed]",
      "text/plain": [
       "<Figure size 432x288 with 1 Axes>"
      ]
     },
     "metadata": {
      "needs_background": "light"
     },
     "output_type": "display_data"
    },
    {
     "name": "stdout",
     "output_type": "stream",
     "text": [
      "Training R^2 mean value 0.19548931184709648 Testing R^2 mean value 0.2197188684613423 \n",
      "Training R^2 max value 0.765323637379124 Testing R^2 max value 0.7565151400968062 \n"
     ]
    }
   ],
   "source": [
    "features=list(X)\n",
    "\n",
    "R_2_train=[]\n",
    "R_2_test=[]\n",
    "\n",
    "for feature in features:\n",
    "    param_grid = {\n",
    "    \"polynomial__degree\": [ 1, 2,3,4,5]}\n",
    "    Input=[ ('polynomial', PolynomialFeatures(include_bias=False,degree=2)), ('model',LinearRegression())]\n",
    "    pipe=Pipeline(Input)\n",
    "    print(feature)\n",
    "    search = GridSearchCV(pipe, param_grid, n_jobs=2)\n",
    "    search.fit(X_test[[feature]], y_test)\n",
    "    best=search.best_estimator_\n",
    "\n",
    "    R_2_test.append(best.score(X_test[[feature]],y_test))\n",
    "    R_2_train.append(best.score(X_train[[feature]],y_train))\n",
    "\n",
    "\n",
    "plt.bar(features,R_2_train,label=\"Train\")\n",
    "plt.bar(features,R_2_test,label=\"Test\")\n",
    "plt.xticks(rotation=90)\n",
    "plt.ylabel(\"$R^2$\")\n",
    "plt.legend()\n",
    "plt.show()\n",
    "print(\"Training R^2 mean value {} Testing R^2 mean value {} \".format(str(np.mean(R_2_train)),str(np.mean(R_2_test))) )\n",
    "print(\"Training R^2 max value {} Testing R^2 max value {} \".format(str(np.max(R_2_train)),str(np.max(R_2_test))) )"
   ]
  },
  {
   "cell_type": "markdown",
   "metadata": {},
   "source": [
    "# Cross Validation \n",
    "\n",
    "* Chain multiple data processing steps together using `Pipeline`\n",
    "* Use the `KFolds` object to split data into multiple folds.\n",
    "* Perform cross validation using SciKit Learn with `cross_val_predict` and `GridSearchCV`"
   ]
  },
  {
   "cell_type": "code",
   "execution_count": 53,
   "metadata": {},
   "outputs": [],
   "source": [
    "from sklearn.preprocessing import StandardScaler, PolynomialFeatures\n",
    "from sklearn.model_selection import KFold, cross_val_predict\n",
    "from sklearn.linear_model import LinearRegression, Lasso, Ridge\n",
    "from sklearn.metrics import r2_score\n",
    "from sklearn.pipeline import Pipeline\n",
    "import pickle\n"
   ]
  },
  {
   "cell_type": "code",
   "execution_count": 54,
   "metadata": {},
   "outputs": [],
   "source": [
    "path = \"https://cf-courses-data.s3.us.cloud-object-storage.appdomain.cloud/IBM-ML240EN-SkillsNetwork/labs/data/boston_housing_clean.pickle\"\n",
    "\n",
    "boston =  pd.read_pickle(path)"
   ]
  },
  {
   "cell_type": "code",
   "execution_count": 55,
   "metadata": {},
   "outputs": [
    {
     "data": {
      "text/plain": [
       "dict_keys(['dataframe', 'description'])"
      ]
     },
     "execution_count": 55,
     "metadata": {},
     "output_type": "execute_result"
    }
   ],
   "source": [
    "boston.keys()"
   ]
  },
  {
   "cell_type": "code",
   "execution_count": 56,
   "metadata": {},
   "outputs": [
    {
     "data": {
      "text/html": [
       "<div>\n",
       "<style scoped>\n",
       "    .dataframe tbody tr th:only-of-type {\n",
       "        vertical-align: middle;\n",
       "    }\n",
       "\n",
       "    .dataframe tbody tr th {\n",
       "        vertical-align: top;\n",
       "    }\n",
       "\n",
       "    .dataframe thead th {\n",
       "        text-align: right;\n",
       "    }\n",
       "</style>\n",
       "<table border=\"1\" class=\"dataframe\">\n",
       "  <thead>\n",
       "    <tr style=\"text-align: right;\">\n",
       "      <th></th>\n",
       "      <th>CRIM</th>\n",
       "      <th>ZN</th>\n",
       "      <th>INDUS</th>\n",
       "      <th>CHAS</th>\n",
       "      <th>NOX</th>\n",
       "      <th>RM</th>\n",
       "      <th>AGE</th>\n",
       "      <th>DIS</th>\n",
       "      <th>RAD</th>\n",
       "      <th>TAX</th>\n",
       "      <th>PTRATIO</th>\n",
       "      <th>B</th>\n",
       "      <th>LSTAT</th>\n",
       "      <th>MEDV</th>\n",
       "    </tr>\n",
       "  </thead>\n",
       "  <tbody>\n",
       "    <tr>\n",
       "      <th>0</th>\n",
       "      <td>0.00632</td>\n",
       "      <td>18.0</td>\n",
       "      <td>2.31</td>\n",
       "      <td>0.0</td>\n",
       "      <td>0.538</td>\n",
       "      <td>6.575</td>\n",
       "      <td>65.2</td>\n",
       "      <td>4.0900</td>\n",
       "      <td>1.0</td>\n",
       "      <td>296.0</td>\n",
       "      <td>15.3</td>\n",
       "      <td>396.90</td>\n",
       "      <td>4.98</td>\n",
       "      <td>24.0</td>\n",
       "    </tr>\n",
       "    <tr>\n",
       "      <th>1</th>\n",
       "      <td>0.02731</td>\n",
       "      <td>0.0</td>\n",
       "      <td>7.07</td>\n",
       "      <td>0.0</td>\n",
       "      <td>0.469</td>\n",
       "      <td>6.421</td>\n",
       "      <td>78.9</td>\n",
       "      <td>4.9671</td>\n",
       "      <td>2.0</td>\n",
       "      <td>242.0</td>\n",
       "      <td>17.8</td>\n",
       "      <td>396.90</td>\n",
       "      <td>9.14</td>\n",
       "      <td>21.6</td>\n",
       "    </tr>\n",
       "    <tr>\n",
       "      <th>2</th>\n",
       "      <td>0.02729</td>\n",
       "      <td>0.0</td>\n",
       "      <td>7.07</td>\n",
       "      <td>0.0</td>\n",
       "      <td>0.469</td>\n",
       "      <td>7.185</td>\n",
       "      <td>61.1</td>\n",
       "      <td>4.9671</td>\n",
       "      <td>2.0</td>\n",
       "      <td>242.0</td>\n",
       "      <td>17.8</td>\n",
       "      <td>392.83</td>\n",
       "      <td>4.03</td>\n",
       "      <td>34.7</td>\n",
       "    </tr>\n",
       "    <tr>\n",
       "      <th>3</th>\n",
       "      <td>0.03237</td>\n",
       "      <td>0.0</td>\n",
       "      <td>2.18</td>\n",
       "      <td>0.0</td>\n",
       "      <td>0.458</td>\n",
       "      <td>6.998</td>\n",
       "      <td>45.8</td>\n",
       "      <td>6.0622</td>\n",
       "      <td>3.0</td>\n",
       "      <td>222.0</td>\n",
       "      <td>18.7</td>\n",
       "      <td>394.63</td>\n",
       "      <td>2.94</td>\n",
       "      <td>33.4</td>\n",
       "    </tr>\n",
       "    <tr>\n",
       "      <th>4</th>\n",
       "      <td>0.06905</td>\n",
       "      <td>0.0</td>\n",
       "      <td>2.18</td>\n",
       "      <td>0.0</td>\n",
       "      <td>0.458</td>\n",
       "      <td>7.147</td>\n",
       "      <td>54.2</td>\n",
       "      <td>6.0622</td>\n",
       "      <td>3.0</td>\n",
       "      <td>222.0</td>\n",
       "      <td>18.7</td>\n",
       "      <td>396.90</td>\n",
       "      <td>5.33</td>\n",
       "      <td>36.2</td>\n",
       "    </tr>\n",
       "  </tbody>\n",
       "</table>\n",
       "</div>"
      ],
      "text/plain": [
       "      CRIM    ZN  INDUS  CHAS    NOX     RM   AGE     DIS  RAD    TAX  \\\n",
       "0  0.00632  18.0   2.31   0.0  0.538  6.575  65.2  4.0900  1.0  296.0   \n",
       "1  0.02731   0.0   7.07   0.0  0.469  6.421  78.9  4.9671  2.0  242.0   \n",
       "2  0.02729   0.0   7.07   0.0  0.469  7.185  61.1  4.9671  2.0  242.0   \n",
       "3  0.03237   0.0   2.18   0.0  0.458  6.998  45.8  6.0622  3.0  222.0   \n",
       "4  0.06905   0.0   2.18   0.0  0.458  7.147  54.2  6.0622  3.0  222.0   \n",
       "\n",
       "   PTRATIO       B  LSTAT  MEDV  \n",
       "0     15.3  396.90   4.98  24.0  \n",
       "1     17.8  396.90   9.14  21.6  \n",
       "2     17.8  392.83   4.03  34.7  \n",
       "3     18.7  394.63   2.94  33.4  \n",
       "4     18.7  396.90   5.33  36.2  "
      ]
     },
     "execution_count": 56,
     "metadata": {},
     "output_type": "execute_result"
    }
   ],
   "source": [
    "boston_data = boston['dataframe']\n",
    "boston_description = boston['description']\n",
    "boston_data.head()"
   ]
  },
  {
   "cell_type": "code",
   "execution_count": 57,
   "metadata": {},
   "outputs": [
    {
     "name": "stdout",
     "output_type": "stream",
     "text": [
      "Train index: [ 1  3  4  5  7  8 10 11 12 13] 337\n",
      "Test index: [ 0  2  6  9 15 17 19 23 25 26] 169\n",
      "\n",
      "Train index: [ 0  2  6  9 10 11 12 13 15 17] 337\n",
      "Test index: [ 1  3  4  5  7  8 14 16 22 27] 169\n",
      "\n",
      "Train index: [0 1 2 3 4 5 6 7 8 9] 338\n",
      "Test index: [10 11 12 13 18 20 21 24 28 31] 168\n",
      "\n"
     ]
    }
   ],
   "source": [
    "X = boston_data.drop('MEDV', axis=1)\n",
    "y = boston_data.MEDV\n",
    "kf = KFold(shuffle=True, random_state=72018, n_splits=3)\n",
    "\n",
    "# compute index for train and test set using .split() method\n",
    "for train_index, test_index in kf.split(X):\n",
    "    print(\"Train index:\", train_index[:10], len(train_index))\n",
    "    print(\"Test index:\",test_index[:10], len(test_index))\n",
    "    print('')"
   ]
  },
  {
   "cell_type": "code",
   "execution_count": 58,
   "metadata": {},
   "outputs": [
    {
     "data": {
      "text/plain": [
       "[0.6719348798472755, 0.7485020059212368, 0.6976807323597749]"
      ]
     },
     "execution_count": 58,
     "metadata": {},
     "output_type": "execute_result"
    }
   ],
   "source": [
    "scores = []\n",
    "lr = LinearRegression()\n",
    "\n",
    "for train_index, test_index in kf.split(X):\n",
    "    X_train, X_test, y_train, y_test = (X.iloc[train_index, :], \n",
    "                                        X.iloc[test_index, :], \n",
    "                                        y[train_index], \n",
    "                                        y[test_index])\n",
    "    \n",
    "    lr.fit(X_train, y_train)\n",
    "        \n",
    "    y_pred = lr.predict(X_test)\n",
    "\n",
    "    score = r2_score(y_test.values, y_pred)\n",
    "    \n",
    "    scores.append(score)\n",
    "    \n",
    "scores"
   ]
  },
  {
   "cell_type": "code",
   "execution_count": 59,
   "metadata": {},
   "outputs": [
    {
     "data": {
      "text/plain": [
       "[0.6719348798472713, 0.748502005921238, 0.6976807323597742]"
      ]
     },
     "execution_count": 59,
     "metadata": {},
     "output_type": "execute_result"
    }
   ],
   "source": [
    "scores = []\n",
    "\n",
    "lr = LinearRegression()\n",
    "s = StandardScaler()\n",
    "\n",
    "for train_index, test_index in kf.split(X):\n",
    "    X_train, X_test, y_train, y_test = (X.iloc[train_index, :], \n",
    "                                        X.iloc[test_index, :], \n",
    "                                        y[train_index], \n",
    "                                        y[test_index])\n",
    "    \n",
    "    X_train_s = s.fit_transform(X_train)\n",
    "    \n",
    "    lr.fit(X_train_s, y_train)\n",
    "    \n",
    "    X_test_s = s.transform(X_test)\n",
    "    \n",
    "    y_pred = lr.predict(X_test_s)\n",
    "\n",
    "    score = r2_score(y_test.values, y_pred)\n",
    "    \n",
    "    scores.append(score)\n",
    "\n",
    "# The scores are the same as before. Scaling actually doesn't matter for performance)\n",
    "scores"
   ]
  },
  {
   "cell_type": "code",
   "execution_count": 60,
   "metadata": {},
   "outputs": [
    {
     "data": {
      "text/plain": [
       "(0.7063531064161559, 0.7060392060427612)"
      ]
     },
     "execution_count": 60,
     "metadata": {},
     "output_type": "execute_result"
    }
   ],
   "source": [
    "# all the process can be simplified using pipeline and cross_val_predict\n",
    "lr = LinearRegression()\n",
    "s = StandardScaler()\n",
    "pipe = Pipeline([('scaler', s), ('lr', lr)])\n",
    "kf = KFold(shuffle=True, random_state=72018, n_splits=3)\n",
    "\n",
    "predictions = cross_val_predict(pipe, X, y, cv=kf)\n",
    "\n",
    "# pipe is still not fitted. If we want to predict on new data, we still have to train our pipe model.\n",
    "r2_score(y, predictions), np.mean(scores) # almost identical!"
   ]
  },
  {
   "cell_type": "markdown",
   "metadata": {},
   "source": [
    "## Hyperparameter tuning\n",
    "**Hyperparameter tuning** involves using cross validation (or train-test split) to determine which hyperparameters are most likely to generate a model that _generalizes_ well outside of your sample.\n"
   ]
  },
  {
   "cell_type": "code",
   "execution_count": 61,
   "metadata": {},
   "outputs": [
    {
     "data": {
      "text/plain": [
       "array([1.e-09, 1.e-08, 1.e-07, 1.e-06, 1.e-05, 1.e-04, 1.e-03, 1.e-02,\n",
       "       1.e-01, 1.e+00])"
      ]
     },
     "execution_count": 61,
     "metadata": {},
     "output_type": "execute_result"
    }
   ],
   "source": [
    "# the more alpha is the less complex the model is and vice versa\n",
    "alphas = np.geomspace(1e-9, 1e0, num=10)\n",
    "alphas"
   ]
  },
  {
   "cell_type": "code",
   "execution_count": 62,
   "metadata": {},
   "outputs": [
    {
     "data": {
      "text/plain": [
       "[(1e-09, 0.7063531064981925),\n",
       " (1e-08, 0.7063531072356071),\n",
       " (1e-07, 0.7063531145602442),\n",
       " (1e-06, 0.7063531882052065),\n",
       " (1e-05, 0.7063539165191507),\n",
       " (0.0001, 0.706361268093463),\n",
       " (0.001, 0.706433467041546),\n",
       " (0.01, 0.7070865958083233),\n",
       " (0.1, 0.705838151167185),\n",
       " (1.0, 0.6512724532884887)]"
      ]
     },
     "execution_count": 62,
     "metadata": {},
     "output_type": "execute_result"
    }
   ],
   "source": [
    "scores = []\n",
    "coefs = []\n",
    "for alpha in alphas:\n",
    "    las = Lasso(alpha=alpha, max_iter=100000)\n",
    "    \n",
    "    estimator = Pipeline([\n",
    "        (\"scaler\", s),\n",
    "        (\"lasso_regression\", las)])\n",
    "\n",
    "    predictions = cross_val_predict(estimator, X, y, cv = kf)\n",
    "    \n",
    "    score = r2_score(y, predictions)\n",
    "    \n",
    "    scores.append(score)\n",
    "\n",
    "list(zip(alphas,scores))"
   ]
  },
  {
   "cell_type": "code",
   "execution_count": 63,
   "metadata": {},
   "outputs": [
    {
     "data": {
      "image/png": "[encoded data removed]",
      "text/plain": [
       "<Figure size 720x432 with 1 Axes>"
      ]
     },
     "metadata": {
      "needs_background": "light"
     },
     "output_type": "display_data"
    }
   ],
   "source": [
    "plt.figure(figsize=(10,6))\n",
    "plt.semilogx(alphas, scores, '-o')\n",
    "plt.xlabel('$\\\\alpha$')\n",
    "plt.ylabel('$R^2$');"
   ]
  },
  {
   "cell_type": "code",
   "execution_count": 64,
   "metadata": {},
   "outputs": [
    {
     "data": {
      "text/plain": [
       "array([-1.07170372e-01,  4.63952623e-02,  2.08588308e-02,  2.68854318e+00,\n",
       "       -1.77954207e+01,  3.80475296e+00,  7.50802707e-04, -1.47575348e+00,\n",
       "        3.05654279e-01, -1.23293755e-02, -9.53459908e-01,  9.39253013e-03,\n",
       "       -5.25467196e-01])"
      ]
     },
     "execution_count": 64,
     "metadata": {},
     "output_type": "execute_result"
    }
   ],
   "source": [
    "Lasso(alpha=1e-6).fit(X, y).coef_"
   ]
  },
  {
   "cell_type": "code",
   "execution_count": 65,
   "metadata": {},
   "outputs": [
    {
     "data": {
      "text/plain": [
       "array([-0.06342255,  0.04916867, -0.        ,  0.        , -0.        ,\n",
       "        0.94678567,  0.02092737, -0.66900864,  0.26417501, -0.01520915,\n",
       "       -0.72319901,  0.00829117, -0.76143296])"
      ]
     },
     "execution_count": 65,
     "metadata": {},
     "output_type": "execute_result"
    }
   ],
   "source": [
    "# the more alpha is the less complex the model is and vice versa\n",
    "Lasso(alpha=1.0).fit(X, y).coef_"
   ]
  },
  {
   "cell_type": "code",
   "execution_count": 66,
   "metadata": {},
   "outputs": [],
   "source": [
    "pf = PolynomialFeatures(degree=3)\n",
    "\n",
    "scores = []\n",
    "alphas = np.geomspace(0.06, 6.0, 20)\n",
    "for alpha in alphas:\n",
    "    las = Lasso(alpha=alpha, max_iter=100000)\n",
    "    \n",
    "    estimator = Pipeline([\n",
    "        (\"make_higher_degree\", pf),\n",
    "        (\"scaler\", s),\n",
    "        (\"lasso_regression\", las)])\n",
    "\n",
    "    predictions = cross_val_predict(estimator, X, y, cv = kf)\n",
    "    \n",
    "    score = r2_score(y, predictions)\n",
    "    \n",
    "    scores.append(score)\n",
    "    "
   ]
  },
  {
   "cell_type": "code",
   "execution_count": 67,
   "metadata": {},
   "outputs": [
    {
     "data": {
      "image/png": "[encoded data removed]",
      "text/plain": [
       "<Figure size 720x432 with 1 Axes>"
      ]
     },
     "metadata": {
      "needs_background": "light"
     },
     "output_type": "display_data"
    }
   ],
   "source": [
    "plt.figure(figsize=(10,6))\n",
    "\n",
    "plt.semilogx(alphas, scores, '-ro');"
   ]
  },
  {
   "cell_type": "code",
   "execution_count": 68,
   "metadata": {},
   "outputs": [
    {
     "data": {
      "text/plain": [
       "0.9134777735196521"
      ]
     },
     "execution_count": 68,
     "metadata": {},
     "output_type": "execute_result"
    }
   ],
   "source": [
    "# Once we have found the hyperparameter (alpha~1e-2=0.01)\n",
    "# make the model and train it on ALL the data\n",
    "# Then release it into the wild .....\n",
    "best_estimator = Pipeline([\n",
    "                    (\"scaler\", s),\n",
    "                    (\"make_higher_degree\", PolynomialFeatures(degree=2)),\n",
    "                    (\"lasso_regression\", Lasso(alpha=0.03))])\n",
    "\n",
    "best_estimator.fit(X, y)\n",
    "best_estimator.score(X, y)"
   ]
  },
  {
   "cell_type": "code",
   "execution_count": 69,
   "metadata": {},
   "outputs": [
    {
     "data": {
      "text/html": [
       "<div>\n",
       "<style scoped>\n",
       "    .dataframe tbody tr th:only-of-type {\n",
       "        vertical-align: middle;\n",
       "    }\n",
       "\n",
       "    .dataframe tbody tr th {\n",
       "        vertical-align: top;\n",
       "    }\n",
       "\n",
       "    .dataframe thead th {\n",
       "        text-align: right;\n",
       "    }\n",
       "</style>\n",
       "<table border=\"1\" class=\"dataframe\">\n",
       "  <thead>\n",
       "    <tr style=\"text-align: right;\">\n",
       "      <th></th>\n",
       "      <th>0</th>\n",
       "      <th>1</th>\n",
       "    </tr>\n",
       "  </thead>\n",
       "  <tbody>\n",
       "    <tr>\n",
       "      <th>13</th>\n",
       "      <td>x12</td>\n",
       "      <td>-3.395426</td>\n",
       "    </tr>\n",
       "    <tr>\n",
       "      <th>8</th>\n",
       "      <td>x7</td>\n",
       "      <td>-2.561614</td>\n",
       "    </tr>\n",
       "    <tr>\n",
       "      <th>10</th>\n",
       "      <td>x9</td>\n",
       "      <td>-1.722662</td>\n",
       "    </tr>\n",
       "    <tr>\n",
       "      <th>94</th>\n",
       "      <td>x8 x12</td>\n",
       "      <td>-1.124408</td>\n",
       "    </tr>\n",
       "    <tr>\n",
       "      <th>72</th>\n",
       "      <td>x5 x8</td>\n",
       "      <td>-1.085987</td>\n",
       "    </tr>\n",
       "    <tr>\n",
       "      <th>...</th>\n",
       "      <td>...</td>\n",
       "      <td>...</td>\n",
       "    </tr>\n",
       "    <tr>\n",
       "      <th>9</th>\n",
       "      <td>x8</td>\n",
       "      <td>1.127783</td>\n",
       "    </tr>\n",
       "    <tr>\n",
       "      <th>79</th>\n",
       "      <td>x6 x8</td>\n",
       "      <td>1.363407</td>\n",
       "    </tr>\n",
       "    <tr>\n",
       "      <th>96</th>\n",
       "      <td>x9 x10</td>\n",
       "      <td>1.962870</td>\n",
       "    </tr>\n",
       "    <tr>\n",
       "      <th>6</th>\n",
       "      <td>x5</td>\n",
       "      <td>3.326791</td>\n",
       "    </tr>\n",
       "    <tr>\n",
       "      <th>17</th>\n",
       "      <td>x0 x3</td>\n",
       "      <td>3.536536</td>\n",
       "    </tr>\n",
       "  </tbody>\n",
       "</table>\n",
       "<p>105 rows × 2 columns</p>\n",
       "</div>"
      ],
      "text/plain": [
       "         0         1\n",
       "13     x12 -3.395426\n",
       "8       x7 -2.561614\n",
       "10      x9 -1.722662\n",
       "94  x8 x12 -1.124408\n",
       "72   x5 x8 -1.085987\n",
       "..     ...       ...\n",
       "9       x8  1.127783\n",
       "79   x6 x8  1.363407\n",
       "96  x9 x10  1.962870\n",
       "6       x5  3.326791\n",
       "17   x0 x3  3.536536\n",
       "\n",
       "[105 rows x 2 columns]"
      ]
     },
     "execution_count": 69,
     "metadata": {},
     "output_type": "execute_result"
    }
   ],
   "source": [
    "df_importances = pd.DataFrame(zip(best_estimator.named_steps[\"make_higher_degree\"].get_feature_names(),\n",
    "                 best_estimator.named_steps[\"lasso_regression\"].coef_,\n",
    "))\n",
    "df_importances.sort_values(by=1)"
   ]
  },
  {
   "cell_type": "code",
   "execution_count": 70,
   "metadata": {},
   "outputs": [
    {
     "data": {
      "text/plain": [
       "{0: 'CRIM',\n",
       " 1: 'ZN',\n",
       " 2: 'INDUS',\n",
       " 3: 'CHAS',\n",
       " 4: 'NOX',\n",
       " 5: 'RM',\n",
       " 6: 'AGE',\n",
       " 7: 'DIS',\n",
       " 8: 'RAD',\n",
       " 9: 'TAX',\n",
       " 10: 'PTRATIO',\n",
       " 11: 'B',\n",
       " 12: 'LSTAT'}"
      ]
     },
     "execution_count": 70,
     "metadata": {},
     "output_type": "execute_result"
    }
   ],
   "source": [
    "col_names_dict = dict(zip(list(range(len(X.columns.values))), X.columns.values))\n",
    "col_names_dict"
   ]
  },
  {
   "cell_type": "markdown",
   "metadata": {},
   "source": [
    "## Grid Search CV\n"
   ]
  },
  {
   "cell_type": "code",
   "execution_count": 71,
   "metadata": {},
   "outputs": [
    {
     "data": {
      "text/plain": [
       "GridSearchCV(cv=KFold(n_splits=3, random_state=72018, shuffle=True),\n",
       "             estimator=Pipeline(steps=[('scaler', StandardScaler()),\n",
       "                                       ('polynomial_features',\n",
       "                                        PolynomialFeatures()),\n",
       "                                       ('ridge_regression', Ridge())]),\n",
       "             param_grid={'polynomial_features__degree': [1, 2, 3],\n",
       "                         'ridge_regression__alpha': array([ 4.        ,  4.22826702,  4.46956049,  4.7246238 ,  4.99424274,\n",
       "        5.27924796,  5.58051751,  5.89897953,  6.23561514,  6.59146146,\n",
       "        6.96761476,  7.36523392,  7.78554391,  8.22983963,  8.69948987,\n",
       "        9.19594151,  9.72072404, 10.27545421, 10.86184103, 11.48169104,\n",
       "       12.13691388, 12.82952815, 13.56166768, 14.33558803, 15.15367351,\n",
       "       16.01844446, 16.93256509, 17.89885162, 18.92028098, 20.        ])})"
      ]
     },
     "execution_count": 71,
     "metadata": {},
     "output_type": "execute_result"
    }
   ],
   "source": [
    "# Same estimator as before\n",
    "estimator = Pipeline([(\"scaler\", StandardScaler()),\n",
    "        (\"polynomial_features\", PolynomialFeatures()),\n",
    "        (\"ridge_regression\", Ridge())])\n",
    "\n",
    "params = {\n",
    "    'polynomial_features__degree': [1, 2, 3],\n",
    "    'ridge_regression__alpha': np.geomspace(4, 20, 30)\n",
    "}\n",
    "\n",
    "grid = GridSearchCV(estimator, params, cv=kf)\n",
    "\n",
    "grid.fit(X, y)"
   ]
  },
  {
   "cell_type": "code",
   "execution_count": 72,
   "metadata": {},
   "outputs": [
    {
     "data": {
      "text/plain": [
       "(0.8504982950750944,\n",
       " {'polynomial_features__degree': 2,\n",
       "  'ridge_regression__alpha': 15.153673507519274})"
      ]
     },
     "execution_count": 72,
     "metadata": {},
     "output_type": "execute_result"
    }
   ],
   "source": [
    "grid.best_score_, grid.best_params_"
   ]
  },
  {
   "cell_type": "code",
   "execution_count": 73,
   "metadata": {},
   "outputs": [
    {
     "data": {
      "text/plain": [
       "0.9149145594213683"
      ]
     },
     "execution_count": 73,
     "metadata": {},
     "output_type": "execute_result"
    }
   ],
   "source": [
    "y_predict = grid.predict(X)\n",
    "# This includes both in-sample and out-of-sample\n",
    "r2_score(y, y_predict)"
   ]
  },
  {
   "cell_type": "code",
   "execution_count": 74,
   "metadata": {},
   "outputs": [
    {
     "data": {
      "text/plain": [
       "array([ 0.00000000e+00, -1.27346408e-01, -6.16205046e-03,  2.36135244e-02,\n",
       "        1.00398027e-01, -9.74110586e-01,  3.26236441e+00, -9.65057238e-01,\n",
       "       -1.96344725e+00,  8.56769182e-01, -1.01488960e+00, -7.06985966e-01,\n",
       "        5.52029222e-01, -3.03254502e+00,  7.74127927e-02,  7.24276605e-02,\n",
       "        6.82776638e-02,  1.72849044e+00, -4.80758341e-01,  5.76219972e-01,\n",
       "        1.28132069e-01,  2.22931335e-01, -7.45243542e-01,  1.66582495e-01,\n",
       "       -8.00025634e-02, -8.54571642e-02,  5.07490801e-01,  2.14820391e-01,\n",
       "       -1.48833274e-01,  1.42098626e-01,  1.93770221e-01,  5.02304885e-02,\n",
       "       -1.12667821e-01, -2.77559685e-01, -1.32870713e-01,  7.32239658e-01,\n",
       "        5.26857333e-02,  8.89966580e-02, -2.72228558e-01,  5.84383917e-01,\n",
       "        1.06306947e-01,  9.62971619e-01,  5.76845132e-01,  5.33378179e-01,\n",
       "        7.07913980e-01, -6.21760626e-02,  7.57641545e-02, -4.28157866e-01,\n",
       "        2.40651011e-01, -6.82201736e-01,  3.40931549e-01, -9.62217889e-01,\n",
       "       -8.14997204e-01,  2.81353294e-01,  5.50023518e-02,  8.65917517e-02,\n",
       "        6.28285056e-01, -1.40764851e-01, -1.03645734e-01, -3.81965497e-01,\n",
       "       -4.48817407e-01, -4.46562934e-01, -4.97293983e-01,  7.52862844e-01,\n",
       "       -8.00745322e-01,  7.86779267e-02, -5.78298566e-01, -4.98398516e-02,\n",
       "        5.37001246e-01,  2.24913740e-01, -7.11059542e-01,  5.70498060e-02,\n",
       "       -7.85214394e-01, -9.18516132e-01, -1.02907666e+00, -1.58937491e-01,\n",
       "       -7.77699453e-01,  1.42895792e-01,  7.72299871e-02,  1.08239035e+00,\n",
       "        3.98859145e-02, -7.26596891e-02, -9.64695031e-01, -1.12682105e+00,\n",
       "        1.01829108e+00, -6.12786851e-01, -4.22714073e-01, -1.41672983e-01,\n",
       "       -2.68672373e-01,  8.23071041e-01, -8.66106901e-01,  8.83695240e-01,\n",
       "        3.63975663e-01, -1.13200717e-01, -1.12043738e+00,  2.19170412e-03,\n",
       "        1.30087563e+00, -3.65505003e-01, -1.08425883e+00, -1.16852284e-01,\n",
       "        8.62081670e-02,  1.40937541e-03, -3.62535906e-01, -4.04519520e-01,\n",
       "        8.07960994e-01])"
      ]
     },
     "execution_count": 74,
     "metadata": {},
     "output_type": "execute_result"
    }
   ],
   "source": [
    "# Notice that \"grid\" is a fit object!\n",
    "# We can use grid.predict(X_test) to get brand new predictions!\n",
    "grid.best_estimator_.named_steps['ridge_regression'].coef_"
   ]
  },
  {
   "cell_type": "code",
   "execution_count": 75,
   "metadata": {},
   "outputs": [
    {
     "data": {
      "text/plain": [
       "{'mean_fit_time': array([0.03749522, 0.02888584, 0.03752549, 0.02003471, 0.01641401,\n",
       "        0.01365256, 0.01452724, 0.01313122, 0.0112493 , 0.0130895 ,\n",
       "        0.01330781, 0.01299485, 0.01399787, 0.01278965, 0.01980996,\n",
       "        0.03224651, 0.0285639 , 0.01751868, 0.01702515, 0.01848046,\n",
       "        0.01526713, 0.01618187, 0.01306121, 0.01093125, 0.00853785,\n",
       "        0.01087515, 0.01092776, 0.00990645, 0.00824634, 0.00961169,\n",
       "        0.01089001, 0.01174061, 0.01244712, 0.01140253, 0.01003305,\n",
       "        0.00726811, 0.00891415, 0.00939671, 0.00758044, 0.01157856,\n",
       "        0.01222515, 0.01402259, 0.0085996 , 0.00816186, 0.01046348,\n",
       "        0.01167981, 0.0111231 , 0.00955637, 0.00893005, 0.01252198,\n",
       "        0.01156918, 0.00978049, 0.00763098, 0.01037049, 0.01132011,\n",
       "        0.00920129, 0.00787902, 0.01072431, 0.01017173, 0.008605  ,\n",
       "        0.01526419, 0.01713713, 0.01396418, 0.01441781, 0.01349584,\n",
       "        0.03120152, 0.03925276, 0.01586358, 0.01389662, 0.01431998,\n",
       "        0.01291998, 0.016318  , 0.01337743, 0.01672133, 0.01953371,\n",
       "        0.01728972, 0.01995921, 0.04560494, 0.04242778, 0.02233362,\n",
       "        0.01633398, 0.01524671, 0.01574556, 0.01472743, 0.01690507,\n",
       "        0.01533143, 0.0124193 , 0.01432014, 0.01479236, 0.01457214]),\n",
       " 'std_fit_time': array([0.00981272, 0.00246435, 0.0090151 , 0.00599226, 0.00242791,\n",
       "        0.00214897, 0.00061058, 0.00311282, 0.00110676, 0.00326831,\n",
       "        0.00319822, 0.00215841, 0.00103474, 0.00031689, 0.0020103 ,\n",
       "        0.00129436, 0.00692049, 0.00132104, 0.00171562, 0.0028813 ,\n",
       "        0.00237783, 0.00178135, 0.00230183, 0.00077882, 0.00085271,\n",
       "        0.00094146, 0.00107793, 0.0006281 , 0.00035484, 0.00088392,\n",
       "        0.00061014, 0.00040429, 0.0014152 , 0.00091706, 0.00081994,\n",
       "        0.00032325, 0.00118364, 0.00079718, 0.00060038, 0.00022195,\n",
       "        0.00055494, 0.00216448, 0.00074597, 0.00154664, 0.0009397 ,\n",
       "        0.00158731, 0.00070813, 0.00138579, 0.00156861, 0.00013942,\n",
       "        0.00064222, 0.00128054, 0.00043892, 0.00147875, 0.000422  ,\n",
       "        0.00151982, 0.00102627, 0.00114534, 0.00061734, 0.00017114,\n",
       "        0.00164612, 0.00249378, 0.00071361, 0.00062766, 0.00049662,\n",
       "        0.00558924, 0.00353734, 0.0039781 , 0.00122082, 0.00147197,\n",
       "        0.00045661, 0.00216597, 0.00288349, 0.00229871, 0.00143137,\n",
       "        0.00042359, 0.00408589, 0.00413881, 0.00433735, 0.00793512,\n",
       "        0.0015361 , 0.00171987, 0.00204272, 0.00094986, 0.00035218,\n",
       "        0.00110301, 0.00112084, 0.00152083, 0.00060508, 0.00161278]),\n",
       " 'mean_score_time': array([0.01072184, 0.0189743 , 0.01268069, 0.00960851, 0.00641147,\n",
       "        0.00689936, 0.00586009, 0.00475836, 0.00516478, 0.00400805,\n",
       "        0.00619006, 0.004553  , 0.00473619, 0.00517925, 0.00849573,\n",
       "        0.01211325, 0.0089248 , 0.00760047, 0.00619022, 0.00652258,\n",
       "        0.00521596, 0.00593901, 0.00461221, 0.00427564, 0.00412504,\n",
       "        0.00302561, 0.00399423, 0.00427341, 0.00507768, 0.00352923,\n",
       "        0.00356642, 0.00290116, 0.00340438, 0.00310167, 0.00409381,\n",
       "        0.00622272, 0.00295194, 0.00446916, 0.00423567, 0.00285101,\n",
       "        0.0043931 , 0.00449181, 0.00535091, 0.00459011, 0.00345262,\n",
       "        0.0036447 , 0.00279808, 0.00408443, 0.0032227 , 0.0028561 ,\n",
       "        0.00319727, 0.00450444, 0.00534455, 0.00273863, 0.00336766,\n",
       "        0.00445938, 0.00414737, 0.00320315, 0.00368023, 0.00576369,\n",
       "        0.00559402, 0.00475462, 0.00489338, 0.00366529, 0.00570631,\n",
       "        0.01074751, 0.01098943, 0.00639717, 0.00501235, 0.004203  ,\n",
       "        0.00588544, 0.00650501, 0.00560689, 0.0069832 , 0.00599257,\n",
       "        0.00545621, 0.00701459, 0.01399406, 0.01426601, 0.00697692,\n",
       "        0.00632747, 0.00730697, 0.00556024, 0.00554506, 0.00517829,\n",
       "        0.0053757 , 0.0057977 , 0.00466935, 0.00457851, 0.00544206]),\n",
       " 'std_score_time': array([2.13311773e-03, 1.23050304e-02, 3.45089317e-03, 5.28736415e-03,\n",
       "        1.58031516e-03, 9.87243308e-04, 1.19303582e-03, 5.41438077e-04,\n",
       "        8.61122589e-04, 2.54583712e-05, 6.90822266e-04, 5.22098958e-04,\n",
       "        5.41223863e-04, 7.07371955e-04, 4.70454749e-04, 8.09983238e-04,\n",
       "        1.62490960e-03, 1.69293938e-03, 1.45039272e-03, 1.05382487e-03,\n",
       "        9.70856816e-04, 7.74518671e-04, 1.00376183e-03, 6.20682658e-04,\n",
       "        9.45315372e-04, 3.62543253e-04, 8.59088167e-04, 5.18390017e-04,\n",
       "        1.07839564e-03, 4.53848050e-04, 4.13506553e-04, 9.54989348e-05,\n",
       "        4.41242178e-04, 3.02015919e-04, 3.35342453e-04, 8.80631633e-04,\n",
       "        4.94912766e-04, 9.15347084e-04, 1.34373405e-03, 1.69369287e-04,\n",
       "        1.25589898e-03, 1.60942780e-03, 2.23315653e-04, 1.05054762e-03,\n",
       "        8.16231483e-04, 4.65323237e-04, 3.32284000e-05, 5.81371417e-04,\n",
       "        4.50981373e-04, 1.49031807e-04, 4.80120652e-04, 1.23226619e-03,\n",
       "        5.88865168e-04, 4.00941956e-05, 4.65220938e-04, 1.17317602e-03,\n",
       "        1.33594492e-03, 2.89182768e-04, 6.49832162e-04, 3.53053418e-04,\n",
       "        1.58561441e-04, 1.22443956e-03, 6.65848338e-04, 5.95904058e-04,\n",
       "        1.02427110e-03, 1.97612719e-03, 3.97967639e-03, 1.11739632e-04,\n",
       "        1.40422383e-03, 9.18671684e-04, 8.77326085e-04, 1.38947461e-03,\n",
       "        1.54223889e-03, 1.31700509e-04, 1.66015514e-03, 2.64368758e-04,\n",
       "        1.46479896e-03, 7.71673799e-04, 2.66482664e-03, 1.99869707e-03,\n",
       "        1.86453760e-03, 2.85766919e-03, 1.86844783e-03, 1.54986819e-03,\n",
       "        1.19622282e-03, 2.50833594e-03, 6.45829895e-04, 1.31651129e-03,\n",
       "        9.85740442e-04, 1.72894541e-03]),\n",
       " 'param_polynomial_features__degree': masked_array(data=[1, 1, 1, 1, 1, 1, 1, 1, 1, 1, 1, 1, 1, 1, 1, 1, 1, 1,\n",
       "                    1, 1, 1, 1, 1, 1, 1, 1, 1, 1, 1, 1, 2, 2, 2, 2, 2, 2,\n",
       "                    2, 2, 2, 2, 2, 2, 2, 2, 2, 2, 2, 2, 2, 2, 2, 2, 2, 2,\n",
       "                    2, 2, 2, 2, 2, 2, 3, 3, 3, 3, 3, 3, 3, 3, 3, 3, 3, 3,\n",
       "                    3, 3, 3, 3, 3, 3, 3, 3, 3, 3, 3, 3, 3, 3, 3, 3, 3, 3],\n",
       "              mask=[False, False, False, False, False, False, False, False,\n",
       "                    False, False, False, False, False, False, False, False,\n",
       "                    False, False, False, False, False, False, False, False,\n",
       "                    False, False, False, False, False, False, False, False,\n",
       "                    False, False, False, False, False, False, False, False,\n",
       "                    False, False, False, False, False, False, False, False,\n",
       "                    False, False, False, False, False, False, False, False,\n",
       "                    False, False, False, False, False, False, False, False,\n",
       "                    False, False, False, False, False, False, False, False,\n",
       "                    False, False, False, False, False, False, False, False,\n",
       "                    False, False, False, False, False, False, False, False,\n",
       "                    False, False],\n",
       "        fill_value='?',\n",
       "             dtype=object),\n",
       " 'param_ridge_regression__alpha': masked_array(data=[4.0, 4.228267015769416, 4.4695604891609,\n",
       "                    4.724623797826311, 4.994242741567055,\n",
       "                    5.279247963228449, 5.58051750774668, 5.898979527232258,\n",
       "                    6.235615140423803, 6.591461455321584,\n",
       "                    6.9676147643129305, 7.365233921633089,\n",
       "                    7.785543913566802, 8.229839632389709,\n",
       "                    8.699489865676323, 9.195941513264877,\n",
       "                    9.720724044870641, 10.275454212080797,\n",
       "                    10.861841029247536, 11.481691038624568,\n",
       "                    12.136913875967887, 12.82952815374728,\n",
       "                    13.561667680093686, 14.335588032641558,\n",
       "                    15.153673507519274, 16.018444464895637,\n",
       "                    16.932565093713098, 17.898851619528912,\n",
       "                    18.920280980751272, 20.000000000000004, 4.0,\n",
       "                    4.228267015769416, 4.4695604891609, 4.724623797826311,\n",
       "                    4.994242741567055, 5.279247963228449, 5.58051750774668,\n",
       "                    5.898979527232258, 6.235615140423803,\n",
       "                    6.591461455321584, 6.9676147643129305,\n",
       "                    7.365233921633089, 7.785543913566802,\n",
       "                    8.229839632389709, 8.699489865676323,\n",
       "                    9.195941513264877, 9.720724044870641,\n",
       "                    10.275454212080797, 10.861841029247536,\n",
       "                    11.481691038624568, 12.136913875967887,\n",
       "                    12.82952815374728, 13.561667680093686,\n",
       "                    14.335588032641558, 15.153673507519274,\n",
       "                    16.018444464895637, 16.932565093713098,\n",
       "                    17.898851619528912, 18.920280980751272,\n",
       "                    20.000000000000004, 4.0, 4.228267015769416,\n",
       "                    4.4695604891609, 4.724623797826311, 4.994242741567055,\n",
       "                    5.279247963228449, 5.58051750774668, 5.898979527232258,\n",
       "                    6.235615140423803, 6.591461455321584,\n",
       "                    6.9676147643129305, 7.365233921633089,\n",
       "                    7.785543913566802, 8.229839632389709,\n",
       "                    8.699489865676323, 9.195941513264877,\n",
       "                    9.720724044870641, 10.275454212080797,\n",
       "                    10.861841029247536, 11.481691038624568,\n",
       "                    12.136913875967887, 12.82952815374728,\n",
       "                    13.561667680093686, 14.335588032641558,\n",
       "                    15.153673507519274, 16.018444464895637,\n",
       "                    16.932565093713098, 17.898851619528912,\n",
       "                    18.920280980751272, 20.000000000000004],\n",
       "              mask=[False, False, False, False, False, False, False, False,\n",
       "                    False, False, False, False, False, False, False, False,\n",
       "                    False, False, False, False, False, False, False, False,\n",
       "                    False, False, False, False, False, False, False, False,\n",
       "                    False, False, False, False, False, False, False, False,\n",
       "                    False, False, False, False, False, False, False, False,\n",
       "                    False, False, False, False, False, False, False, False,\n",
       "                    False, False, False, False, False, False, False, False,\n",
       "                    False, False, False, False, False, False, False, False,\n",
       "                    False, False, False, False, False, False, False, False,\n",
       "                    False, False, False, False, False, False, False, False,\n",
       "                    False, False],\n",
       "        fill_value='?',\n",
       "             dtype=object),\n",
       " 'params': [{'polynomial_features__degree': 1, 'ridge_regression__alpha': 4.0},\n",
       "  {'polynomial_features__degree': 1,\n",
       "   'ridge_regression__alpha': 4.228267015769416},\n",
       "  {'polynomial_features__degree': 1,\n",
       "   'ridge_regression__alpha': 4.4695604891609},\n",
       "  {'polynomial_features__degree': 1,\n",
       "   'ridge_regression__alpha': 4.724623797826311},\n",
       "  {'polynomial_features__degree': 1,\n",
       "   'ridge_regression__alpha': 4.994242741567055},\n",
       "  {'polynomial_features__degree': 1,\n",
       "   'ridge_regression__alpha': 5.279247963228449},\n",
       "  {'polynomial_features__degree': 1,\n",
       "   'ridge_regression__alpha': 5.58051750774668},\n",
       "  {'polynomial_features__degree': 1,\n",
       "   'ridge_regression__alpha': 5.898979527232258},\n",
       "  {'polynomial_features__degree': 1,\n",
       "   'ridge_regression__alpha': 6.235615140423803},\n",
       "  {'polynomial_features__degree': 1,\n",
       "   'ridge_regression__alpha': 6.591461455321584},\n",
       "  {'polynomial_features__degree': 1,\n",
       "   'ridge_regression__alpha': 6.9676147643129305},\n",
       "  {'polynomial_features__degree': 1,\n",
       "   'ridge_regression__alpha': 7.365233921633089},\n",
       "  {'polynomial_features__degree': 1,\n",
       "   'ridge_regression__alpha': 7.785543913566802},\n",
       "  {'polynomial_features__degree': 1,\n",
       "   'ridge_regression__alpha': 8.229839632389709},\n",
       "  {'polynomial_features__degree': 1,\n",
       "   'ridge_regression__alpha': 8.699489865676323},\n",
       "  {'polynomial_features__degree': 1,\n",
       "   'ridge_regression__alpha': 9.195941513264877},\n",
       "  {'polynomial_features__degree': 1,\n",
       "   'ridge_regression__alpha': 9.720724044870641},\n",
       "  {'polynomial_features__degree': 1,\n",
       "   'ridge_regression__alpha': 10.275454212080797},\n",
       "  {'polynomial_features__degree': 1,\n",
       "   'ridge_regression__alpha': 10.861841029247536},\n",
       "  {'polynomial_features__degree': 1,\n",
       "   'ridge_regression__alpha': 11.481691038624568},\n",
       "  {'polynomial_features__degree': 1,\n",
       "   'ridge_regression__alpha': 12.136913875967887},\n",
       "  {'polynomial_features__degree': 1,\n",
       "   'ridge_regression__alpha': 12.82952815374728},\n",
       "  {'polynomial_features__degree': 1,\n",
       "   'ridge_regression__alpha': 13.561667680093686},\n",
       "  {'polynomial_features__degree': 1,\n",
       "   'ridge_regression__alpha': 14.335588032641558},\n",
       "  {'polynomial_features__degree': 1,\n",
       "   'ridge_regression__alpha': 15.153673507519274},\n",
       "  {'polynomial_features__degree': 1,\n",
       "   'ridge_regression__alpha': 16.018444464895637},\n",
       "  {'polynomial_features__degree': 1,\n",
       "   'ridge_regression__alpha': 16.932565093713098},\n",
       "  {'polynomial_features__degree': 1,\n",
       "   'ridge_regression__alpha': 17.898851619528912},\n",
       "  {'polynomial_features__degree': 1,\n",
       "   'ridge_regression__alpha': 18.920280980751272},\n",
       "  {'polynomial_features__degree': 1,\n",
       "   'ridge_regression__alpha': 20.000000000000004},\n",
       "  {'polynomial_features__degree': 2, 'ridge_regression__alpha': 4.0},\n",
       "  {'polynomial_features__degree': 2,\n",
       "   'ridge_regression__alpha': 4.228267015769416},\n",
       "  {'polynomial_features__degree': 2,\n",
       "   'ridge_regression__alpha': 4.4695604891609},\n",
       "  {'polynomial_features__degree': 2,\n",
       "   'ridge_regression__alpha': 4.724623797826311},\n",
       "  {'polynomial_features__degree': 2,\n",
       "   'ridge_regression__alpha': 4.994242741567055},\n",
       "  {'polynomial_features__degree': 2,\n",
       "   'ridge_regression__alpha': 5.279247963228449},\n",
       "  {'polynomial_features__degree': 2,\n",
       "   'ridge_regression__alpha': 5.58051750774668},\n",
       "  {'polynomial_features__degree': 2,\n",
       "   'ridge_regression__alpha': 5.898979527232258},\n",
       "  {'polynomial_features__degree': 2,\n",
       "   'ridge_regression__alpha': 6.235615140423803},\n",
       "  {'polynomial_features__degree': 2,\n",
       "   'ridge_regression__alpha': 6.591461455321584},\n",
       "  {'polynomial_features__degree': 2,\n",
       "   'ridge_regression__alpha': 6.9676147643129305},\n",
       "  {'polynomial_features__degree': 2,\n",
       "   'ridge_regression__alpha': 7.365233921633089},\n",
       "  {'polynomial_features__degree': 2,\n",
       "   'ridge_regression__alpha': 7.785543913566802},\n",
       "  {'polynomial_features__degree': 2,\n",
       "   'ridge_regression__alpha': 8.229839632389709},\n",
       "  {'polynomial_features__degree': 2,\n",
       "   'ridge_regression__alpha': 8.699489865676323},\n",
       "  {'polynomial_features__degree': 2,\n",
       "   'ridge_regression__alpha': 9.195941513264877},\n",
       "  {'polynomial_features__degree': 2,\n",
       "   'ridge_regression__alpha': 9.720724044870641},\n",
       "  {'polynomial_features__degree': 2,\n",
       "   'ridge_regression__alpha': 10.275454212080797},\n",
       "  {'polynomial_features__degree': 2,\n",
       "   'ridge_regression__alpha': 10.861841029247536},\n",
       "  {'polynomial_features__degree': 2,\n",
       "   'ridge_regression__alpha': 11.481691038624568},\n",
       "  {'polynomial_features__degree': 2,\n",
       "   'ridge_regression__alpha': 12.136913875967887},\n",
       "  {'polynomial_features__degree': 2,\n",
       "   'ridge_regression__alpha': 12.82952815374728},\n",
       "  {'polynomial_features__degree': 2,\n",
       "   'ridge_regression__alpha': 13.561667680093686},\n",
       "  {'polynomial_features__degree': 2,\n",
       "   'ridge_regression__alpha': 14.335588032641558},\n",
       "  {'polynomial_features__degree': 2,\n",
       "   'ridge_regression__alpha': 15.153673507519274},\n",
       "  {'polynomial_features__degree': 2,\n",
       "   'ridge_regression__alpha': 16.018444464895637},\n",
       "  {'polynomial_features__degree': 2,\n",
       "   'ridge_regression__alpha': 16.932565093713098},\n",
       "  {'polynomial_features__degree': 2,\n",
       "   'ridge_regression__alpha': 17.898851619528912},\n",
       "  {'polynomial_features__degree': 2,\n",
       "   'ridge_regression__alpha': 18.920280980751272},\n",
       "  {'polynomial_features__degree': 2,\n",
       "   'ridge_regression__alpha': 20.000000000000004},\n",
       "  {'polynomial_features__degree': 3, 'ridge_regression__alpha': 4.0},\n",
       "  {'polynomial_features__degree': 3,\n",
       "   'ridge_regression__alpha': 4.228267015769416},\n",
       "  {'polynomial_features__degree': 3,\n",
       "   'ridge_regression__alpha': 4.4695604891609},\n",
       "  {'polynomial_features__degree': 3,\n",
       "   'ridge_regression__alpha': 4.724623797826311},\n",
       "  {'polynomial_features__degree': 3,\n",
       "   'ridge_regression__alpha': 4.994242741567055},\n",
       "  {'polynomial_features__degree': 3,\n",
       "   'ridge_regression__alpha': 5.279247963228449},\n",
       "  {'polynomial_features__degree': 3,\n",
       "   'ridge_regression__alpha': 5.58051750774668},\n",
       "  {'polynomial_features__degree': 3,\n",
       "   'ridge_regression__alpha': 5.898979527232258},\n",
       "  {'polynomial_features__degree': 3,\n",
       "   'ridge_regression__alpha': 6.235615140423803},\n",
       "  {'polynomial_features__degree': 3,\n",
       "   'ridge_regression__alpha': 6.591461455321584},\n",
       "  {'polynomial_features__degree': 3,\n",
       "   'ridge_regression__alpha': 6.9676147643129305},\n",
       "  {'polynomial_features__degree': 3,\n",
       "   'ridge_regression__alpha': 7.365233921633089},\n",
       "  {'polynomial_features__degree': 3,\n",
       "   'ridge_regression__alpha': 7.785543913566802},\n",
       "  {'polynomial_features__degree': 3,\n",
       "   'ridge_regression__alpha': 8.229839632389709},\n",
       "  {'polynomial_features__degree': 3,\n",
       "   'ridge_regression__alpha': 8.699489865676323},\n",
       "  {'polynomial_features__degree': 3,\n",
       "   'ridge_regression__alpha': 9.195941513264877},\n",
       "  {'polynomial_features__degree': 3,\n",
       "   'ridge_regression__alpha': 9.720724044870641},\n",
       "  {'polynomial_features__degree': 3,\n",
       "   'ridge_regression__alpha': 10.275454212080797},\n",
       "  {'polynomial_features__degree': 3,\n",
       "   'ridge_regression__alpha': 10.861841029247536},\n",
       "  {'polynomial_features__degree': 3,\n",
       "   'ridge_regression__alpha': 11.481691038624568},\n",
       "  {'polynomial_features__degree': 3,\n",
       "   'ridge_regression__alpha': 12.136913875967887},\n",
       "  {'polynomial_features__degree': 3,\n",
       "   'ridge_regression__alpha': 12.82952815374728},\n",
       "  {'polynomial_features__degree': 3,\n",
       "   'ridge_regression__alpha': 13.561667680093686},\n",
       "  {'polynomial_features__degree': 3,\n",
       "   'ridge_regression__alpha': 14.335588032641558},\n",
       "  {'polynomial_features__degree': 3,\n",
       "   'ridge_regression__alpha': 15.153673507519274},\n",
       "  {'polynomial_features__degree': 3,\n",
       "   'ridge_regression__alpha': 16.018444464895637},\n",
       "  {'polynomial_features__degree': 3,\n",
       "   'ridge_regression__alpha': 16.932565093713098},\n",
       "  {'polynomial_features__degree': 3,\n",
       "   'ridge_regression__alpha': 17.898851619528912},\n",
       "  {'polynomial_features__degree': 3,\n",
       "   'ridge_regression__alpha': 18.920280980751272},\n",
       "  {'polynomial_features__degree': 3,\n",
       "   'ridge_regression__alpha': 20.000000000000004}],\n",
       " 'split0_test_score': array([0.67211108, 0.67210314, 0.67209324, 0.67208118, 0.67206672,\n",
       "        0.67204963, 0.67202966, 0.67200655, 0.67198001, 0.67194974,\n",
       "        0.67191544, 0.67187678, 0.67183341, 0.67178499, 0.67173113,\n",
       "        0.67167146, 0.67160557, 0.67153305, 0.67145348, 0.6713664 ,\n",
       "        0.67127137, 0.6711679 , 0.67105552, 0.6709337 , 0.67080194,\n",
       "        0.67065969, 0.67050638, 0.67034142, 0.67016421, 0.66997409,\n",
       "        0.84255141, 0.842198  , 0.84184328, 0.84148681, 0.84112806,\n",
       "        0.8407665 , 0.8404015 , 0.84003242, 0.83965857, 0.83927923,\n",
       "        0.83889363, 0.83850099, 0.83810051, 0.83769135, 0.83727266,\n",
       "        0.83684358, 0.83640324, 0.83595074, 0.83548519, 0.83500569,\n",
       "        0.83451133, 0.83400119, 0.83347436, 0.83292992, 0.83236695,\n",
       "        0.83178453, 0.83118176, 0.8305577 , 0.82991147, 0.82924215,\n",
       "        0.46032273, 0.46657733, 0.47271332, 0.47874141, 0.48467138,\n",
       "        0.49051215, 0.49627176, 0.50195736, 0.50757525, 0.51313086,\n",
       "        0.51862881, 0.52407294, 0.52946628, 0.53481114, 0.54010914,\n",
       "        0.54536121, 0.55056769, 0.55572834, 0.5608424 , 0.56590865,\n",
       "        0.57092545, 0.57589079, 0.58080236, 0.58565758, 0.59045368,\n",
       "        0.5951877 , 0.59985659, 0.60445722, 0.60898644, 0.61344108]),\n",
       " 'split1_test_score': array([0.74823479, 0.74820653, 0.74817547, 0.74814136, 0.74810392,\n",
       "        0.74806286, 0.74801786, 0.74796859, 0.7479147 , 0.74785579,\n",
       "        0.74779145, 0.74772124, 0.74764471, 0.74756134, 0.74747062,\n",
       "        0.74737198, 0.74726483, 0.74714854, 0.74702245, 0.74688586,\n",
       "        0.74673803, 0.74657817, 0.74640546, 0.74621904, 0.74601799,\n",
       "        0.74580135, 0.74556811, 0.74531721, 0.74504752, 0.74475787,\n",
       "        0.86557853, 0.86603127, 0.86645483, 0.86684876, 0.86721267,\n",
       "        0.86754631, 0.86784949, 0.86812211, 0.86836416, 0.8685757 ,\n",
       "        0.86875685, 0.86890779, 0.86902875, 0.86912   , 0.86918184,\n",
       "        0.86921458, 0.86921854, 0.86919404, 0.86914139, 0.86906086,\n",
       "        0.8689527 , 0.86881708, 0.86865414, 0.86846395, 0.86824647,\n",
       "        0.8680016 , 0.86772912, 0.86742872, 0.86709996, 0.8667423 ,\n",
       "        0.62240449, 0.63405949, 0.64527978, 0.65607193, 0.66644299,\n",
       "        0.67640045, 0.68595224, 0.69510667, 0.70387245, 0.71225862,\n",
       "        0.72027452, 0.72792977, 0.73523423, 0.74219795, 0.74883117,\n",
       "        0.75514421, 0.76114752, 0.76685157, 0.77226688, 0.77740393,\n",
       "        0.78227315, 0.78688487, 0.79124935, 0.79537665, 0.79927671,\n",
       "        0.80295923, 0.80643374, 0.80970949, 0.81279549, 0.81570048]),\n",
       " 'split2_test_score': array([0.70180089, 0.70198642, 0.70217792, 0.70237536, 0.70257867,\n",
       "        0.70278778, 0.70300256, 0.70322288, 0.70344855, 0.70367937,\n",
       "        0.70391508, 0.70415539, 0.70439999, 0.70464849, 0.70490048,\n",
       "        0.70515549, 0.70541302, 0.7056725 , 0.7059333 , 0.70619477,\n",
       "        0.70645615, 0.70671666, 0.70697543, 0.70723154, 0.707484  ,\n",
       "        0.70773173, 0.70797357, 0.70820831, 0.70843462, 0.7086511 ,\n",
       "        0.82439713, 0.82556196, 0.82674219, 0.82793488, 0.82913699,\n",
       "        0.83034544, 0.83155716, 0.83276905, 0.83397809, 0.83518129,\n",
       "        0.83637577, 0.83755872, 0.8387275 , 0.83987956, 0.84101252,\n",
       "        0.84212417, 0.84321244, 0.84427542, 0.8453114 , 0.84631879,\n",
       "        0.84729616, 0.84824222, 0.84915581, 0.85003589, 0.85088147,\n",
       "        0.85169166, 0.85246561, 0.85320251, 0.85390151, 0.85456176,\n",
       "        0.19693116, 0.21816001, 0.23890851, 0.25917159, 0.27894594,\n",
       "        0.29822995, 0.3170236 , 0.33532837, 0.35314709, 0.37048386,\n",
       "        0.38734392, 0.4037335 , 0.41965974, 0.43513055, 0.45015451,\n",
       "        0.46474072, 0.47889874, 0.49263844, 0.50596996, 0.51890355,\n",
       "        0.53144957, 0.54361833, 0.55542009, 0.56686496, 0.57796288,\n",
       "        0.58872354, 0.59915638, 0.60927057, 0.61907495, 0.62857805]),\n",
       " 'mean_test_score': array([0.70738225, 0.70743203, 0.70748221, 0.70753263, 0.7075831 ,\n",
       "        0.70763342, 0.70768336, 0.70773267, 0.70778109, 0.7078283 ,\n",
       "        0.70787399, 0.7079178 , 0.70795937, 0.70799827, 0.70803407,\n",
       "        0.70806631, 0.70809447, 0.70811803, 0.70813641, 0.70814901,\n",
       "        0.70815518, 0.70815424, 0.70814547, 0.7081281 , 0.70810131,\n",
       "        0.70806425, 0.70801602, 0.70795565, 0.70788212, 0.70779435,\n",
       "        0.84417569, 0.84459708, 0.84501344, 0.84542348, 0.84582591,\n",
       "        0.84621942, 0.84660271, 0.84697453, 0.84733361, 0.84767874,\n",
       "        0.84800875, 0.8483225 , 0.84861892, 0.84889697, 0.84915567,\n",
       "        0.84939411, 0.8496114 , 0.84980674, 0.84997933, 0.85012845,\n",
       "        0.85025339, 0.8503535 , 0.85042811, 0.85047658, 0.8504983 ,\n",
       "        0.8504926 , 0.85045883, 0.85039631, 0.85030431, 0.85018207,\n",
       "        0.42655279, 0.43959894, 0.45230054, 0.46466164, 0.47668677,\n",
       "        0.48838085, 0.4997492 , 0.51079747, 0.52153159, 0.53195778,\n",
       "        0.54208242, 0.55191207, 0.56145342, 0.57071322, 0.57969827,\n",
       "        0.58841538, 0.59687131, 0.60507278, 0.61302641, 0.62073871,\n",
       "        0.62821605, 0.63546466, 0.6424906 , 0.64929973, 0.65589775,\n",
       "        0.66229016, 0.66848224, 0.6744791 , 0.68028563, 0.68590654]),\n",
       " 'std_test_score': array([0.03132697, 0.03130679, 0.03128608, 0.03126485, 0.0312431 ,\n",
       "        0.03122086, 0.03119812, 0.0311749 , 0.03115122, 0.03112707,\n",
       "        0.03110249, 0.03107746, 0.031052  , 0.03102612, 0.03099981,\n",
       "        0.03097307, 0.0309459 , 0.03091829, 0.03089021, 0.03086164,\n",
       "        0.03083255, 0.03080289, 0.03077261, 0.03074165, 0.03070993,\n",
       "        0.03067736, 0.03064384, 0.03060926, 0.03057348, 0.03053636,\n",
       "        0.01685142, 0.01660839, 0.01636685, 0.01612856, 0.01589532,\n",
       "        0.01566901, 0.01545153, 0.01524477, 0.01505058, 0.01487079,\n",
       "        0.01470709, 0.01456108, 0.0144342 , 0.01432772, 0.01424271,\n",
       "        0.01418002, 0.01414027, 0.01412388, 0.01413098, 0.01416154,\n",
       "        0.01421527, 0.01429171, 0.01439024, 0.01451005, 0.01465026,\n",
       "        0.01480984, 0.01498772, 0.01518275, 0.01539374, 0.01561947,\n",
       "        0.17533244, 0.17085856, 0.1665271 , 0.16233946, 0.15829573,\n",
       "        0.15439482, 0.15063455, 0.14701183, 0.14352271, 0.14016261,\n",
       "        0.13692638, 0.13380849, 0.13080315, 0.12790443, 0.12510638,\n",
       "        0.12240314, 0.11978902, 0.11725859, 0.11480677, 0.11242883,\n",
       "        0.11012047, 0.10787782, 0.10569749, 0.10357651, 0.10151239,\n",
       "        0.09950306, 0.09754686, 0.09564252, 0.0937891 , 0.09198599]),\n",
       " 'rank_test_score': array([60, 59, 58, 57, 56, 55, 54, 53, 52, 50, 49, 47, 45, 44, 42, 40, 39,\n",
       "        37, 35, 33, 31, 32, 34, 36, 38, 41, 43, 46, 48, 51, 30, 29, 28, 27,\n",
       "        26, 25, 24, 23, 22, 21, 20, 19, 18, 17, 16, 15, 14, 13, 12, 11,  9,\n",
       "         7,  5,  3,  1,  2,  4,  6,  8, 10, 90, 89, 88, 87, 86, 85, 84, 83,\n",
       "        82, 81, 80, 79, 78, 77, 76, 75, 74, 73, 72, 71, 70, 69, 68, 67, 66,\n",
       "        65, 64, 63, 62, 61], dtype=int32)}"
      ]
     },
     "execution_count": 75,
     "metadata": {},
     "output_type": "execute_result"
    }
   ],
   "source": [
    "grid.cv_results_"
   ]
  },
  {
   "cell_type": "markdown",
   "metadata": {},
   "source": [
    "# Regularization and Gradient Descent"
   ]
  },
  {
   "cell_type": "code",
   "execution_count": 76,
   "metadata": {},
   "outputs": [],
   "source": [
    "data = pd.read_csv(\"https://cf-courses-data.s3.us.cloud-object-storage.appdomain.cloud/IBM-ML240EN-SkillsNetwork/labs/data/X_Y_Sinusoid_Data.csv\")\n",
    "data.head()\n",
    "\n",
    "X_real = np.linspace(0, 1.0, 100)\n",
    "Y_real = np.sin(2 * np.pi * X_real)\n",
    "\n"
   ]
  },
  {
   "cell_type": "code",
   "execution_count": 77,
   "metadata": {},
   "outputs": [
    {
     "data": {
      "image/png": "[encoded data removed]",
      "text/plain": [
       "<Figure size 432x288 with 1 Axes>"
      ]
     },
     "metadata": {},
     "output_type": "display_data"
    }
   ],
   "source": [
    "sns.set_style('white')\n",
    "sns.set_context('talk')\n",
    "sns.set_palette('dark')\n",
    "\n",
    "# Plot of the noisy (sparse)\n",
    "ax = data.set_index('x')['y'].plot(ls='', marker='o', label='data')\n",
    "ax.plot(X_real, Y_real, ls='--', marker='', label='real function')\n",
    "\n",
    "ax.legend()\n",
    "ax.set(xlabel='x data', ylabel='y data');\n"
   ]
  },
  {
   "cell_type": "code",
   "execution_count": 78,
   "metadata": {},
   "outputs": [
    {
     "data": {
      "image/png": "[encoded data removed]",
      "text/plain": [
       "<Figure size 432x288 with 1 Axes>"
      ]
     },
     "metadata": {},
     "output_type": "display_data"
    }
   ],
   "source": [
    "# Setup the polynomial features\n",
    "degree = 20\n",
    "pf = PolynomialFeatures(degree)\n",
    "lr = LinearRegression()\n",
    "\n",
    "# Extract the X- and Y- data from the dataframe \n",
    "X_data = data[['x']]\n",
    "Y_data = data['y']\n",
    "\n",
    "# Create the features and fit the model\n",
    "X_poly = pf.fit_transform(X_data)\n",
    "lr = lr.fit(X_poly, Y_data)\n",
    "Y_pred = lr.predict(X_poly)\n",
    "\n",
    "# Plot the result\n",
    "plt.plot(X_data, Y_data, marker='o', ls='', label='data', alpha=1)\n",
    "plt.plot(X_real, Y_real, ls='--', label='real function')\n",
    "plt.plot(X_data, Y_pred, marker='^', alpha=.5, label='predictions w/ polynomial features')\n",
    "plt.legend()\n",
    "ax = plt.gca()\n",
    "ax.set(xlabel='x data', ylabel='y data');"
   ]
  },
  {
   "cell_type": "code",
   "execution_count": 79,
   "metadata": {},
   "outputs": [
    {
     "name": "stderr",
     "output_type": "stream",
     "text": [
      "/home/godwin/Desktop/Organised/python/python/ML_Foundation/.venv/lib/python3.6/site-packages/sklearn/linear_model/_coordinate_descent.py:531: ConvergenceWarning: Objective did not converge. You might want to increase the number of iterations. Duality gap: 0.4469570520796863, tolerance: 0.0012227586753890333\n",
      "  positive)\n"
     ]
    },
    {
     "data": {
      "image/png": "[encoded data removed]",
      "text/plain": [
       "<Figure size 432x288 with 1 Axes>"
      ]
     },
     "metadata": {},
     "output_type": "display_data"
    }
   ],
   "source": [
    "# The ridge regression model\n",
    "rr = Ridge(alpha=0.001)\n",
    "rr = rr.fit(X_poly, Y_data)\n",
    "Y_pred_rr = rr.predict(X_poly)\n",
    "\n",
    "# The lasso regression model\n",
    "lassor = Lasso(alpha=0.0001)\n",
    "lassor = lassor.fit(X_poly, Y_data)\n",
    "Y_pred_lr = lassor.predict(X_poly)\n",
    "\n",
    "# The plot of the predicted values\n",
    "plt.plot(X_data, Y_data, marker='o', ls='', label='data')\n",
    "plt.plot(X_real, Y_real, ls='--', label='real function')\n",
    "plt.plot(X_data, Y_pred, label='linear regression', marker='^', alpha=.5)\n",
    "plt.plot(X_data, Y_pred_rr, label='ridge regression', marker='^', alpha=.5)\n",
    "plt.plot(X_data, Y_pred_lr, label='lasso regression', marker='^', alpha=.5)\n",
    "\n",
    "plt.legend()\n",
    "\n",
    "ax = plt.gca()\n",
    "ax.set(xlabel='x data', ylabel='y data');"
   ]
  },
  {
   "cell_type": "code",
   "execution_count": 80,
   "metadata": {},
   "outputs": [
    {
     "data": {
      "text/html": [
       "<div>\n",
       "<style scoped>\n",
       "    .dataframe tbody tr th:only-of-type {\n",
       "        vertical-align: middle;\n",
       "    }\n",
       "\n",
       "    .dataframe tbody tr th {\n",
       "        vertical-align: top;\n",
       "    }\n",
       "\n",
       "    .dataframe thead th {\n",
       "        text-align: right;\n",
       "    }\n",
       "</style>\n",
       "<table border=\"1\" class=\"dataframe\">\n",
       "  <thead>\n",
       "    <tr style=\"text-align: right;\">\n",
       "      <th></th>\n",
       "      <th>linear regression</th>\n",
       "      <th>ridge regression</th>\n",
       "      <th>lasso regression</th>\n",
       "    </tr>\n",
       "  </thead>\n",
       "  <tbody>\n",
       "    <tr>\n",
       "      <th>count</th>\n",
       "      <td>2.100000e+01</td>\n",
       "      <td>21.000000</td>\n",
       "      <td>21.000000</td>\n",
       "    </tr>\n",
       "    <tr>\n",
       "      <th>mean</th>\n",
       "      <td>5.777551e+13</td>\n",
       "      <td>2.169397</td>\n",
       "      <td>2.167284</td>\n",
       "    </tr>\n",
       "    <tr>\n",
       "      <th>std</th>\n",
       "      <td>6.031941e+13</td>\n",
       "      <td>2.900278</td>\n",
       "      <td>4.706731</td>\n",
       "    </tr>\n",
       "    <tr>\n",
       "      <th>min</th>\n",
       "      <td>1.619371e+07</td>\n",
       "      <td>0.000000</td>\n",
       "      <td>0.000000</td>\n",
       "    </tr>\n",
       "    <tr>\n",
       "      <th>25%</th>\n",
       "      <td>3.416390e+12</td>\n",
       "      <td>0.467578</td>\n",
       "      <td>0.000000</td>\n",
       "    </tr>\n",
       "    <tr>\n",
       "      <th>50%</th>\n",
       "      <td>3.621188e+13</td>\n",
       "      <td>1.017272</td>\n",
       "      <td>0.252181</td>\n",
       "    </tr>\n",
       "    <tr>\n",
       "      <th>75%</th>\n",
       "      <td>1.070540e+14</td>\n",
       "      <td>2.883507</td>\n",
       "      <td>1.641353</td>\n",
       "    </tr>\n",
       "    <tr>\n",
       "      <th>max</th>\n",
       "      <td>1.655347e+14</td>\n",
       "      <td>12.429635</td>\n",
       "      <td>20.176708</td>\n",
       "    </tr>\n",
       "  </tbody>\n",
       "</table>\n",
       "</div>"
      ],
      "text/plain": [
       "       linear regression  ridge regression  lasso regression\n",
       "count       2.100000e+01         21.000000         21.000000\n",
       "mean        5.777551e+13          2.169397          2.167284\n",
       "std         6.031941e+13          2.900278          4.706731\n",
       "min         1.619371e+07          0.000000          0.000000\n",
       "25%         3.416390e+12          0.467578          0.000000\n",
       "50%         3.621188e+13          1.017272          0.252181\n",
       "75%         1.070540e+14          2.883507          1.641353\n",
       "max         1.655347e+14         12.429635         20.176708"
      ]
     },
     "execution_count": 80,
     "metadata": {},
     "output_type": "execute_result"
    }
   ],
   "source": [
    "# let's look at the absolute value of coefficients for each model\n",
    "\n",
    "coefficients = pd.DataFrame()\n",
    "coefficients['linear regression'] = lr.coef_.ravel()\n",
    "coefficients['ridge regression'] = rr.coef_.ravel()\n",
    "coefficients['lasso regression'] = lassor.coef_.ravel()\n",
    "coefficients = coefficients.applymap(abs)\n",
    "\n",
    "coefficients.describe()  # Huge difference in scale between non-regularized vs regularized regression"
   ]
  },
  {
   "cell_type": "code",
   "execution_count": 81,
   "metadata": {},
   "outputs": [
    {
     "data": {
      "image/png": "[encoded data removed]",
      "text/plain": [
       "<Figure size 432x288 with 2 Axes>"
      ]
     },
     "metadata": {},
     "output_type": "display_data"
    }
   ],
   "source": [
    "colors = sns.color_palette()\n",
    "\n",
    "# Setup the dual y-axes\n",
    "ax1 = plt.axes()\n",
    "ax2 = ax1.twinx()\n",
    "\n",
    "# Plot the linear regression data\n",
    "ax1.plot(lr.coef_.ravel(), \n",
    "         color=colors[0], marker='o', label='linear regression')\n",
    "\n",
    "# Plot the regularization data sets\n",
    "ax2.plot(rr.coef_.ravel(), \n",
    "         color=colors[1], marker='o', label='ridge regression')\n",
    "\n",
    "ax2.plot(lassor.coef_.ravel(), \n",
    "         color=colors[2], marker='o', label='lasso regression')\n",
    "\n",
    "# Customize axes scales\n",
    "ax1.set_ylim(-2e14, 2e14)\n",
    "ax2.set_ylim(-25, 25)\n",
    "\n",
    "# Combine the legends\n",
    "h1, l1 = ax1.get_legend_handles_labels()\n",
    "h2, l2 = ax2.get_legend_handles_labels()\n",
    "ax1.legend(h1+h2, l1+l2)\n",
    "\n",
    "ax1.set(xlabel='coefficients',ylabel='linear regression')\n",
    "ax2.set(ylabel='ridge and lasso regression')\n",
    "\n",
    "ax1.set_xticks(range(len(lr.coef_)));"
   ]
  },
  {
   "cell_type": "code",
   "execution_count": 82,
   "metadata": {},
   "outputs": [
    {
     "data": {
      "text/html": [
       "<div>\n",
       "<style scoped>\n",
       "    .dataframe tbody tr th:only-of-type {\n",
       "        vertical-align: middle;\n",
       "    }\n",
       "\n",
       "    .dataframe tbody tr th {\n",
       "        vertical-align: top;\n",
       "    }\n",
       "\n",
       "    .dataframe thead th {\n",
       "        text-align: right;\n",
       "    }\n",
       "</style>\n",
       "<table border=\"1\" class=\"dataframe\">\n",
       "  <thead>\n",
       "    <tr style=\"text-align: right;\">\n",
       "      <th></th>\n",
       "      <th>1stFlrSF</th>\n",
       "      <th>2ndFlrSF</th>\n",
       "      <th>3SsnPorch</th>\n",
       "      <th>Alley</th>\n",
       "      <th>BedroomAbvGr</th>\n",
       "      <th>BldgType</th>\n",
       "      <th>BsmtCond</th>\n",
       "      <th>BsmtExposure</th>\n",
       "      <th>BsmtFinSF1</th>\n",
       "      <th>BsmtFinSF2</th>\n",
       "      <th>...</th>\n",
       "      <th>ScreenPorch</th>\n",
       "      <th>Street</th>\n",
       "      <th>TotRmsAbvGrd</th>\n",
       "      <th>TotalBsmtSF</th>\n",
       "      <th>Utilities</th>\n",
       "      <th>WoodDeckSF</th>\n",
       "      <th>YearBuilt</th>\n",
       "      <th>YearRemodAdd</th>\n",
       "      <th>YrSold</th>\n",
       "      <th>SalePrice</th>\n",
       "    </tr>\n",
       "  </thead>\n",
       "  <tbody>\n",
       "    <tr>\n",
       "      <th>0</th>\n",
       "      <td>856.0</td>\n",
       "      <td>854.0</td>\n",
       "      <td>0.0</td>\n",
       "      <td>None</td>\n",
       "      <td>3</td>\n",
       "      <td>1Fam</td>\n",
       "      <td>TA</td>\n",
       "      <td>No</td>\n",
       "      <td>706.0</td>\n",
       "      <td>0.0</td>\n",
       "      <td>...</td>\n",
       "      <td>0.0</td>\n",
       "      <td>Pave</td>\n",
       "      <td>8</td>\n",
       "      <td>856.0</td>\n",
       "      <td>AllPub</td>\n",
       "      <td>0.0</td>\n",
       "      <td>2003</td>\n",
       "      <td>2003</td>\n",
       "      <td>2008</td>\n",
       "      <td>208500.0</td>\n",
       "    </tr>\n",
       "    <tr>\n",
       "      <th>1</th>\n",
       "      <td>1262.0</td>\n",
       "      <td>0.0</td>\n",
       "      <td>0.0</td>\n",
       "      <td>None</td>\n",
       "      <td>3</td>\n",
       "      <td>1Fam</td>\n",
       "      <td>TA</td>\n",
       "      <td>Gd</td>\n",
       "      <td>978.0</td>\n",
       "      <td>0.0</td>\n",
       "      <td>...</td>\n",
       "      <td>0.0</td>\n",
       "      <td>Pave</td>\n",
       "      <td>6</td>\n",
       "      <td>1262.0</td>\n",
       "      <td>AllPub</td>\n",
       "      <td>298.0</td>\n",
       "      <td>1976</td>\n",
       "      <td>1976</td>\n",
       "      <td>2007</td>\n",
       "      <td>181500.0</td>\n",
       "    </tr>\n",
       "    <tr>\n",
       "      <th>2</th>\n",
       "      <td>920.0</td>\n",
       "      <td>866.0</td>\n",
       "      <td>0.0</td>\n",
       "      <td>None</td>\n",
       "      <td>3</td>\n",
       "      <td>1Fam</td>\n",
       "      <td>TA</td>\n",
       "      <td>Mn</td>\n",
       "      <td>486.0</td>\n",
       "      <td>0.0</td>\n",
       "      <td>...</td>\n",
       "      <td>0.0</td>\n",
       "      <td>Pave</td>\n",
       "      <td>6</td>\n",
       "      <td>920.0</td>\n",
       "      <td>AllPub</td>\n",
       "      <td>0.0</td>\n",
       "      <td>2001</td>\n",
       "      <td>2002</td>\n",
       "      <td>2008</td>\n",
       "      <td>223500.0</td>\n",
       "    </tr>\n",
       "    <tr>\n",
       "      <th>3</th>\n",
       "      <td>961.0</td>\n",
       "      <td>756.0</td>\n",
       "      <td>0.0</td>\n",
       "      <td>None</td>\n",
       "      <td>3</td>\n",
       "      <td>1Fam</td>\n",
       "      <td>Gd</td>\n",
       "      <td>No</td>\n",
       "      <td>216.0</td>\n",
       "      <td>0.0</td>\n",
       "      <td>...</td>\n",
       "      <td>0.0</td>\n",
       "      <td>Pave</td>\n",
       "      <td>7</td>\n",
       "      <td>756.0</td>\n",
       "      <td>AllPub</td>\n",
       "      <td>0.0</td>\n",
       "      <td>1915</td>\n",
       "      <td>1970</td>\n",
       "      <td>2006</td>\n",
       "      <td>140000.0</td>\n",
       "    </tr>\n",
       "    <tr>\n",
       "      <th>4</th>\n",
       "      <td>1145.0</td>\n",
       "      <td>1053.0</td>\n",
       "      <td>0.0</td>\n",
       "      <td>None</td>\n",
       "      <td>4</td>\n",
       "      <td>1Fam</td>\n",
       "      <td>TA</td>\n",
       "      <td>Av</td>\n",
       "      <td>655.0</td>\n",
       "      <td>0.0</td>\n",
       "      <td>...</td>\n",
       "      <td>0.0</td>\n",
       "      <td>Pave</td>\n",
       "      <td>9</td>\n",
       "      <td>1145.0</td>\n",
       "      <td>AllPub</td>\n",
       "      <td>192.0</td>\n",
       "      <td>2000</td>\n",
       "      <td>2000</td>\n",
       "      <td>2008</td>\n",
       "      <td>250000.0</td>\n",
       "    </tr>\n",
       "    <tr>\n",
       "      <th>5</th>\n",
       "      <td>796.0</td>\n",
       "      <td>566.0</td>\n",
       "      <td>320.0</td>\n",
       "      <td>None</td>\n",
       "      <td>1</td>\n",
       "      <td>1Fam</td>\n",
       "      <td>TA</td>\n",
       "      <td>No</td>\n",
       "      <td>732.0</td>\n",
       "      <td>0.0</td>\n",
       "      <td>...</td>\n",
       "      <td>0.0</td>\n",
       "      <td>Pave</td>\n",
       "      <td>5</td>\n",
       "      <td>796.0</td>\n",
       "      <td>AllPub</td>\n",
       "      <td>40.0</td>\n",
       "      <td>1993</td>\n",
       "      <td>1995</td>\n",
       "      <td>2009</td>\n",
       "      <td>143000.0</td>\n",
       "    </tr>\n",
       "    <tr>\n",
       "      <th>6</th>\n",
       "      <td>1694.0</td>\n",
       "      <td>0.0</td>\n",
       "      <td>0.0</td>\n",
       "      <td>None</td>\n",
       "      <td>3</td>\n",
       "      <td>1Fam</td>\n",
       "      <td>TA</td>\n",
       "      <td>Av</td>\n",
       "      <td>1369.0</td>\n",
       "      <td>0.0</td>\n",
       "      <td>...</td>\n",
       "      <td>0.0</td>\n",
       "      <td>Pave</td>\n",
       "      <td>7</td>\n",
       "      <td>1686.0</td>\n",
       "      <td>AllPub</td>\n",
       "      <td>255.0</td>\n",
       "      <td>2004</td>\n",
       "      <td>2005</td>\n",
       "      <td>2007</td>\n",
       "      <td>307000.0</td>\n",
       "    </tr>\n",
       "    <tr>\n",
       "      <th>7</th>\n",
       "      <td>1107.0</td>\n",
       "      <td>983.0</td>\n",
       "      <td>0.0</td>\n",
       "      <td>None</td>\n",
       "      <td>3</td>\n",
       "      <td>1Fam</td>\n",
       "      <td>TA</td>\n",
       "      <td>Mn</td>\n",
       "      <td>859.0</td>\n",
       "      <td>32.0</td>\n",
       "      <td>...</td>\n",
       "      <td>0.0</td>\n",
       "      <td>Pave</td>\n",
       "      <td>7</td>\n",
       "      <td>1107.0</td>\n",
       "      <td>AllPub</td>\n",
       "      <td>235.0</td>\n",
       "      <td>1973</td>\n",
       "      <td>1973</td>\n",
       "      <td>2009</td>\n",
       "      <td>200000.0</td>\n",
       "    </tr>\n",
       "    <tr>\n",
       "      <th>8</th>\n",
       "      <td>1022.0</td>\n",
       "      <td>752.0</td>\n",
       "      <td>0.0</td>\n",
       "      <td>None</td>\n",
       "      <td>2</td>\n",
       "      <td>1Fam</td>\n",
       "      <td>None</td>\n",
       "      <td>None</td>\n",
       "      <td>0.0</td>\n",
       "      <td>0.0</td>\n",
       "      <td>...</td>\n",
       "      <td>0.0</td>\n",
       "      <td>Pave</td>\n",
       "      <td>8</td>\n",
       "      <td>952.0</td>\n",
       "      <td>AllPub</td>\n",
       "      <td>90.0</td>\n",
       "      <td>1931</td>\n",
       "      <td>1950</td>\n",
       "      <td>2008</td>\n",
       "      <td>129900.0</td>\n",
       "    </tr>\n",
       "    <tr>\n",
       "      <th>9</th>\n",
       "      <td>1077.0</td>\n",
       "      <td>0.0</td>\n",
       "      <td>0.0</td>\n",
       "      <td>None</td>\n",
       "      <td>2</td>\n",
       "      <td>2fmCon</td>\n",
       "      <td>TA</td>\n",
       "      <td>No</td>\n",
       "      <td>851.0</td>\n",
       "      <td>0.0</td>\n",
       "      <td>...</td>\n",
       "      <td>0.0</td>\n",
       "      <td>Pave</td>\n",
       "      <td>5</td>\n",
       "      <td>991.0</td>\n",
       "      <td>AllPub</td>\n",
       "      <td>0.0</td>\n",
       "      <td>1939</td>\n",
       "      <td>1950</td>\n",
       "      <td>2008</td>\n",
       "      <td>118000.0</td>\n",
       "    </tr>\n",
       "  </tbody>\n",
       "</table>\n",
       "<p>10 rows × 80 columns</p>\n",
       "</div>"
      ],
      "text/plain": [
       "   1stFlrSF  2ndFlrSF  3SsnPorch Alley  BedroomAbvGr BldgType BsmtCond  \\\n",
       "0     856.0     854.0        0.0  None             3     1Fam       TA   \n",
       "1    1262.0       0.0        0.0  None             3     1Fam       TA   \n",
       "2     920.0     866.0        0.0  None             3     1Fam       TA   \n",
       "3     961.0     756.0        0.0  None             3     1Fam       Gd   \n",
       "4    1145.0    1053.0        0.0  None             4     1Fam       TA   \n",
       "5     796.0     566.0      320.0  None             1     1Fam       TA   \n",
       "6    1694.0       0.0        0.0  None             3     1Fam       TA   \n",
       "7    1107.0     983.0        0.0  None             3     1Fam       TA   \n",
       "8    1022.0     752.0        0.0  None             2     1Fam     None   \n",
       "9    1077.0       0.0        0.0  None             2   2fmCon       TA   \n",
       "\n",
       "  BsmtExposure  BsmtFinSF1  BsmtFinSF2  ... ScreenPorch Street  TotRmsAbvGrd  \\\n",
       "0           No       706.0         0.0  ...         0.0   Pave             8   \n",
       "1           Gd       978.0         0.0  ...         0.0   Pave             6   \n",
       "2           Mn       486.0         0.0  ...         0.0   Pave             6   \n",
       "3           No       216.0         0.0  ...         0.0   Pave             7   \n",
       "4           Av       655.0         0.0  ...         0.0   Pave             9   \n",
       "5           No       732.0         0.0  ...         0.0   Pave             5   \n",
       "6           Av      1369.0         0.0  ...         0.0   Pave             7   \n",
       "7           Mn       859.0        32.0  ...         0.0   Pave             7   \n",
       "8         None         0.0         0.0  ...         0.0   Pave             8   \n",
       "9           No       851.0         0.0  ...         0.0   Pave             5   \n",
       "\n",
       "   TotalBsmtSF Utilities  WoodDeckSF YearBuilt YearRemodAdd YrSold SalePrice  \n",
       "0        856.0    AllPub         0.0      2003         2003   2008  208500.0  \n",
       "1       1262.0    AllPub       298.0      1976         1976   2007  181500.0  \n",
       "2        920.0    AllPub         0.0      2001         2002   2008  223500.0  \n",
       "3        756.0    AllPub         0.0      1915         1970   2006  140000.0  \n",
       "4       1145.0    AllPub       192.0      2000         2000   2008  250000.0  \n",
       "5        796.0    AllPub        40.0      1993         1995   2009  143000.0  \n",
       "6       1686.0    AllPub       255.0      2004         2005   2007  307000.0  \n",
       "7       1107.0    AllPub       235.0      1973         1973   2009  200000.0  \n",
       "8        952.0    AllPub        90.0      1931         1950   2008  129900.0  \n",
       "9        991.0    AllPub         0.0      1939         1950   2008  118000.0  \n",
       "\n",
       "[10 rows x 80 columns]"
      ]
     },
     "execution_count": 82,
     "metadata": {},
     "output_type": "execute_result"
    }
   ],
   "source": [
    "data = pd.read_csv(\"https://cf-courses-data.s3.us.cloud-object-storage.appdomain.cloud/IBM-ML240EN-SkillsNetwork/labs/data/Ames_Housing_Sales.csv\")\n",
    "data.head(10)"
   ]
  },
  {
   "cell_type": "code",
   "execution_count": 83,
   "metadata": {},
   "outputs": [
    {
     "data": {
      "text/plain": [
       "Index(['1stFlrSF', '2ndFlrSF', '3SsnPorch', 'BedroomAbvGr', 'BsmtFinSF1',\n",
       "       'BsmtFinSF2', 'BsmtFullBath', 'BsmtHalfBath', 'BsmtUnfSF',\n",
       "       'EnclosedPorch',\n",
       "       ...\n",
       "       'SaleType_CWD', 'SaleType_Con', 'SaleType_ConLD', 'SaleType_ConLI',\n",
       "       'SaleType_ConLw', 'SaleType_New', 'SaleType_Oth', 'SaleType_WD',\n",
       "       'Street_Pave', 'Utilities_NoSeWa'],\n",
       "      dtype='object', length=252)"
      ]
     },
     "execution_count": 83,
     "metadata": {},
     "output_type": "execute_result"
    }
   ],
   "source": [
    "# Do the one hot encoding using pd.get_dummies\n",
    "# By default, get_dummies converts all columns with object or category dtype\n",
    "data = pd.get_dummies(data, drop_first=True)\n",
    "data.columns"
   ]
  },
  {
   "cell_type": "markdown",
   "metadata": {},
   "source": [
    "Produce the same result as above"
   ]
  },
  {
   "cell_type": "code",
   "execution_count": 84,
   "metadata": {},
   "outputs": [],
   "source": [
    "# Get a Pd.Series consisting of all the string categoricals\n",
    "one_hot_encode_cols = data.dtypes[data.dtypes == np.object]  # filtering by string categoricals\n",
    "one_hot_encode_cols = one_hot_encode_cols.index.tolist()  # list of categorical fields\n",
    "\n",
    "# Here we see another way of one-hot-encoding:\n",
    "# Encode these columns as categoricals so one hot encoding works on split data (if desired)\n",
    "for col in one_hot_encode_cols:\n",
    "    data[col] = pd.Categorical(data[col])\n",
    "\n",
    "# Do the one hot encoding\n",
    "data = pd.get_dummies(data, columns=one_hot_encode_cols)"
   ]
  },
  {
   "cell_type": "code",
   "execution_count": 85,
   "metadata": {},
   "outputs": [],
   "source": [
    "# split data into train and test sets\n",
    "train, test = train_test_split(data, test_size=0.3, random_state=42)"
   ]
  },
  {
   "cell_type": "code",
   "execution_count": 86,
   "metadata": {},
   "outputs": [],
   "source": [
    "# Create a list of float colums/ that are not one hot encoded to check for skewing\n",
    "mask = data.dtypes == np.float\n",
    "float_cols = data.columns[mask]"
   ]
  },
  {
   "cell_type": "code",
   "execution_count": 87,
   "metadata": {},
   "outputs": [
    {
     "data": {
      "text/html": [
       "<div>\n",
       "<style scoped>\n",
       "    .dataframe tbody tr th:only-of-type {\n",
       "        vertical-align: middle;\n",
       "    }\n",
       "\n",
       "    .dataframe tbody tr th {\n",
       "        vertical-align: top;\n",
       "    }\n",
       "\n",
       "    .dataframe thead th {\n",
       "        text-align: right;\n",
       "    }\n",
       "</style>\n",
       "<table border=\"1\" class=\"dataframe\">\n",
       "  <thead>\n",
       "    <tr style=\"text-align: right;\">\n",
       "      <th></th>\n",
       "      <th>Skew</th>\n",
       "    </tr>\n",
       "  </thead>\n",
       "  <tbody>\n",
       "    <tr>\n",
       "      <th>MiscVal</th>\n",
       "      <td>26.915364</td>\n",
       "    </tr>\n",
       "    <tr>\n",
       "      <th>PoolArea</th>\n",
       "      <td>15.777668</td>\n",
       "    </tr>\n",
       "    <tr>\n",
       "      <th>LotArea</th>\n",
       "      <td>11.501694</td>\n",
       "    </tr>\n",
       "    <tr>\n",
       "      <th>LowQualFinSF</th>\n",
       "      <td>11.210638</td>\n",
       "    </tr>\n",
       "    <tr>\n",
       "      <th>3SsnPorch</th>\n",
       "      <td>10.150612</td>\n",
       "    </tr>\n",
       "    <tr>\n",
       "      <th>ScreenPorch</th>\n",
       "      <td>4.599803</td>\n",
       "    </tr>\n",
       "    <tr>\n",
       "      <th>BsmtFinSF2</th>\n",
       "      <td>4.466378</td>\n",
       "    </tr>\n",
       "    <tr>\n",
       "      <th>EnclosedPorch</th>\n",
       "      <td>3.218303</td>\n",
       "    </tr>\n",
       "    <tr>\n",
       "      <th>LotFrontage</th>\n",
       "      <td>3.138032</td>\n",
       "    </tr>\n",
       "    <tr>\n",
       "      <th>MasVnrArea</th>\n",
       "      <td>2.492814</td>\n",
       "    </tr>\n",
       "    <tr>\n",
       "      <th>OpenPorchSF</th>\n",
       "      <td>2.295489</td>\n",
       "    </tr>\n",
       "    <tr>\n",
       "      <th>SalePrice</th>\n",
       "      <td>2.106910</td>\n",
       "    </tr>\n",
       "    <tr>\n",
       "      <th>BsmtFinSF1</th>\n",
       "      <td>2.010766</td>\n",
       "    </tr>\n",
       "    <tr>\n",
       "      <th>TotalBsmtSF</th>\n",
       "      <td>1.979164</td>\n",
       "    </tr>\n",
       "    <tr>\n",
       "      <th>1stFlrSF</th>\n",
       "      <td>1.539692</td>\n",
       "    </tr>\n",
       "    <tr>\n",
       "      <th>GrLivArea</th>\n",
       "      <td>1.455564</td>\n",
       "    </tr>\n",
       "    <tr>\n",
       "      <th>WoodDeckSF</th>\n",
       "      <td>1.334388</td>\n",
       "    </tr>\n",
       "    <tr>\n",
       "      <th>BsmtUnfSF</th>\n",
       "      <td>0.900308</td>\n",
       "    </tr>\n",
       "    <tr>\n",
       "      <th>GarageArea</th>\n",
       "      <td>0.838422</td>\n",
       "    </tr>\n",
       "    <tr>\n",
       "      <th>2ndFlrSF</th>\n",
       "      <td>0.773655</td>\n",
       "    </tr>\n",
       "  </tbody>\n",
       "</table>\n",
       "</div>"
      ],
      "text/plain": [
       "                    Skew\n",
       "MiscVal        26.915364\n",
       "PoolArea       15.777668\n",
       "LotArea        11.501694\n",
       "LowQualFinSF   11.210638\n",
       "3SsnPorch      10.150612\n",
       "ScreenPorch     4.599803\n",
       "BsmtFinSF2      4.466378\n",
       "EnclosedPorch   3.218303\n",
       "LotFrontage     3.138032\n",
       "MasVnrArea      2.492814\n",
       "OpenPorchSF     2.295489\n",
       "SalePrice       2.106910\n",
       "BsmtFinSF1      2.010766\n",
       "TotalBsmtSF     1.979164\n",
       "1stFlrSF        1.539692\n",
       "GrLivArea       1.455564\n",
       "WoodDeckSF      1.334388\n",
       "BsmtUnfSF       0.900308\n",
       "GarageArea      0.838422\n",
       "2ndFlrSF        0.773655"
      ]
     },
     "execution_count": 87,
     "metadata": {},
     "output_type": "execute_result"
    }
   ],
   "source": [
    "skew_limit = 0.75\n",
    "skew_vals = train[float_cols].skew()\n",
    "\n",
    "skew_cols = (skew_vals\n",
    "             .sort_values(ascending=False)\n",
    "             .to_frame()\n",
    "             .rename(columns={0:'Skew'})\n",
    "             .query('abs(Skew) > {0}'.format(skew_limit)))\n",
    "\n",
    "skew_cols"
   ]
  },
  {
   "cell_type": "code",
   "execution_count": 88,
   "metadata": {},
   "outputs": [
    {
     "data": {
      "image/png": "[encoded data removed]",
      "text/plain": [
       "<Figure size 720x360 with 2 Axes>"
      ]
     },
     "metadata": {},
     "output_type": "display_data"
    }
   ],
   "source": [
    "# OPTIONAL: Let's look at what happens to one of these features, when we apply np.log1p visually.\n",
    "\n",
    "field = \"BsmtFinSF1\"\n",
    "fig, (ax_before, ax_after) = plt.subplots(1, 2, figsize=(10, 5))\n",
    "train[field].hist(ax=ax_before)\n",
    "train[field].apply(np.log1p).hist(ax=ax_after)\n",
    "ax_before.set(title='before np.log1p', ylabel='frequency', xlabel='value')\n",
    "ax_after.set(title='after np.log1p', ylabel='frequency', xlabel='value')\n",
    "fig.suptitle('Field \"{}\"'.format(field));\n",
    "# a little bit better"
   ]
  },
  {
   "cell_type": "code",
   "execution_count": 89,
   "metadata": {},
   "outputs": [
    {
     "name": "stderr",
     "output_type": "stream",
     "text": [
      "/home/godwin/.local/lib/python3.6/site-packages/ipykernel_launcher.py:6: SettingWithCopyWarning: \n",
      "A value is trying to be set on a copy of a slice from a DataFrame.\n",
      "Try using .loc[row_indexer,col_indexer] = value instead\n",
      "\n",
      "See the caveats in the documentation: https://pandas.pydata.org/pandas-docs/stable/user_guide/indexing.html#returning-a-view-versus-a-copy\n",
      "  \n",
      "/home/godwin/.local/lib/python3.6/site-packages/ipykernel_launcher.py:7: SettingWithCopyWarning: \n",
      "A value is trying to be set on a copy of a slice from a DataFrame.\n",
      "Try using .loc[row_indexer,col_indexer] = value instead\n",
      "\n",
      "See the caveats in the documentation: https://pandas.pydata.org/pandas-docs/stable/user_guide/indexing.html#returning-a-view-versus-a-copy\n",
      "  import sys\n"
     ]
    }
   ],
   "source": [
    "# Transform all the columns where the skew is greater than 0.75, excluding \"SalePrice\".\n",
    "# Note that I am using the same skew limit for all variables; this might not be the optimal approach\n",
    "for col in skew_cols.index.tolist():\n",
    "    if col == \"SalePrice\":\n",
    "        continue\n",
    "    train[col] = np.log1p(train[col])\n",
    "    test[col]  = test[col].apply(np.log1p)  # same thing"
   ]
  },
  {
   "cell_type": "code",
   "execution_count": 90,
   "metadata": {},
   "outputs": [],
   "source": [
    "# separate the data into X and y\n",
    "feature_cols = [x for x in train.columns if x != 'SalePrice']\n",
    "X_train = train[feature_cols]\n",
    "y_train = train['SalePrice']\n",
    "\n",
    "X_test  = test[feature_cols]\n",
    "y_test  = test['SalePrice']"
   ]
  },
  {
   "cell_type": "code",
   "execution_count": 91,
   "metadata": {},
   "outputs": [
    {
     "name": "stdout",
     "output_type": "stream",
     "text": [
      "78601.29338614013\n"
     ]
    }
   ],
   "source": [
    "from sklearn.metrics import mean_squared_error\n",
    "\n",
    "\n",
    "def rmse(ytrue, ypredicted):\n",
    "    return np.sqrt(mean_squared_error(ytrue, ypredicted))\n",
    "\n",
    "linearRegression = LinearRegression().fit(X_train, y_train)\n",
    "\n",
    "linearRegression_rmse = rmse(y_test, linearRegression.predict(X_test))\n",
    "\n",
    "print(linearRegression_rmse)"
   ]
  },
  {
   "cell_type": "code",
   "execution_count": 92,
   "metadata": {},
   "outputs": [
    {
     "data": {
      "image/png": "[encoded data removed]",
      "text/plain": [
       "<Figure size 432x432 with 1 Axes>"
      ]
     },
     "metadata": {},
     "output_type": "display_data"
    }
   ],
   "source": [
    "f = plt.figure(figsize=(6,6))\n",
    "ax = plt.axes()\n",
    "\n",
    "ax.plot(y_test, linearRegression.predict(X_test), \n",
    "         marker='o', ls='', ms=3.0)\n",
    "\n",
    "lim = (0, y_test.max())\n",
    "\n",
    "ax.set(xlabel='Actual Price', \n",
    "       ylabel='Predicted Price', \n",
    "       xlim=lim,\n",
    "       ylim=lim,\n",
    "       title='Linear Regression Results');"
   ]
  },
  {
   "cell_type": "code",
   "execution_count": 93,
   "metadata": {},
   "outputs": [
    {
     "name": "stdout",
     "output_type": "stream",
     "text": [
      "10.0 32040.43323781704\n"
     ]
    }
   ],
   "source": [
    "from sklearn.linear_model import RidgeCV\n",
    "\n",
    "alphas = [0.005, 0.05, 0.1, 0.3, 1, 3, 5, 10, 15, 30, 80]\n",
    "\n",
    "ridgeCV = RidgeCV(alphas=alphas, \n",
    "                  cv=4).fit(X_train, y_train)\n",
    "\n",
    "ridgeCV_rmse = rmse(y_test, ridgeCV.predict(X_test))\n",
    "\n",
    "print(ridgeCV.alpha_, ridgeCV_rmse)"
   ]
  },
  {
   "cell_type": "code",
   "execution_count": 94,
   "metadata": {},
   "outputs": [],
   "source": [
    "from sklearn.linear_model import LassoCV\n",
    "\n",
    "# alphas2 = np.array([1e-5, 5e-5, 0.0001, 0.0005])\n",
    "\n",
    "# lassoCV = LassoCV(alphas=alphas2,\n",
    "#                   max_iter=5e6,\n",
    "#                   cv=3).fit(X_train, y_train)\n",
    "\n",
    "# lassoCV_rmse = rmse(y_test, lassoCV.predict(X_test))\n",
    "\n",
    "# print(lassoCV.alpha_, lassoCV_rmse)  # Lasso is slower"
   ]
  },
  {
   "cell_type": "code",
   "execution_count": 95,
   "metadata": {},
   "outputs": [
    {
     "ename": "NameError",
     "evalue": "name 'alphas2' is not defined",
     "output_type": "error",
     "traceback": [
      "\u001b[0;31m---------------------------------------------------------------------------\u001b[0m",
      "\u001b[0;31mNameError\u001b[0m                                 Traceback (most recent call last)",
      "\u001b[0;32m<ipython-input-95-794ce0371ce4>\u001b[0m in \u001b[0;36m<module>\u001b[0;34m\u001b[0m\n\u001b[1;32m      3\u001b[0m \u001b[0ml1_ratios\u001b[0m \u001b[0;34m=\u001b[0m \u001b[0mnp\u001b[0m\u001b[0;34m.\u001b[0m\u001b[0mlinspace\u001b[0m\u001b[0;34m(\u001b[0m\u001b[0;36m0.1\u001b[0m\u001b[0;34m,\u001b[0m \u001b[0;36m0.9\u001b[0m\u001b[0;34m,\u001b[0m \u001b[0;36m9\u001b[0m\u001b[0;34m)\u001b[0m\u001b[0;34m\u001b[0m\u001b[0;34m\u001b[0m\u001b[0m\n\u001b[1;32m      4\u001b[0m \u001b[0;34m\u001b[0m\u001b[0m\n\u001b[0;32m----> 5\u001b[0;31m elasticNetCV = ElasticNetCV(alphas=alphas2, \n\u001b[0m\u001b[1;32m      6\u001b[0m                             \u001b[0ml1_ratio\u001b[0m\u001b[0;34m=\u001b[0m\u001b[0ml1_ratios\u001b[0m\u001b[0;34m,\u001b[0m\u001b[0;34m\u001b[0m\u001b[0;34m\u001b[0m\u001b[0m\n\u001b[1;32m      7\u001b[0m                             max_iter=1e4).fit(X_train, y_train)\n",
      "\u001b[0;31mNameError\u001b[0m: name 'alphas2' is not defined"
     ]
    }
   ],
   "source": [
    "from sklearn.linear_model import ElasticNetCV\n",
    "\n",
    "l1_ratios = np.linspace(0.1, 0.9, 9)\n",
    "\n",
    "elasticNetCV = ElasticNetCV(alphas=alphas2, \n",
    "                            l1_ratio=l1_ratios,\n",
    "                            max_iter=1e4).fit(X_train, y_train)\n",
    "elasticNetCV_rmse = rmse(y_test, elasticNetCV.predict(X_test))\n",
    "\n",
    "print(elasticNetCV.alpha_, elasticNetCV.l1_ratio_, elasticNetCV_rmse)"
   ]
  },
  {
   "cell_type": "code",
   "execution_count": null,
   "metadata": {},
   "outputs": [],
   "source": [
    "rmse_vals = [linearRegression_rmse, ridgeCV_rmse, lassoCV_rmse, elasticNetCV_rmse]\n",
    "\n",
    "labels = ['Linear', 'Ridge', 'Lasso', 'ElasticNet']\n",
    "\n",
    "rmse_df = pd.Series(rmse_vals, index=labels).to_frame()\n",
    "rmse_df.rename(columns={0: 'RMSE'}, inplace=1)\n",
    "rmse_df"
   ]
  },
  {
   "cell_type": "code",
   "execution_count": null,
   "metadata": {},
   "outputs": [],
   "source": [
    "f = plt.figure(figsize=(6,6))\n",
    "ax = plt.axes()\n",
    "\n",
    "labels = ['Ridge', 'Lasso', 'ElasticNet']\n",
    "\n",
    "models = [ridgeCV, lassoCV, elasticNetCV]\n",
    "\n",
    "for mod, lab in zip(models, labels):\n",
    "    ax.plot(y_test, mod.predict(X_test), \n",
    "             marker='o', ls='', ms=3.0, label=lab)\n",
    "\n",
    "\n",
    "leg = plt.legend(frameon=True)\n",
    "leg.get_frame().set_edgecolor('black')\n",
    "leg.get_frame().set_linewidth(1.0)\n",
    "\n",
    "ax.set(xlabel='Actual Price', \n",
    "       ylabel='Predicted Price', \n",
    "       title='Linear Regression Results');"
   ]
  },
  {
   "cell_type": "code",
   "execution_count": 96,
   "metadata": {},
   "outputs": [],
   "source": [
    "file_name='https://cf-courses-data.s3.us.cloud-object-storage.appdomain.cloud/IBMDeveloperSkillsNetwork-ST0151EN-SkillsNetwork/labs/boston_housing.csv'\n",
    "boston_data = pd.read_csv(file_name)"
   ]
  },
  {
   "cell_type": "code",
   "execution_count": 97,
   "metadata": {},
   "outputs": [],
   "source": [
    "y_col = \"MEDV\"\n",
    "\n",
    "X = boston_data.drop(y_col, axis=1)\n",
    "y = boston_data[y_col]"
   ]
  },
  {
   "cell_type": "code",
   "execution_count": 99,
   "metadata": {},
   "outputs": [
    {
     "name": "stdout",
     "output_type": "stream",
     "text": [
      "[-2.42636029e-03 -1.22171932e-01  4.85126072e-02  1.28332675e-02\n",
      "  2.85848356e+00 -1.85465079e+01  3.68561423e+00  1.09760066e-03\n",
      " -1.50785972e+00  3.07456893e-01 -1.19756752e-02 -9.32888615e-01\n",
      " -5.53514597e-01]\n"
     ]
    }
   ],
   "source": [
    "# without scaling\n",
    "lr = LinearRegression()\n",
    "lr.fit(X, y)\n",
    "print(lr.coef_) # min = -18"
   ]
  },
  {
   "cell_type": "code",
   "execution_count": 100,
   "metadata": {},
   "outputs": [
    {
     "name": "stdout",
     "output_type": "stream",
     "text": [
      "[-0.35441683 -1.04982846  1.13031443  0.0879537   0.72532001 -2.14700153\n",
      "  2.58701561  0.03086566 -3.17197647  2.67446025 -2.01635036 -2.01765634\n",
      " -3.94877404]\n"
     ]
    }
   ],
   "source": [
    "# with scaling\n",
    "s = StandardScaler()\n",
    "X_ss = s.fit_transform(X)\n",
    "\n",
    "lr2 = LinearRegression()\n",
    "lr2.fit(X_ss, y)\n",
    "print(lr2.coef_) # coefficients now \"on the same scale\""
   ]
  },
  {
   "cell_type": "code",
   "execution_count": 101,
   "metadata": {},
   "outputs": [
    {
     "data": {
      "text/html": [
       "<div>\n",
       "<style scoped>\n",
       "    .dataframe tbody tr th:only-of-type {\n",
       "        vertical-align: middle;\n",
       "    }\n",
       "\n",
       "    .dataframe tbody tr th {\n",
       "        vertical-align: top;\n",
       "    }\n",
       "\n",
       "    .dataframe thead th {\n",
       "        text-align: right;\n",
       "    }\n",
       "</style>\n",
       "<table border=\"1\" class=\"dataframe\">\n",
       "  <thead>\n",
       "    <tr style=\"text-align: right;\">\n",
       "      <th></th>\n",
       "      <th>0</th>\n",
       "      <th>1</th>\n",
       "    </tr>\n",
       "  </thead>\n",
       "  <tbody>\n",
       "    <tr>\n",
       "      <th>12</th>\n",
       "      <td>LSTAT</td>\n",
       "      <td>-3.948774</td>\n",
       "    </tr>\n",
       "    <tr>\n",
       "      <th>8</th>\n",
       "      <td>DIS</td>\n",
       "      <td>-3.171976</td>\n",
       "    </tr>\n",
       "    <tr>\n",
       "      <th>5</th>\n",
       "      <td>NOX</td>\n",
       "      <td>-2.147002</td>\n",
       "    </tr>\n",
       "    <tr>\n",
       "      <th>11</th>\n",
       "      <td>PTRATIO</td>\n",
       "      <td>-2.017656</td>\n",
       "    </tr>\n",
       "    <tr>\n",
       "      <th>10</th>\n",
       "      <td>TAX</td>\n",
       "      <td>-2.016350</td>\n",
       "    </tr>\n",
       "    <tr>\n",
       "      <th>1</th>\n",
       "      <td>CRIM</td>\n",
       "      <td>-1.049828</td>\n",
       "    </tr>\n",
       "    <tr>\n",
       "      <th>0</th>\n",
       "      <td>Unnamed: 0</td>\n",
       "      <td>-0.354417</td>\n",
       "    </tr>\n",
       "    <tr>\n",
       "      <th>7</th>\n",
       "      <td>AGE</td>\n",
       "      <td>0.030866</td>\n",
       "    </tr>\n",
       "    <tr>\n",
       "      <th>3</th>\n",
       "      <td>INDUS</td>\n",
       "      <td>0.087954</td>\n",
       "    </tr>\n",
       "    <tr>\n",
       "      <th>4</th>\n",
       "      <td>CHAS</td>\n",
       "      <td>0.725320</td>\n",
       "    </tr>\n",
       "    <tr>\n",
       "      <th>2</th>\n",
       "      <td>ZN</td>\n",
       "      <td>1.130314</td>\n",
       "    </tr>\n",
       "    <tr>\n",
       "      <th>6</th>\n",
       "      <td>RM</td>\n",
       "      <td>2.587016</td>\n",
       "    </tr>\n",
       "    <tr>\n",
       "      <th>9</th>\n",
       "      <td>RAD</td>\n",
       "      <td>2.674460</td>\n",
       "    </tr>\n",
       "  </tbody>\n",
       "</table>\n",
       "</div>"
      ],
      "text/plain": [
       "             0         1\n",
       "12       LSTAT -3.948774\n",
       "8          DIS -3.171976\n",
       "5          NOX -2.147002\n",
       "11     PTRATIO -2.017656\n",
       "10         TAX -2.016350\n",
       "1         CRIM -1.049828\n",
       "0   Unnamed: 0 -0.354417\n",
       "7          AGE  0.030866\n",
       "3        INDUS  0.087954\n",
       "4         CHAS  0.725320\n",
       "2           ZN  1.130314\n",
       "6           RM  2.587016\n",
       "9          RAD  2.674460"
      ]
     },
     "execution_count": 101,
     "metadata": {},
     "output_type": "execute_result"
    }
   ],
   "source": [
    "pd.DataFrame(zip(X.columns, lr2.coef_)).sort_values(by=1)\n"
   ]
  },
  {
   "cell_type": "code",
   "execution_count": 102,
   "metadata": {},
   "outputs": [
    {
     "data": {
      "text/plain": [
       "(array([-0.        , -0.        ,  0.        , -0.        ,  0.        ,\n",
       "        -0.        ,  0.        , -0.        , -0.        , -0.        ,\n",
       "        -0.        , -0.98376543, -0.        , -0.        , -0.        ,\n",
       "         0.        , -0.        ,  0.04720321, -0.        , -0.        ,\n",
       "        -0.        , -0.        , -0.        , -0.        , -0.        ,\n",
       "        -0.        , -0.        ,  0.        , -0.        ,  0.03386053,\n",
       "        -0.        , -0.        , -0.        , -0.10451645, -0.        ,\n",
       "        -0.        , -0.        , -0.        ,  0.        ,  0.        ,\n",
       "         0.        ,  0.        ,  0.        ,  0.        ,  0.        ,\n",
       "         0.        ,  0.        ,  0.        ,  0.        , -0.        ,\n",
       "         0.        , -0.        , -0.        , -0.        , -0.06378625,\n",
       "        -0.        , -0.        , -0.        , -0.        ,  0.        ,\n",
       "         0.        ,  0.        ,  0.        ,  0.        ,  0.        ,\n",
       "         0.        ,  0.        ,  0.        , -0.        , -0.        ,\n",
       "        -0.        , -0.        , -0.        , -0.        , -0.        ,\n",
       "        -0.        ,  3.42490485, -0.        , -0.        , -0.        ,\n",
       "        -0.        , -0.        , -3.62118316, -0.        , -0.        ,\n",
       "        -0.        , -0.        , -0.        , -0.        , -0.        ,\n",
       "        -0.        , -0.15244845, -0.        , -0.        , -0.        ,\n",
       "        -0.        , -0.        , -0.        , -0.        , -0.        ,\n",
       "        -0.        , -0.        , -0.        , -0.        ]),\n",
       " 0.7185629659673797)"
      ]
     },
     "execution_count": 102,
     "metadata": {},
     "output_type": "execute_result"
    }
   ],
   "source": [
    "pf = PolynomialFeatures(degree=2, include_bias=False,)\n",
    "X_pf = pf.fit_transform(X)\n",
    "\n",
    "X_pf_ss = s.fit_transform(X_pf)\n",
    "\n",
    "las = Lasso()\n",
    "las.fit(X_pf_ss, y)\n",
    "las.coef_ , r2_score(y,las.predict(X_pf_ss))\n"
   ]
  },
  {
   "cell_type": "code",
   "execution_count": 104,
   "metadata": {},
   "outputs": [
    {
     "data": {
      "text/plain": [
       "0.6758003858672721"
      ]
     },
     "execution_count": 104,
     "metadata": {},
     "output_type": "execute_result"
    }
   ],
   "source": [
    "X_train, X_test, y_train, y_test = train_test_split(X_pf, y, test_size=0.3, \n",
    "                                                    random_state=72018)\n",
    "\n",
    "X_train_s = s.fit_transform(X_train)\n",
    "las.fit(X_train_s, y_train)\n",
    "X_test_s = s.transform(X_test)\n",
    "y_pred = las.predict(X_test_s)\n",
    "r2_score(y_test, y_pred)"
   ]
  },
  {
   "cell_type": "code",
   "execution_count": 105,
   "metadata": {},
   "outputs": [
    {
     "name": "stderr",
     "output_type": "stream",
     "text": [
      "/home/godwin/Desktop/Organised/python/python/ML_Foundation/.venv/lib/python3.6/site-packages/sklearn/linear_model/_coordinate_descent.py:531: ConvergenceWarning: Objective did not converge. You might want to increase the number of iterations. Duality gap: 723.7617988633884, tolerance: 2.8510209378531077\n",
      "  positive)\n"
     ]
    },
    {
     "data": {
      "text/plain": [
       "0.8767831181713116"
      ]
     },
     "execution_count": 105,
     "metadata": {},
     "output_type": "execute_result"
    }
   ],
   "source": [
    "las01 = Lasso(alpha=0.01)\n",
    "X_train_s = s.fit_transform(X_train)\n",
    "las01.fit(X_train_s, y_train)\n",
    "X_test_s = s.transform(X_test)\n",
    "y_pred = las01.predict(X_test_s)\n",
    "r2_score(y_test, y_pred)\n"
   ]
  },
  {
   "cell_type": "code",
   "execution_count": 107,
   "metadata": {},
   "outputs": [
    {
     "name": "stdout",
     "output_type": "stream",
     "text": [
      "r2 score for alpha = 0.001: 0.9002589055378212\n",
      "r2 score for Linear Regression: 0.8667029116056754\n",
      "Magnitude of Lasso coefficients: 405.9847388422493\n",
      "Number of coeffients not equal to 0 for Lasso: 87\n",
      "Magnitude of Linear Regression coefficients: 1315.8819091561581\n",
      "Number of coeffients not equal to 0 for Linear Regression: 104\n"
     ]
    }
   ],
   "source": [
    "### BEGIN SOLUTION\n",
    "\n",
    "# Part 1\n",
    "\n",
    "# Decreasing regularization and ensuring convergence\n",
    "las001 = Lasso(alpha = 0.001, max_iter=1000000)\n",
    "\n",
    "# Transforming training set to get standardized units\n",
    "X_train_s = s.fit_transform(X_train)\n",
    "\n",
    "# Fitting model to training set\n",
    "las001.fit(X_train_s, y_train)\n",
    "\n",
    "# Transforming test set using the parameters defined from training set\n",
    "X_test_s = s.transform(X_test)\n",
    "\n",
    "# Finding prediction on test set\n",
    "y_pred = las001.predict(X_test_s)\n",
    "\n",
    "# Calculating r2 score\n",
    "print(\"r2 score for alpha = 0.001:\", r2_score(y_test, y_pred))\n",
    "\n",
    "\n",
    "# Part 2\n",
    "\n",
    "# Using vanilla Linear Regression\n",
    "lr = LinearRegression()\n",
    "\n",
    "# Fitting model to training set\n",
    "lr.fit(X_train_s, y_train)\n",
    "\n",
    "# predicting on test set\n",
    "y_pred_lr = lr.predict(X_test_s)\n",
    "\n",
    "# Calculating r2 score\n",
    "print(\"r2 score for Linear Regression:\", r2_score(y_pred_lr, y_test))\n",
    "\n",
    "\n",
    "# Part 3\n",
    "print('Magnitude of Lasso coefficients:', abs(las001.coef_).sum())\n",
    "print('Number of coeffients not equal to 0 for Lasso:', (las001.coef_!=0).sum())\n",
    "\n",
    "print('Magnitude of Linear Regression coefficients:', abs(lr.coef_).sum())\n",
    "print('Number of coeffients not equal to 0 for Linear Regression:', (lr.coef_!=0).sum())\n",
    "### END SOLUTION"
   ]
  },
  {
   "cell_type": "code",
   "execution_count": 108,
   "metadata": {},
   "outputs": [
    {
     "data": {
      "text/plain": [
       "array([ 1.09797689e+01, -3.60217581e+01,  6.93016842e+00, -3.18137721e+01,\n",
       "        5.31118617e+00, -1.06584483e+01,  1.12141083e+01,  2.05663121e+01,\n",
       "       -3.35112728e+01,  5.43999689e+01, -7.69577925e+00,  1.12813769e+01,\n",
       "       -3.22948467e-01, -1.11093372e+00,  2.25282348e+01, -9.60048196e-02,\n",
       "        1.79140514e+00, -2.72900363e+00,  2.30730538e-01,  3.93732400e+00,\n",
       "       -1.28301604e+00, -3.32304941e+00, -6.84500572e+00, -4.65535526e+00,\n",
       "       -1.10955772e+01,  4.37118537e+00,  8.53170589e-01, -4.15661488e-02,\n",
       "        4.44963759e+00,  1.44631391e+00, -6.58896375e+00,  1.23003979e+01,\n",
       "       -1.81881092e+00, -5.59011219e+00, -1.69031242e+01, -1.06059461e+01,\n",
       "        3.06504930e+01,  5.53176719e+00, -7.01549017e-02,  4.30678409e-01,\n",
       "        5.29209095e-01, -6.46903063e+00,  9.88506319e-01,  1.64803038e+00,\n",
       "        2.70192004e-01, -1.66047440e+00,  4.00784639e+00, -3.81407317e+00,\n",
       "       -1.44852741e+00,  8.44754015e+00, -3.33288132e-01,  3.26164547e+00,\n",
       "        1.35139640e+01,  6.21143848e+00,  1.92819443e+00,  1.84007131e+01,\n",
       "       -1.55724211e+00,  1.14127089e+00, -4.90504445e+00,  5.31118617e+00,\n",
       "       -3.39030544e+00, -8.14168915e+00,  1.55109278e+00,  2.12633732e-01,\n",
       "        1.49223819e+00, -2.34480573e+00,  2.29340773e+00, -8.46509728e-01,\n",
       "        8.11725406e+00,  2.09069147e-03, -9.79214953e+00,  2.00164283e+01,\n",
       "       -2.33293283e+01,  3.20275205e+01, -1.90748903e+01,  1.15478429e+01,\n",
       "        4.87791703e+00, -1.06150127e+01, -3.19923812e+00, -8.95094973e+00,\n",
       "       -1.81142220e+01, -4.97790849e+00, -1.07853428e+01,  4.74226798e-01,\n",
       "       -1.18786336e+00,  1.27754819e+01, -5.94700964e+00, -5.05187476e+00,\n",
       "       -3.61985234e+00,  1.28300074e+01,  3.45594649e-02, -9.48971254e-02,\n",
       "       -3.87099082e+00,  1.79741101e+00, -4.02204144e+01,  5.55283602e+01,\n",
       "       -4.59519604e+01, -8.35769420e+00, -7.36908281e+00,  1.11385773e+01,\n",
       "       -6.13283799e+00,  3.53391142e+00,  6.21528980e+00,  2.49776742e+00])"
      ]
     },
     "execution_count": 108,
     "metadata": {},
     "output_type": "execute_result"
    }
   ],
   "source": [
    "# Decreasing regularization and ensuring convergence\n",
    "r = Ridge(alpha = 0.001)\n",
    "X_train_s = s.fit_transform(X_train)\n",
    "r.fit(X_train_s, y_train)\n",
    "X_test_s = s.transform(X_test)\n",
    "y_pred_r = r.predict(X_test_s)\n",
    "\n",
    "# Calculating r2 score\n",
    "r.coef_"
   ]
  },
  {
   "cell_type": "code",
   "execution_count": 109,
   "metadata": {},
   "outputs": [
    {
     "data": {
      "text/plain": [
       "array([  2.424066  ,  -1.46491583,  -0.        , -18.49208886,\n",
       "         6.92006009,  -0.        ,  11.68817949,   7.56148614,\n",
       "       -21.86807177,   6.49089322,   0.        ,   2.51344865,\n",
       "         1.14574262,  -0.63833001,  12.22173519,   0.        ,\n",
       "         0.9838912 ,  -0.        ,  -3.61145614,   3.87561032,\n",
       "        -1.37364266,  -2.16380803,  -1.71000654,  -3.03042232,\n",
       "        -2.00699577,   5.02404151,   0.98808744,  -0.22955158,\n",
       "        -0.        ,   1.73125216, -10.12836564,   7.72184307,\n",
       "        -2.08471082,  -3.95703769,  -9.27374167,  -0.        ,\n",
       "        -0.        ,   4.6768419 ,   0.35135906,   0.34375749,\n",
       "        -0.        ,  -1.8533425 ,   0.        ,   1.28474503,\n",
       "        -0.        ,  -0.83865062,   2.29269442,  -0.09559198,\n",
       "        -1.30029116,   3.27566953,  -1.17336322,   6.2433131 ,\n",
       "         8.95823592,   4.52398432,   1.02980043,   6.15646845,\n",
       "         1.98405524,  -2.67978785,  -4.72781098,   0.79469846,\n",
       "        -2.46999458,  -7.76449522,   2.11149165,   1.11630516,\n",
       "        -0.74813843,  -0.        ,   0.34663786,  -0.92211226,\n",
       "         0.        ,  -1.02274001,  -2.22325688,   8.23038261,\n",
       "        -2.9533324 ,   0.        ,  -5.65715859,   6.64611492,\n",
       "         3.86371878,  -7.30344965,  -0.        ,  -6.99552567,\n",
       "       -14.80418719,  -5.81177765,  -9.07126941,  -0.61657301,\n",
       "        -0.21992905,   8.6583858 ,  -1.69958719,  -1.14047374,\n",
       "        -2.22527215,   8.63688942,   0.21921539,   0.6474525 ,\n",
       "        -0.97239239,   1.65893533, -20.00333161,  22.7785968 ,\n",
       "        -0.        ,  -7.02918325,  -0.        ,  15.01836865,\n",
       "        -6.93503789,   1.75213926,   4.31204996,   3.49089241])"
      ]
     },
     "execution_count": 109,
     "metadata": {},
     "output_type": "execute_result"
    }
   ],
   "source": [
    "las001.coef_"
   ]
  },
  {
   "cell_type": "markdown",
   "metadata": {},
   "source": [
    "**Conclusion:** Ridge does not make any coefficients 0. In addition, on this particular dataset, Lasso provides stronger overall regularization than Ridge for this value of `alpha` (not necessarily true in general).\n"
   ]
  },
  {
   "cell_type": "code",
   "execution_count": 110,
   "metadata": {},
   "outputs": [
    {
     "name": "stdout",
     "output_type": "stream",
     "text": [
      "928.1630966437301\n",
      "405.9847388422493\n",
      "104\n",
      "87\n"
     ]
    }
   ],
   "source": [
    "print(np.sum(np.abs(r.coef_)))\n",
    "print(np.sum(np.abs(las001.coef_)))\n",
    "\n",
    "print(np.sum(r.coef_ != 0))\n",
    "print(np.sum(las001.coef_ != 0))"
   ]
  },
  {
   "cell_type": "markdown",
   "metadata": {},
   "source": [
    "Does it matter when you scale?\n",
    "It doesn't matter whether you scale before or afterwards, in terms of the raw predictions, for Linear Regression. However, it matters for other algorithms. \n"
   ]
  },
  {
   "cell_type": "code",
   "execution_count": 111,
   "metadata": {},
   "outputs": [
    {
     "data": {
      "text/plain": [
       "0.6891282353293848"
      ]
     },
     "execution_count": 111,
     "metadata": {},
     "output_type": "execute_result"
    }
   ],
   "source": [
    "X_train, X_test, y_train, y_test = train_test_split(X_ss, y, test_size=0.3, \n",
    "                                                    random_state=72018)\n",
    "\n",
    "lr = LinearRegression()\n",
    "lr.fit(X_train, y_train)\n",
    "y_pred = lr.predict(X_test)\n",
    "r2_score(y_test, y_pred)"
   ]
  },
  {
   "cell_type": "code",
   "execution_count": 112,
   "metadata": {},
   "outputs": [
    {
     "data": {
      "text/plain": [
       "0.6891282353293848"
      ]
     },
     "execution_count": 112,
     "metadata": {},
     "output_type": "execute_result"
    }
   ],
   "source": [
    "X_train, X_test, y_train, y_test = train_test_split(X, y, test_size=0.3, \n",
    "                                                    random_state=72018)\n",
    "s = StandardScaler()\n",
    "lr_s = LinearRegression()\n",
    "X_train_s = s.fit_transform(X_train)\n",
    "lr_s.fit(X_train_s, y_train)\n",
    "X_test_s = s.transform(X_test)\n",
    "y_pred_s = lr_s.predict(X_test_s)\n",
    "r2_score(y_test, y_pred)"
   ]
  },
  {
   "cell_type": "code",
   "execution_count": null,
   "metadata": {},
   "outputs": [],
   "source": []
  }
 ],
 "metadata": {
  "kernelspec": {
   "display_name": "Python 3",
   "language": "python",
   "name": "python3"
  },
  "language_info": {
   "codemirror_mode": {
    "name": "ipython",
    "version": 3
   },
   "file_extension": ".py",
   "mimetype": "text/x-python",
   "name": "python",
   "nbconvert_exporter": "python",
   "pygments_lexer": "ipython3",
   "version": "3.6.10"
  }
 },
 "nbformat": 4,
 "nbformat_minor": 2
}
